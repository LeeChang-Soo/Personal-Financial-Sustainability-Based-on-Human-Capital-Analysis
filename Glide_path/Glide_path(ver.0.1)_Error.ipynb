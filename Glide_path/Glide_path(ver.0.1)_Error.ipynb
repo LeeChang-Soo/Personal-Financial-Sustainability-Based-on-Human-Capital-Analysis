{
 "cells": [
  {
   "cell_type": "code",
   "execution_count": 35,
   "metadata": {},
   "outputs": [],
   "source": [
    "import cvxpy as cp\n",
    "import pandas as pd\n",
    "import numpy as np\n",
    "import cplex\n",
    "import scipy.stats as stats"
   ]
  },
  {
   "cell_type": "code",
   "execution_count": 125,
   "metadata": {
    "collapsed": true
   },
   "outputs": [
    {
     "name": "stdout",
     "output_type": "stream",
     "text": [
      "----------------------------------------------------------------------------\n",
      "\tSCS v2.1.1 - Splitting Conic Solver\n",
      "\t(c) Brendan O'Donoghue, Stanford University, 2012\n",
      "----------------------------------------------------------------------------\n",
      "Lin-sys: sparse-direct, nnz in A = 180004\n",
      "eps = 1.00e-04, alpha = 1.50, max_iters = 5000, normalize = 1, scale = 1.00\n",
      "acceleration_lookback = 0, rho_x = 1.00e-03\n",
      "Variables n = 40002, constraints m = 120003\n",
      "Cones:\tprimal zero / dual free vars: 1\n",
      "\tlinear vars: 2\n",
      "\tsoc vars: 120000, soc blks: 40000\n",
      "WARN: aa_init returned NULL, no acceleration applied.\n",
      "Setup time: 6.74e-02s\n",
      "----------------------------------------------------------------------------\n",
      " Iter | pri res | dua res | rel gap | pri obj | dua obj | kap/tau | time (s)\n",
      "----------------------------------------------------------------------------\n",
      "     0| 1.42e+00  3.25e+03  7.26e-01 -2.93e+07 -4.65e+06  8.13e-09  1.59e-02 \n",
      "   100| 4.69e-03  1.32e+02  8.79e-01  6.10e+04  3.91e+03  1.09e-09  4.19e-01 \n",
      "   200| 4.30e-03  1.19e+02  8.74e-01  5.62e+04  3.77e+03  7.19e-10  8.21e-01 \n",
      "   300| 4.83e-03  1.27e+02  8.13e-01 -6.22e+04 -6.43e+03  2.51e-09  1.24e+00 \n",
      "   400| 3.32e-03  8.64e+01  7.58e-01 -3.68e+04 -5.06e+03  3.01e-09  1.63e+00 \n",
      "   500| 1.03e-03  9.83e+00  1.43e-03 -2.16e+03 -2.17e+03  4.86e-09  2.03e+00 \n",
      "   600| 2.79e-03  7.29e+01  1.00e+00  3.50e+04 -1.80e+02  2.88e-10  2.43e+00 \n",
      "   700| 2.42e-03  6.15e+01  1.00e+00  2.96e+04 -1.77e+03  4.52e-10  2.83e+00 \n",
      "   800| 2.88e-03  8.07e+01  7.41e-01 -3.73e+04 -5.55e+03  4.12e-10  3.23e+00 \n",
      "   900| 2.06e-03  5.70e+01  7.61e-01 -2.71e+04 -3.68e+03  1.15e-09  3.63e+00 \n",
      "  1000| 8.88e-04  2.57e+01  1.00e+00  1.07e+04 -1.05e+03  4.09e-09  4.02e+00 \n",
      "  1100| 3.11e-03  8.87e+01  9.93e-01  3.90e+04  1.40e+02  3.32e-10  4.42e+00 \n",
      "  1200| 1.01e-03  8.87e+00  1.00e+00  1.30e+02 -3.14e+03  2.02e-09  4.82e+00 \n",
      "  1300| 3.19e-03  8.38e+01  7.92e-01 -4.13e+04 -4.79e+03  1.47e-09  5.22e+00 \n",
      "  1400| 1.16e-03  2.62e+01  7.09e-01 -1.40e+04 -2.38e+03  1.04e-09  5.62e+00 \n",
      "  1500| 1.93e-03  5.42e+01  1.00e+00  2.31e+04 -1.03e+02  1.62e-09  6.02e+00 \n",
      "  1600| 2.85e-03  8.00e+01  1.00e+00  3.46e+04 -1.07e+02  1.67e-09  6.42e+00 \n",
      "  1700| 1.94e-03  4.84e+01  7.19e-01 -2.45e+04 -4.01e+03  4.13e-09  6.82e+00 \n",
      "  1800| 2.50e-03  6.91e+01  7.98e-01 -3.28e+04 -3.68e+03  5.75e-09  7.22e+00 \n",
      "  1900| 9.23e-05  2.76e+00  9.99e-01  6.25e+02 -1.23e+03  4.72e-09  7.62e+00 \n",
      "  2000| 2.55e-03  7.23e+01  9.67e-01  3.30e+04  5.50e+02  2.85e-10  8.04e+00 \n",
      "  2100| 1.46e-03  4.12e+01  1.00e+00  1.88e+04 -9.93e+02  1.83e-09  8.46e+00 \n",
      "  2200| 2.67e-03  7.48e+01  7.94e-01 -3.50e+04 -4.01e+03  2.31e-09  8.86e+00 \n",
      "  2300| 1.52e-03  4.22e+01  7.60e-01 -1.93e+04 -2.63e+03  1.11e-09  9.26e+00 \n",
      "  2400| 9.59e-04  2.67e+01  1.00e+00  1.23e+04 -5.16e+02  1.06e-09  9.65e+00 \n",
      "  2500| 2.43e-03  6.87e+01  9.79e-01  3.14e+04  3.32e+02  1.41e-09  1.01e+01 \n",
      "  2600| 3.01e-04  7.16e+00  2.86e-01 -3.98e+03 -2.21e+03  4.01e-10  1.05e+01 \n",
      "  2700| 2.31e-03  6.40e+01  7.99e-01 -3.04e+04 -3.38e+03  1.34e-09  1.09e+01 \n",
      "  2800| 6.55e-04  1.67e+01  6.79e-01 -8.54e+03 -1.63e+03  3.61e-09  1.13e+01 \n",
      "  2900| 1.64e-03  4.69e+01  9.83e-01  2.08e+04  1.75e+02  1.65e-09  1.17e+01 \n",
      "  3000| 1.88e-03  5.35e+01  1.00e+00  2.38e+04  4.34e+00  3.55e-10  1.21e+01 \n",
      "  3100| 1.51e-03  4.13e+01  7.59e-01 -1.99e+04 -2.73e+03  3.59e-09  1.25e+01 \n",
      "  3200| 1.67e-03  4.67e+01  7.82e-01 -2.12e+04 -2.59e+03  1.19e-09  1.29e+01 \n",
      "  3300| 3.92e-04  5.38e+00  1.00e+00  2.73e+03 -8.89e+02  1.53e-09  1.33e+01 \n",
      "  3400| 1.87e-03  5.03e+01  9.75e-01  2.39e+04  3.03e+02  1.25e-09  1.36e+01 \n",
      "  3500| 9.17e-04  1.88e+01  1.00e+00  9.62e+03 -8.52e+02  2.30e-09  1.40e+01 \n",
      "  3600| 1.72e-03  4.83e+01  7.88e-01 -2.22e+04 -2.64e+03  1.41e-09  1.45e+01 \n",
      "  3700| 1.02e-03  2.85e+01  7.63e-01 -1.34e+04 -1.80e+03  2.52e-10  1.49e+01 \n",
      "  3800| 8.25e-04  2.36e+01  1.00e+00  1.06e+04 -2.09e+02  5.10e-09  1.53e+01 \n",
      "  3900| 1.68e-03  4.77e+01  9.69e-01  2.17e+04  3.37e+02  3.09e-10  1.57e+01 \n",
      "  4000| 3.64e-04  9.68e+00  5.52e-01 -4.86e+03 -1.40e+03  1.55e-09  1.61e+01 \n",
      "  4100| 1.52e-03  4.20e+01  8.00e-01 -2.00e+04 -2.22e+03  2.89e-10  1.65e+01 \n",
      "  4200| 5.10e-04  8.79e+00  6.38e-01 -5.13e+03 -1.13e+03  2.48e-10  1.69e+01 \n",
      "  4300| 1.15e-03  3.24e+01  9.90e-01  1.40e+04  6.82e+01  5.45e-09  1.73e+01 \n",
      "  4400| 1.04e-03  2.93e+01  1.00e+00  1.28e+04 -1.28e+02  3.15e-09  1.77e+01 \n",
      "  4500| 9.38e-04  2.57e+01  7.64e-01 -1.24e+04 -1.65e+03  2.07e-09  1.81e+01 \n",
      "  4600| 1.07e-03  3.01e+01  7.87e-01 -1.38e+04 -1.65e+03  1.72e-09  1.85e+01 \n",
      "  4700| 2.42e-04  5.31e+00  1.00e+00  2.52e+03 -5.06e+02  1.10e-09  1.89e+01 \n",
      "  4800| 1.22e-03  3.37e+01  9.62e-01  1.58e+04  3.02e+02  1.80e-09  1.92e+01 \n",
      "  4900| 4.01e-04  9.51e+00  1.00e+00  4.69e+03 -4.35e+02  3.25e-10  1.96e+01 \n",
      "  5000| 1.08e-03  2.93e+01  8.05e-01 -1.41e+04 -1.52e+03  3.00e-10  2.01e+01 \n",
      "----------------------------------------------------------------------------\n",
      "Status: Solved/Inaccurate\n",
      "Hit max_iters, solution may be inaccurate\n",
      "Timing: Solve time: 2.01e+01s\n",
      "\tLin-sys: nnz in L factor: 380010, avg solve time: 1.21e-03s\n",
      "\tCones: avg projection time: 4.61e-04s\n",
      "\tAcceleration: avg step time: 2.76e-08s\n",
      "----------------------------------------------------------------------------\n",
      "Error metrics:\n",
      "dist(s, K) = 2.9104e-11, dist(y, K*) = 2.7756e-17, s'y/|s||y| = 2.4171e-21\n",
      "primal res: |Ax + s - b|_2 / (1 + |b|_2) = 1.0754e-03\n",
      "dual res:   |A'y + c|_2 / (1 + |c|_2) = 2.9272e+01\n",
      "rel gap:    |c'x + b'y| / (1 + |c'x| + |b'y|) = 8.0499e-01\n",
      "----------------------------------------------------------------------------\n",
      "c'x = -14093.5294, -b'y = -1522.1932\n",
      "============================================================================\n",
      "[357.  104.8]\n"
     ]
    }
   ],
   "source": [
    "x_n = 2\n",
    "n = 20000\n",
    "gamma = 3\n",
    "rho = 0.6\n",
    "\n",
    "np.random.seed(x_n)\n",
    "\n",
    "market_ = np.random.randn(n, 30)\n",
    "brownian_ = np.random.randn(n, 30)\n",
    "hc_ = rho * market_ + np.sqrt(1 - rho ** 2) * brownian_\n",
    "\n",
    "risky_ret = cp.exp(0.1+(0.5*(0.20**2))+0.20*market_[:, 0])\n",
    "rf_ret = cp.exp(0.05*np.ones(market_[:, 0].shape))\n",
    "\n",
    "h_ret = 5000*np.cumprod(np.exp(0.04+0.03*(rho * market_ + np.sqrt(1 - rho ** 2) * brownian_)), axis=1)\n",
    "dc_rate = cp.exp((0.04 + 0.04) * (np.array(range(30)) + 1) * (-1))\n",
    "\n",
    "x = cp.Variable(2)\n",
    "\n",
    "W_t = (1000+5000*0.3)*(cp.bmat([risky_ret, rf_ret]).T @ x)\n",
    "H_t = h_ret @ dc_rate\n",
    "\n",
    "obj = cp.sum(((W_t+H_t)**(1-gamma)) / (1-gamma))*(-1)\n",
    "# obj = (1-gamma)*cp.log(W_t+H_t) - cp.log(1-gamma)\n",
    "cons = [cp.sum(x) == 1, x >= 0]#, W_t == (1000+5000*0.3)*(cp.bmat([risky_ret, rf_ret]).T @ x)]\n",
    "\n",
    "prob = cp.Problem(cp.Minimize(obj), cons)\n",
    "prob.solve(cp.SCS, verbose=True)\n",
    "print(np.round(x.value, 3)*100)"
   ]
  },
  {
   "cell_type": "code",
   "execution_count": null,
   "metadata": {},
   "outputs": [],
   "source": []
  },
  {
   "cell_type": "code",
   "execution_count": 45,
   "metadata": {},
   "outputs": [],
   "source": [
    "from scipy.optimize import minimize"
   ]
  },
  {
   "cell_type": "code",
   "execution_count": null,
   "metadata": {},
   "outputs": [],
   "source": [
    "x_n = 2\n",
    "n = 20000\n",
    "gamma = 10\n",
    "rho = 0.6\n",
    "\n",
    "np.random.seed(x_n)\n",
    "\n",
    "market_ = np.random.randn(n, 30)\n",
    "brownian_ = np.random.randn(n, 30)\n",
    "hc_ = rho * market_ + np.sqrt(1 - rho ** 2) * brownian_\n",
    "\n",
    "risky_ret = cp.exp(0.1+(0.5*(0.20**2))+0.20*market_[:, 0])\n",
    "rf_ret = cp.exp(0.05*np.ones(market_[:, 0].shape))\n",
    "\n",
    "h_ret = 5000*np.cumprod(np.exp(0.04+0.03*(rho * market_ + np.sqrt(1 - rho ** 2) * brownian_)), axis=1)\n",
    "dc_rate = cp.exp((0.04 + 0.04) * (np.array(range(30)) + 1) * (-1))\n",
    "\n",
    "x = cp.Variable(2)\n",
    "\n",
    "W_t = (1000+5000*0.3)*(cp.bmat([risky_ret, rf_ret]).T @ x)\n",
    "H_t = h_ret @ dc_rate\n",
    "\n",
    "obj = cp.sum((W_t+H_t))# **(1-gamma) / (1-gamma)) / n\n",
    "# obj = (1-gamma)*cp.log(W_t+H_t) - cp.log(1-gamma)\n",
    "cons = [cp.sum(x) == 1, x >= 0]#, W_t == (1000+5000*0.3)*(cp.bmat([risky_ret, rf_ret]).T @ x)]\n",
    "\n",
    "prob = cp.Problem(cp.Maximize(obj), cons)\n",
    "prob.solve(cp.CPLEX, verbose=True)\n",
    "print(np.round(x.value, 3)*100)"
   ]
  },
  {
   "cell_type": "code",
   "execution_count": null,
   "metadata": {},
   "outputs": [],
   "source": []
  },
  {
   "cell_type": "code",
   "execution_count": null,
   "metadata": {},
   "outputs": [],
   "source": []
  },
  {
   "cell_type": "code",
   "execution_count": 115,
   "metadata": {
    "scrolled": false
   },
   "outputs": [],
   "source": [
    "gamma = 10\n",
    "period = 5\n",
    "initial_wealth = 100000\n",
    "initial_income = 10000\n",
    "x_n = 1"
   ]
  },
  {
   "cell_type": "code",
   "execution_count": 117,
   "metadata": {},
   "outputs": [
    {
     "data": {
      "text/plain": [
       "array([0.28419502, 0.71580498])"
      ]
     },
     "execution_count": 117,
     "metadata": {},
     "output_type": "execute_result"
    }
   ],
   "source": [
    "def obj(x, x_n, n, rho, gamma):\n",
    "    np.random.seed(x_n)\n",
    "\n",
    "    market_ = stats.norm.rvs(size=(n, period), loc=0, scale=1)\n",
    "    brownian_ = stats.norm.rvs(size=(n, period), loc=0, scale=1)\n",
    "    hc_ = rho * market_ + np.sqrt(1 - rho ** 2) * brownian_\n",
    "\n",
    "    risky_ret = np.exp(0.1+(0.5*(0.20**2))+0.20*market_[:, 0])\n",
    "    rf_ret = np.exp(0.05*np.ones(market_[:, 0].shape))\n",
    "\n",
    "    h_ret = initial_income*np.cumprod(np.exp(0.04+0.03*(rho * market_ + np.sqrt(1 - rho ** 2) * brownian_)), axis=1)\n",
    "    dc_rate = np.exp((0.04 + 0.04) * (np.array(range(period)) + 1) * (-1))\n",
    "\n",
    "    W_t = (initial_wealth+(initial_income*0.3))*(np.array([risky_ret, rf_ret]).T @ x)\n",
    "    H_t = h_ret @ dc_rate\n",
    "    \n",
    "    obj = (((W_t+H_t) ** (1-gamma)) / (1-gamma)) * (-1)\n",
    "    \n",
    "    return np.mean(obj)\n",
    "\n",
    "x = np.zeros([2])\n",
    "cons = ({'type': 'ineq', 'fun': lambda x: 1 - np.sum(x)},\n",
    "        {'type': 'ineq', 'fun': lambda x: x},)\n",
    "optimized = minimize(obj, x, (x_n, n, rho, gamma), method='COBYLA', \n",
    "                     constraints=cons)\n",
    "if not optimized.success: raise BaseException(optimized.message)\n",
    "optimized.x"
   ]
  },
  {
   "cell_type": "code",
   "execution_count": null,
   "metadata": {},
   "outputs": [],
   "source": []
  },
  {
   "cell_type": "code",
   "execution_count": null,
   "metadata": {},
   "outputs": [],
   "source": []
  },
  {
   "cell_type": "code",
   "execution_count": null,
   "metadata": {},
   "outputs": [],
   "source": [
    "def max_utility(sample_size, period, market_ret, market_sigma, ):\n",
    "    def obj(x, n, rho, gamma, period):\n",
    "        np.random.seed(1)\n",
    "\n",
    "        market_ = stats.norm.rvs(size=(sample_size, period), loc=0, scale=1)\n",
    "        brownian_ = stats.norm.rvs(size=(sample_size, period), loc=0, scale=1)\n",
    "        hc_ = rho * market_ + np.sqrt(1 - rho ** 2) * brownian_\n",
    "\n",
    "        risky_ret = np.exp():+(0.5*(market_sigma**2))+market_sigma*market_[:, 0])\n",
    "        rf_ret = np.exp(0.05*np.ones(market_[:, 0].shape))\n",
    "\n",
    "        h_ret = initial_income*np.cumprod(np.exp(0.04+0.03*(rho * market_ + np.sqrt(1 - rho ** 2) * brownian_)), axis=1)\n",
    "        dc_rate = np.exp((0.04 + 0.04) * (np.array(range(period)) + 1) * (-1))\n",
    "\n",
    "        W_t = (initial_wealth+(initial_income*0.3))*(np.array([risky_ret, rf_ret]).T @ x)\n",
    "        H_t = h_ret @ dc_rate\n",
    "\n",
    "        obj = (((W_t+H_t) ** (1-gamma)) / (1-gamma)) * (-1)\n",
    "\n",
    "        return np.mean(obj)\n",
    "\n",
    "    x = np.zeros([2])\n",
    "    cons = ({'type': 'ineq', 'fun': lambda x: 1 - np.sum(x)},\n",
    "            {'type': 'ineq', 'fun': lambda x: x},)\n",
    "    optimized = minimize(obj, x, (x_n, n, rho, gamma, period), method='COBYLA', \n",
    "                         constraints=cons)\n",
    "    if not optimized.success: raise BaseException(optimized.message)\n",
    "    return optimized.x"
   ]
  }
 ],
 "metadata": {
  "kernelspec": {
   "display_name": "Python 3",
   "language": "python",
   "name": "python3"
  },
  "language_info": {
   "codemirror_mode": {
    "name": "ipython",
    "version": 3
   },
   "file_extension": ".py",
   "mimetype": "text/x-python",
   "name": "python",
   "nbconvert_exporter": "python",
   "pygments_lexer": "ipython3",
   "version": "3.7.4"
  }
 },
 "nbformat": 4,
 "nbformat_minor": 2
}
