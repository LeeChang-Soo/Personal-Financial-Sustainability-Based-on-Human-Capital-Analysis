{
 "cells": [
  {
   "cell_type": "code",
   "execution_count": 1,
   "metadata": {},
   "outputs": [],
   "source": [
    "import pandas as pd\n",
    "import numpy as np\n",
    "import scipy.stats as stats\n",
    "from scipy.optimize import minimize"
   ]
  },
  {
   "cell_type": "code",
   "execution_count": 157,
   "metadata": {
    "scrolled": false
   },
   "outputs": [],
   "source": [
    "n = 20000\n",
    "period = 2\n",
    "\n",
    "gamma = 2\n",
    "rho = 0.2\n",
    "\n",
    "market_mu = 0.12\n",
    "market_sigma = 0.3\n",
    "\n",
    "rf_mu = 0.04\n",
    "rf_sigma = 0.01\n",
    "\n",
    "initial_wealth = 100000\n",
    "initial_income = 15000"
   ]
  },
  {
   "cell_type": "code",
   "execution_count": 171,
   "metadata": {
    "scrolled": false
   },
   "outputs": [],
   "source": [
    "def max_utility(n, period, rho, gamma, market_mu, market_sigma, rf_mu, rf_sigma):\n",
    "    def obj(weight, n, period, rho, gamma, market_mu, market_sigma, rf_mu, rf_sigma):\n",
    "        np.random.seed(1)\n",
    "\n",
    "        market_ = stats.norm.rvs(size=(n, period), loc=0, scale=1)\n",
    "        rf_ = stats.norm.rvs(size=(n, period), loc=0, scale=1)\n",
    "        brownian_ = stats.norm.rvs(size=(n, period), loc=0, scale=1)\n",
    "        hc_ = rho * market_ + np.sqrt(1 - rho ** 2) * brownian_\n",
    "\n",
    "        risky_ret = np.exp(market_mu+(0.5*(market_sigma**2))+market_sigma*market_[:, 0])\n",
    "        rf_ret = np.exp(rf_mu+(0.5*(rf_sigma**2))+rf_sigma*rf_[:, 0])\n",
    "        #rf_ret = np.exp(rf_mu*np.ones(market_[:, 0].shape))\n",
    "\n",
    "        h_ret = initial_income*np.cumprod(np.exp(0.04+0.03*(rho * market_ + np.sqrt(1 - rho ** 2) * brownian_)), axis=1)\n",
    "        dc_rate = np.exp((0.04 + 0.04 + 0.9) * (np.array(range(period)) + 1) * (-1))\n",
    "\n",
    "        W_t = (initial_wealth+(initial_income*0.3))*(np.array([risky_ret, rf_ret]).T @ weight)\n",
    "        H_t = h_ret @ dc_rate\n",
    "\n",
    "        if gamma == 1:\n",
    "            obj = np.log(W_t+H_t) * (-1)\n",
    "        else:\n",
    "            obj = (((W_t+H_t) ** (1-gamma)) / (1-gamma)) * (-1)\n",
    "\n",
    "        return np.mean(obj)\n",
    "\n",
    "    x = np.ones([2]) / 2\n",
    "    cons = ({'type': 'ineq', 'fun': lambda x: 1 - np.sum(x)},\n",
    "            {'type': 'ineq', 'fun': lambda x: x},)\n",
    "    optimized = minimize(obj, x, (n, period, rho, gamma, market_mu, market_sigma, rf_mu, rf_sigma), method='COBYLA', \n",
    "                         constraints=cons)\n",
    "    if not optimized.success: raise BaseException(optimized.message)\n",
    "    return optimized.x"
   ]
  },
  {
   "cell_type": "code",
   "execution_count": 172,
   "metadata": {},
   "outputs": [
    {
     "data": {
      "text/plain": [
       "array([1., 0.])"
      ]
     },
     "execution_count": 172,
     "metadata": {},
     "output_type": "execute_result"
    }
   ],
   "source": [
    "max_utility(n, period, rho, gamma, market_mu, market_sigma, rf_mu, rf_sigma)"
   ]
  },
  {
   "cell_type": "code",
   "execution_count": null,
   "metadata": {},
   "outputs": [],
   "source": []
  },
  {
   "cell_type": "code",
   "execution_count": null,
   "metadata": {},
   "outputs": [],
   "source": []
  },
  {
   "cell_type": "code",
   "execution_count": 160,
   "metadata": {},
   "outputs": [
    {
     "data": {
      "text/plain": [
       "array([1., 0.])"
      ]
     },
     "execution_count": 160,
     "metadata": {},
     "output_type": "execute_result"
    }
   ],
   "source": [
    "def obj(W, n, rho, gamma):\n",
    "    np.random.seed(1)\n",
    "\n",
    "    market_ = stats.norm.rvs(size=(n, period), loc=0, scale=1)\n",
    "    rf_ = stats.norm.rvs(size=(n, period), loc=0, scale=1)\n",
    "    brownian_ = stats.norm.rvs(size=(n, period), loc=0, scale=1)\n",
    "    hc_ = rho * market_ + np.sqrt(1 - rho ** 2) * brownian_\n",
    "\n",
    "    risky_ret = np.exp(market_mu+(0.5*(market_sigma**2))+market_sigma*market_[:, 0])\n",
    "    rf_ret = np.exp(rf_mu+(0.5*(rf_sigma**2))+rf_sigma*rf_[:, 0])\n",
    "    #rf_ret = np.exp(rf_mu*np.ones(market_[:, 0].shape))\n",
    "\n",
    "    h_ret = initial_income*np.cumprod(np.exp(0.04+0.03*(rho * market_ + np.sqrt(1 - rho ** 2) * brownian_)), axis=1)\n",
    "    dc_rate = np.exp((0.04 + 0.04 + 0.9) * (np.array(range(period)) + 1) * (-1))\n",
    "    \n",
    "    W_t = (initial_wealth+(initial_income*0.3))*(np.array([risky_ret, rf_ret]).T @ W)\n",
    "    H_t = h_ret @ dc_rate\n",
    "    \n",
    "    #obj = (((W_t+H_t) ** (1-gamma)) / (1-gamma)) * (-1)\n",
    "    if gamma == 1:\n",
    "        obj = np.log(W_t+H_t) * (-1)\n",
    "    else:\n",
    "        obj = (((W_t+H_t) ** (1-gamma)) / (1-gamma)) * (-1)\n",
    "    \n",
    "    return np.mean(obj)\n",
    "\n",
    "x = np.ones([2]) / 2\n",
    "cons = ({'type': 'ineq', 'fun': lambda x: 1 - np.sum(x)},\n",
    "        {'type': 'ineq', 'fun': lambda x: x},)\n",
    "optimized = minimize(obj, x, (n, rho, gamma), method='COBYLA', \n",
    "                     constraints=cons)\n",
    "if not optimized.success: raise BaseException(optimized.message)\n",
    "optimized.x"
   ]
  },
  {
   "cell_type": "code",
   "execution_count": null,
   "metadata": {},
   "outputs": [],
   "source": []
  },
  {
   "cell_type": "code",
   "execution_count": null,
   "metadata": {},
   "outputs": [],
   "source": []
  },
  {
   "cell_type": "code",
   "execution_count": null,
   "metadata": {},
   "outputs": [],
   "source": []
  },
  {
   "cell_type": "code",
   "execution_count": null,
   "metadata": {},
   "outputs": [],
   "source": []
  },
  {
   "cell_type": "code",
   "execution_count": null,
   "metadata": {},
   "outputs": [],
   "source": []
  },
  {
   "cell_type": "code",
   "execution_count": null,
   "metadata": {},
   "outputs": [],
   "source": []
  },
  {
   "cell_type": "code",
   "execution_count": null,
   "metadata": {},
   "outputs": [],
   "source": []
  },
  {
   "cell_type": "code",
   "execution_count": null,
   "metadata": {},
   "outputs": [],
   "source": []
  },
  {
   "cell_type": "code",
   "execution_count": null,
   "metadata": {},
   "outputs": [],
   "source": [
    "def max_utility(sample_size, period, market_ret, market_sigma, ):\n",
    "    def obj(x, n, rho, gamma, period):\n",
    "        np.random.seed(1)\n",
    "\n",
    "        market_ = stats.norm.rvs(size=(sample_size, period), loc=0, scale=1)\n",
    "        brownian_ = stats.norm.rvs(size=(sample_size, period), loc=0, scale=1)\n",
    "        hc_ = rho * market_ + np.sqrt(1 - rho ** 2) * brownian_\n",
    "\n",
    "        risky_ret = np.exp():+(0.5*(market_sigma**2))+market_sigma*market_[:, 0])\n",
    "        rf_ret = np.exp(0.05*np.ones(market_[:, 0].shape))\n",
    "\n",
    "        h_ret = initial_income*np.cumprod(np.exp(0.04+0.03*(rho * market_ + np.sqrt(1 - rho ** 2) * brownian_)), axis=1)\n",
    "        dc_rate = np.exp((0.04 + 0.04) * (np.array(range(period)) + 1) * (-1))\n",
    "\n",
    "        W_t = (initial_wealth+(initial_income*0.3))*(np.array([risky_ret, rf_ret]).T @ x)\n",
    "        H_t = h_ret @ dc_rate\n",
    "\n",
    "        obj = (((W_t+H_t) ** (1-gamma)) / (1-gamma)) * (-1)\n",
    "\n",
    "        return np.mean(obj)\n",
    "\n",
    "    x = np.zeros([2])\n",
    "    cons = ({'type': 'ineq', 'fun': lambda x: 1 - np.sum(x)},\n",
    "            {'type': 'ineq', 'fun': lambda x: x},)\n",
    "    optimized = minimize(obj, x, (x_n, n, rho, gamma, period), method='COBYLA', \n",
    "                         constraints=cons)\n",
    "    if not optimized.success: raise BaseException(optimized.message)\n",
    "    return optimized.x"
   ]
  }
 ],
 "metadata": {
  "kernelspec": {
   "display_name": "Python 3",
   "language": "python",
   "name": "python3"
  },
  "language_info": {
   "codemirror_mode": {
    "name": "ipython",
    "version": 3
   },
   "file_extension": ".py",
   "mimetype": "text/x-python",
   "name": "python",
   "nbconvert_exporter": "python",
   "pygments_lexer": "ipython3",
   "version": "3.7.4"
  }
 },
 "nbformat": 4,
 "nbformat_minor": 2
}
