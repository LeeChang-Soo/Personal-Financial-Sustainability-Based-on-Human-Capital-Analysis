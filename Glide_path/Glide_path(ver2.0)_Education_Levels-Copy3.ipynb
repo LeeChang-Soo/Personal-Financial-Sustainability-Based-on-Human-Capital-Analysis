{
 "cells": [
  {
   "cell_type": "code",
   "execution_count": 1,
   "metadata": {},
   "outputs": [],
   "source": [
    "import pandas as pd\n",
    "import numpy as np\n",
    "import scipy.stats as stats\n",
    "from scipy.optimize import minimize\n",
    "import matplotlib.pyplot as plt"
   ]
  },
  {
   "cell_type": "code",
   "execution_count": 2,
   "metadata": {},
   "outputs": [],
   "source": [
    "class Maximize(object):\n",
    "    period = 30\n",
    "    #np.random.seed(period)\n",
    "\n",
    "    \n",
    "    def __init__(self, n, rho, gamma):\n",
    "        self.n = n\n",
    "        self.rho = rho\n",
    "        self.gamma = gamma\n",
    "        \n",
    "        \n",
    "    def MC_data(self):\n",
    "        self.market_ = stats.norm.rvs(size=(self.n, self.period+1), loc=0, scale=1)\n",
    "        self.rf_ = stats.norm.rvs(size=(self.n, self.period+1), loc=0, scale=1)\n",
    "        self.brownian_ = stats.norm.rvs(size=(self.n, self.period+1), loc=0, scale=1)\n",
    "        self.hc_ = self.rho * self.market_ + np.sqrt(1 - self.rho ** 2) * self.brownian_\n",
    "\n",
    "        \n",
    "    def get_original_H(self, hc_mu, hc_sigma):\n",
    "        dc_rate = np.exp((0.04 + 0.0 + 0.0) * (np.array(range(self.period)) + 1) * (-1))\n",
    "        \n",
    "        if self.period == 0:\n",
    "            self.labor_income = np.zeros([self.n, self.period+1])\n",
    "            self.H_t = np.zeros([self.n])\n",
    "        else:\n",
    "            self.labor_income = self.initial_income*np.cumprod(np.exp(hc_mu+hc_sigma*(self.rho * self.market_[:, :-1] + np.sqrt(1 - self.rho ** 2) * self.hc_[:, :-1])), axis=1)\n",
    "            self.H_t = self.labor_income @ dc_rate\n",
    "    \n",
    "    \n",
    "    def get_asset_ret(self, market_mu, market_sigma, rf_mu, rf_sigma):\n",
    "        risky_ret = np.exp(market_mu+(0.5*(market_sigma**2))+market_sigma*self.market_[:, 0])\n",
    "        rf_ret = np.exp(rf_mu+(0.5*(rf_sigma**2))+rf_sigma*self.rf_[:, 0])\n",
    "        #rf_ret = np.exp(rf_mu*np.ones(market_[:, 0].shape))\n",
    "        \n",
    "        self.R_t =  np.array([risky_ret, rf_ret]).T\n",
    "    \n",
    "    \n",
    "    def fit(self):\n",
    "        def obj(weight, gamma):\n",
    "            W_t = (self.initial_wealth+(self.initial_income*0.3))*(self.R_t @ weight)\n",
    "\n",
    "            if self.gamma == 1:\n",
    "                obj = np.log(W_t+self.H_t) * (-1)\n",
    "            else:\n",
    "                obj = (((W_t+self.H_t) ** (1-self.gamma)) / (1-self.gamma)) * (-1)\n",
    "\n",
    "            return np.mean(obj)\n",
    "\n",
    "        x = np.ones([self.R_t.shape[1]]) / self.R_t.shape[1]\n",
    "        cons = ({'type': 'ineq', 'fun': lambda x: 1 - np.sum(x)},\n",
    "                {'type': 'ineq', 'fun': lambda x: x},)\n",
    "        optimized = minimize(obj, x, (self.gamma), method='COBYLA', constraints=cons)\n",
    "        if not optimized.success: raise BaseException(optimized.message)\n",
    "        return np.round(optimized.x, 4)\n",
    "    \n",
    "        \n",
    "    def change_parameters(self, period, initial_wealth, initial_income):\n",
    "        self.period = period\n",
    "        self.initial_wealth = initial_wealth\n",
    "        self.initial_income = initial_income"
   ]
  },
  {
   "cell_type": "code",
   "execution_count": 3,
   "metadata": {},
   "outputs": [],
   "source": [
    "class Maximize_Calibraton(object):\n",
    "    period = 30\n",
    "    #np.random.seed(period)\n",
    "    retirement_age = 60\n",
    "\n",
    "    \n",
    "    def __init__(self, n, gamma, aggregate_risk, corr=None, rho=None):\n",
    "        self.n = n\n",
    "        self.corr = corr\n",
    "        self.rho = rho\n",
    "        self.gamma = gamma\n",
    "        self.aggregate_risk = aggregate_risk\n",
    "        \n",
    "            \n",
    "    def MC_data(self):\n",
    "        self.market_ = stats.norm.rvs(size=(self.n, self.period+2), loc=0, scale=1)\n",
    "        self.rf_ = stats.norm.rvs(size=(self.n, self.period+2), loc=0, scale=1)\n",
    "        self.brownian_ = stats.norm.rvs(size=(self.n, self.period+2), loc=0, scale=1)\n",
    "        self.hc_ = self.aggregate_risk*(self.rho * self.market_ + np.sqrt(1 - self.rho ** 2) * self.brownian_)\n",
    "        \n",
    "        \n",
    "    def MC_multi_data(self):\n",
    "        self.brownian_ = np.random.multivariate_normal(np.zeros([self.corr.shape[0]]), self.corr, size=(self.n, self.period+2))\n",
    "        self.market_ = self.brownian_[:, 0, 1:]\n",
    "        self.hc_ = self.aggregate_risk*self.brownian_[:, :, :1].reshape(self.n, self.period+2)\n",
    "\n",
    "\n",
    "    def get_calibration_H(self, fixed_effect_coeff, age_coeff_list):\n",
    "        dc_rate = np.exp((0.04 + 0.0 + 0.0) * (np.array(range(self.period+1)) + 1) * (-1))\n",
    "        age_list = np.array(list(range(self.retirement_age-(self.period+1), self.retirement_age)))\n",
    "\n",
    "        after_retire_H_t = np.exp(fixed_effect_coeff) / (1-dc_rate[0])\n",
    "        if self.period == 0:\n",
    "            self.labor_income = np.exp(fixed_effect_coeff)\n",
    "            self.H_t = after_retire_H_t\n",
    "        else:\n",
    "            ic_list = fixed_effect_coeff + (age_list * age_coeff_list[0]) + ((age_list**2 /10) * age_coeff_list[1]) + ((age_list**3/100) * age_coeff_list[2])\n",
    "            self.labor_income = np.exp(np.array([ic_list]*self.n)  + self.hc_[:, :-1])\n",
    "            self.H_t = self.labor_income @ dc_rate + (after_retire_H_t * dc_rate[-1])\n",
    "\n",
    "    \n",
    "    def get_asset_ret(self, market_mu, market_sigma, rf_mu, rf_sigma):\n",
    "        risky_ret = np.exp(market_mu+(0.5*(market_sigma**2))+market_sigma*self.market_[:, 0])\n",
    "        rf_ret = np.exp(rf_mu+(0.5*(rf_sigma**2))+rf_sigma*self.rf_[:, 0])\n",
    "        #rf_ret = np.exp(rf_mu*np.ones(market_[:, 0].shape))\n",
    "        \n",
    "        self.R_t =  np.array([risky_ret, rf_ret]).T\n",
    "        \n",
    "        \n",
    "    def get_multiasset_ret(self, asset_data):\n",
    "        self.asset_mu = asset_data.mean().value\n",
    "        self.asset_std = asset_data.std().value\n",
    "        \n",
    "        self.R_t = np.exp(np.ones(self.market_.shape)*self.asset_mu + (0.5*(np.ones(self.market_.shape)*self.asset_std)**2) + (self.asset_std*self.market_))\n",
    "    \n",
    "    \n",
    "    def fit(self):\n",
    "        def obj(weight, gamma):\n",
    "            W_t = (self.initial_wealth+(self.initial_income*0.3))*(self.R_t @ weight)\n",
    "\n",
    "            if self.gamma == 1:\n",
    "                obj = np.log(W_t+self.H_t) * (-1)\n",
    "            else:\n",
    "                obj = (((W_t+self.H_t) ** (1-self.gamma)) / (1-self.gamma)) * (-1)\n",
    "\n",
    "            return np.mean(obj)\n",
    "\n",
    "        x = np.ones([self.R_t.shape[1]]) / self.R_t.shape[1]\n",
    "        cons = ({'type': 'ineq', 'fun': lambda x: 1 - np.sum(x)},\n",
    "                {'type': 'ineq', 'fun': lambda x: x},)\n",
    "        optimized = minimize(obj, x, (self.gamma), method='COBYLA', constraints=cons)\n",
    "        if not optimized.success: raise BaseException(optimized.message)\n",
    "        return np.round(optimized.x, 4)\n",
    "    \n",
    "        \n",
    "    def change_parameters(self, period, initial_wealth, initial_income, retirement_age=60):\n",
    "        self.period = period\n",
    "        self.initial_wealth = initial_wealth\n",
    "        self.initial_income = initial_income\n",
    "        self.retirement_age = retirement_age"
   ]
  },
  {
   "cell_type": "code",
   "execution_count": 4,
   "metadata": {},
   "outputs": [],
   "source": [
    "def lc_asset_allocation(asset_dic, group_characherize_dic, sample_size=20000, gamma=4):\n",
    "    np.random.seed(30)\n",
    "\n",
    "    lc_weights = []\n",
    "    lc_labor_income = []\n",
    "    lc_wealth = []\n",
    "    model = Maximize_Calibraton(n=sample_size, rho=group_characherize_data[\"rho\"], gamma=gamma, aggregate_risk=group_characherize_data[\"aggregate_risk\"])\n",
    "    for i in range(35)[::-1]:\n",
    "\n",
    "        if i is range(35)[::-1][0]:\n",
    "            financial_wealth = group_characherize_data[\"initial_wealth\"]\n",
    "            income = group_characherize_data[\"initial_income\"]\n",
    "            model.change_parameters(i, financial_wealth, income)\n",
    "        else:\n",
    "            financial_wealth = (model.initial_wealth + np.mean(model.labor_income[:, 0]) * 0.3) * np.mean(model.R_t @ model.fit())\n",
    "            income = np.mean(model.labor_income[:, 0])\n",
    "            model.change_parameters(i, financial_wealth, income)\n",
    "\n",
    "        model.MC_data()\n",
    "        model.get_calibration_H(fixed_effect_coeff=group_characherize_data[\"fixed_effect_coeff\"], age_coeff_list=group_characherize_data[\"age_coeff_list\"])\n",
    "        model.get_asset_ret(market_mu=asset_data[\"risky\"][0], market_sigma=asset_data[\"risky\"][1], \n",
    "                            rf_mu=asset_data[\"rf\"][0], rf_sigma=asset_data[\"rf\"][1])\n",
    "        opt_weights = model.fit()\n",
    "\n",
    "        lc_weights.append(opt_weights)\n",
    "        lc_labor_income.append(np.round(income))\n",
    "        lc_wealth.append(np.round(financial_wealth))\n",
    "        #print(model.period, opt_weights * 100, np.round(financial_wealth), np.round(income))\n",
    "\n",
    "        #print(model.period, model.fit() * 100, np.round(model.initial_wealth), np.round(np.mean(model.labor_income[:, 0])))\n",
    "\n",
    "    lc_df = pd.DataFrame(lc_weights, columns=[\"risky_asset\", \"risk_free\"]) * 100\n",
    "    lc_total_df = pd.DataFrame(np.array([lc_labor_income, lc_wealth]).T, index=range(35)[::-1], columns=[\"labor_income\", \"financial_wealth\"])\n",
    "    \n",
    "    return lc_df, lc_total_df\n",
    "\n",
    "\n",
    "def data_plotting(lc_total_df):\n",
    "    fig = plt.figure(figsize=(10, 5))\n",
    "    ax = fig.add_subplot(111)\n",
    "\n",
    "    ln1 = ax.plot(lc_total_df.index[::-1], lc_total_df.labor_income, color=\"b\", label=\"labor_income\")\n",
    "    ax2 = ax.twinx()\n",
    "    ln2 = ax2.plot(lc_total_df.index[::-1], lc_total_df.financial_wealth, color=\"r\", linestyle=\"--\", label=\"financial_wealth\")\n",
    "\n",
    "    lns = ln1+ln2\n",
    "    labs = [l.get_label() for l in lns]\n",
    "    ax.legend(lns, labs)\n",
    "\n",
    "    plt.show()\n",
    "    \n",
    "\n",
    "def lc_weights_plot(lc_df):\n",
    "    plt.figure(figsize=(10, 5))\n",
    "    plt.fill_between(lc_df.index, lc_df[\"risky_asset\"])\n",
    "    plt.fill_between(lc_df.index, lc_df[\"risky_asset\"], 100)\n",
    "    plt.legend([\"risky_asset\", \"risk_free\"])\n",
    "    plt.ylim(0, 100)\n",
    "    plt.show()"
   ]
  },
  {
   "cell_type": "markdown",
   "metadata": {},
   "source": [
    "  "
   ]
  },
  {
   "cell_type": "code",
   "execution_count": 5,
   "metadata": {},
   "outputs": [],
   "source": [
    "asset_data = {\"risky\": [0.12, 0.35], \"rf\":[0.04, 0.03]}"
   ]
  },
  {
   "cell_type": "markdown",
   "metadata": {},
   "source": [
    "## High_school edu levels\n",
    "_______________"
   ]
  },
  {
   "cell_type": "code",
   "execution_count": 6,
   "metadata": {},
   "outputs": [],
   "source": [
    "group_characherize_data = {\"rho\":0.633465, \"aggregate_risk\":np.sqrt(0.174855+0.005461), \n",
    "                           \"fixed_effect_coeff\":[7.5072-0.7417+0.3198+0.059*2], \"age_coeff_list\":[0.0124, 0.0064, -0.0009], \n",
    "                           \"initial_wealth\":1000, \n",
    "                           \"initial_income\":np.exp(7.5072-0.7417+0.3198+0.059*2 + (25 * 0.0124 + ((25**2 /10) *0.0064) + ((25**3/100) * -0.0009)))}"
   ]
  },
  {
   "cell_type": "code",
   "execution_count": 7,
   "metadata": {},
   "outputs": [],
   "source": [
    "lc_weights, lc_data = lc_asset_allocation(asset_dic=asset_data, group_characherize_dic=group_characherize_data, sample_size=20000, gamma=4)"
   ]
  },
  {
   "cell_type": "code",
   "execution_count": 8,
   "metadata": {},
   "outputs": [
    {
     "data": {
      "text/html": [
       "<div>\n",
       "<style scoped>\n",
       "    .dataframe tbody tr th:only-of-type {\n",
       "        vertical-align: middle;\n",
       "    }\n",
       "\n",
       "    .dataframe tbody tr th {\n",
       "        vertical-align: top;\n",
       "    }\n",
       "\n",
       "    .dataframe thead th {\n",
       "        text-align: right;\n",
       "    }\n",
       "</style>\n",
       "<table border=\"1\" class=\"dataframe\">\n",
       "  <thead>\n",
       "    <tr style=\"text-align: right;\">\n",
       "      <th></th>\n",
       "      <th>34</th>\n",
       "      <th>33</th>\n",
       "      <th>32</th>\n",
       "      <th>31</th>\n",
       "      <th>30</th>\n",
       "      <th>29</th>\n",
       "      <th>28</th>\n",
       "      <th>27</th>\n",
       "      <th>26</th>\n",
       "      <th>25</th>\n",
       "      <th>...</th>\n",
       "      <th>9</th>\n",
       "      <th>8</th>\n",
       "      <th>7</th>\n",
       "      <th>6</th>\n",
       "      <th>5</th>\n",
       "      <th>4</th>\n",
       "      <th>3</th>\n",
       "      <th>2</th>\n",
       "      <th>1</th>\n",
       "      <th>0</th>\n",
       "    </tr>\n",
       "  </thead>\n",
       "  <tbody>\n",
       "    <tr>\n",
       "      <th>labor_income</th>\n",
       "      <td>2375.0</td>\n",
       "      <td>2595.0</td>\n",
       "      <td>2664.0</td>\n",
       "      <td>2752.0</td>\n",
       "      <td>2834.0</td>\n",
       "      <td>2889.0</td>\n",
       "      <td>2984.0</td>\n",
       "      <td>3066.0</td>\n",
       "      <td>3148.0</td>\n",
       "      <td>3223.0</td>\n",
       "      <td>...</td>\n",
       "      <td>4361.0</td>\n",
       "      <td>4408.0</td>\n",
       "      <td>4446.0</td>\n",
       "      <td>4444.0</td>\n",
       "      <td>4486.0</td>\n",
       "      <td>4496.0</td>\n",
       "      <td>4530.0</td>\n",
       "      <td>4509.0</td>\n",
       "      <td>4497.0</td>\n",
       "      <td>4508.0</td>\n",
       "    </tr>\n",
       "    <tr>\n",
       "      <th>financial_wealth</th>\n",
       "      <td>1000.0</td>\n",
       "      <td>2265.0</td>\n",
       "      <td>3900.0</td>\n",
       "      <td>6031.0</td>\n",
       "      <td>8785.0</td>\n",
       "      <td>12259.0</td>\n",
       "      <td>16759.0</td>\n",
       "      <td>22524.0</td>\n",
       "      <td>29945.0</td>\n",
       "      <td>39353.0</td>\n",
       "      <td>...</td>\n",
       "      <td>669860.0</td>\n",
       "      <td>767337.0</td>\n",
       "      <td>880843.0</td>\n",
       "      <td>1007054.0</td>\n",
       "      <td>1152491.0</td>\n",
       "      <td>1317926.0</td>\n",
       "      <td>1507393.0</td>\n",
       "      <td>1720899.0</td>\n",
       "      <td>1961549.0</td>\n",
       "      <td>2250383.0</td>\n",
       "    </tr>\n",
       "  </tbody>\n",
       "</table>\n",
       "<p>2 rows × 35 columns</p>\n",
       "</div>"
      ],
      "text/plain": [
       "                      34      33      32      31      30       29       28  \\\n",
       "labor_income      2375.0  2595.0  2664.0  2752.0  2834.0   2889.0   2984.0   \n",
       "financial_wealth  1000.0  2265.0  3900.0  6031.0  8785.0  12259.0  16759.0   \n",
       "\n",
       "                       27       26       25  ...        9         8   \\\n",
       "labor_income       3066.0   3148.0   3223.0  ...    4361.0    4408.0   \n",
       "financial_wealth  22524.0  29945.0  39353.0  ...  669860.0  767337.0   \n",
       "\n",
       "                        7          6          5          4          3   \\\n",
       "labor_income        4446.0     4444.0     4486.0     4496.0     4530.0   \n",
       "financial_wealth  880843.0  1007054.0  1152491.0  1317926.0  1507393.0   \n",
       "\n",
       "                         2          1          0   \n",
       "labor_income         4509.0     4497.0     4508.0  \n",
       "financial_wealth  1720899.0  1961549.0  2250383.0  \n",
       "\n",
       "[2 rows x 35 columns]"
      ]
     },
     "execution_count": 8,
     "metadata": {},
     "output_type": "execute_result"
    }
   ],
   "source": [
    "lc_data.T"
   ]
  },
  {
   "cell_type": "code",
   "execution_count": 9,
   "metadata": {},
   "outputs": [
    {
     "data": {
      "image/png": "[encoded data removed]",
      "text/plain": [
       "<Figure size 720x360 with 2 Axes>"
      ]
     },
     "metadata": {
      "needs_background": "light"
     },
     "output_type": "display_data"
    }
   ],
   "source": [
    "data_plotting(lc_data)"
   ]
  },
  {
   "cell_type": "code",
   "execution_count": 10,
   "metadata": {},
   "outputs": [
    {
     "data": {
      "image/png": "[encoded data removed]",
      "text/plain": [
       "<Figure size 720x360 with 1 Axes>"
      ]
     },
     "metadata": {
      "needs_background": "light"
     },
     "output_type": "display_data"
    }
   ],
   "source": [
    "lc_weights_plot(lc_weights)"
   ]
  },
  {
   "cell_type": "markdown",
   "metadata": {},
   "source": [
    "## College edu levels\n",
    "_______________"
   ]
  },
  {
   "cell_type": "code",
   "execution_count": 11,
   "metadata": {},
   "outputs": [],
   "source": [
    "group_characherize_data = {\"rho\":0.334903, \"aggregate_risk\":np.sqrt(0.145682+0.010166), \n",
    "                           \"fixed_effect_coeff\":[7.8016-2.3326+0.2550+0.0537*2], \"age_coeff_list\":[0.1232, -0.0193, 0.0011], \n",
    "                           \"initial_wealth\":1000, \n",
    "                           \"initial_income\":np.exp(7.8016-2.3326+0.2550+0.0537*2 + (25 * 0.1232 + ((25**2 /10) * -0.0193) + ((25**3/100) * 0.0011)))}"
   ]
  },
  {
   "cell_type": "code",
   "execution_count": 12,
   "metadata": {},
   "outputs": [],
   "source": [
    "lc_weights, lc_data = lc_asset_allocation(asset_dic=asset_data, group_characherize_dic=group_characherize_data, sample_size=20000, gamma=4)"
   ]
  },
  {
   "cell_type": "code",
   "execution_count": 13,
   "metadata": {},
   "outputs": [
    {
     "data": {
      "text/html": [
       "<div>\n",
       "<style scoped>\n",
       "    .dataframe tbody tr th:only-of-type {\n",
       "        vertical-align: middle;\n",
       "    }\n",
       "\n",
       "    .dataframe tbody tr th {\n",
       "        vertical-align: top;\n",
       "    }\n",
       "\n",
       "    .dataframe thead th {\n",
       "        text-align: right;\n",
       "    }\n",
       "</style>\n",
       "<table border=\"1\" class=\"dataframe\">\n",
       "  <thead>\n",
       "    <tr style=\"text-align: right;\">\n",
       "      <th></th>\n",
       "      <th>34</th>\n",
       "      <th>33</th>\n",
       "      <th>32</th>\n",
       "      <th>31</th>\n",
       "      <th>30</th>\n",
       "      <th>29</th>\n",
       "      <th>28</th>\n",
       "      <th>27</th>\n",
       "      <th>26</th>\n",
       "      <th>25</th>\n",
       "      <th>...</th>\n",
       "      <th>9</th>\n",
       "      <th>8</th>\n",
       "      <th>7</th>\n",
       "      <th>6</th>\n",
       "      <th>5</th>\n",
       "      <th>4</th>\n",
       "      <th>3</th>\n",
       "      <th>2</th>\n",
       "      <th>1</th>\n",
       "      <th>0</th>\n",
       "    </tr>\n",
       "  </thead>\n",
       "  <tbody>\n",
       "    <tr>\n",
       "      <th>labor_income</th>\n",
       "      <td>2636.0</td>\n",
       "      <td>2845.0</td>\n",
       "      <td>2977.0</td>\n",
       "      <td>3126.0</td>\n",
       "      <td>3267.0</td>\n",
       "      <td>3377.0</td>\n",
       "      <td>3527.0</td>\n",
       "      <td>3659.0</td>\n",
       "      <td>3787.0</td>\n",
       "      <td>3908.0</td>\n",
       "      <td>...</td>\n",
       "      <td>5473.0</td>\n",
       "      <td>5555.0</td>\n",
       "      <td>5624.0</td>\n",
       "      <td>5657.0</td>\n",
       "      <td>5729.0</td>\n",
       "      <td>5800.0</td>\n",
       "      <td>5888.0</td>\n",
       "      <td>5930.0</td>\n",
       "      <td>5978.0</td>\n",
       "      <td>6065.0</td>\n",
       "    </tr>\n",
       "    <tr>\n",
       "      <th>financial_wealth</th>\n",
       "      <td>1000.0</td>\n",
       "      <td>2361.0</td>\n",
       "      <td>4141.0</td>\n",
       "      <td>6482.0</td>\n",
       "      <td>9526.0</td>\n",
       "      <td>13386.0</td>\n",
       "      <td>18403.0</td>\n",
       "      <td>24845.0</td>\n",
       "      <td>33151.0</td>\n",
       "      <td>43697.0</td>\n",
       "      <td>...</td>\n",
       "      <td>745413.0</td>\n",
       "      <td>853188.0</td>\n",
       "      <td>978607.0</td>\n",
       "      <td>1118017.0</td>\n",
       "      <td>1278524.0</td>\n",
       "      <td>1460942.0</td>\n",
       "      <td>1669747.0</td>\n",
       "      <td>1904867.0</td>\n",
       "      <td>2169679.0</td>\n",
       "      <td>2487436.0</td>\n",
       "    </tr>\n",
       "  </tbody>\n",
       "</table>\n",
       "<p>2 rows × 35 columns</p>\n",
       "</div>"
      ],
      "text/plain": [
       "                      34      33      32      31      30       29       28  \\\n",
       "labor_income      2636.0  2845.0  2977.0  3126.0  3267.0   3377.0   3527.0   \n",
       "financial_wealth  1000.0  2361.0  4141.0  6482.0  9526.0  13386.0  18403.0   \n",
       "\n",
       "                       27       26       25  ...        9         8   \\\n",
       "labor_income       3659.0   3787.0   3908.0  ...    5473.0    5555.0   \n",
       "financial_wealth  24845.0  33151.0  43697.0  ...  745413.0  853188.0   \n",
       "\n",
       "                        7          6          5          4          3   \\\n",
       "labor_income        5624.0     5657.0     5729.0     5800.0     5888.0   \n",
       "financial_wealth  978607.0  1118017.0  1278524.0  1460942.0  1669747.0   \n",
       "\n",
       "                         2          1          0   \n",
       "labor_income         5930.0     5978.0     6065.0  \n",
       "financial_wealth  1904867.0  2169679.0  2487436.0  \n",
       "\n",
       "[2 rows x 35 columns]"
      ]
     },
     "execution_count": 13,
     "metadata": {},
     "output_type": "execute_result"
    }
   ],
   "source": [
    "lc_data.T"
   ]
  },
  {
   "cell_type": "code",
   "execution_count": 14,
   "metadata": {},
   "outputs": [
    {
     "data": {
      "image/png": "[encoded data removed]",
      "text/plain": [
       "<Figure size 720x360 with 2 Axes>"
      ]
     },
     "metadata": {
      "needs_background": "light"
     },
     "output_type": "display_data"
    }
   ],
   "source": [
    "data_plotting(lc_data)"
   ]
  },
  {
   "cell_type": "code",
   "execution_count": 15,
   "metadata": {},
   "outputs": [
    {
     "data": {
      "image/png": "[encoded data removed]",
      "text/plain": [
       "<Figure size 720x360 with 1 Axes>"
      ]
     },
     "metadata": {
      "needs_background": "light"
     },
     "output_type": "display_data"
    }
   ],
   "source": [
    "lc_weights_plot(lc_weights)"
   ]
  },
  {
   "cell_type": "markdown",
   "metadata": {},
   "source": [
    "## University edu levels\n",
    "_______________"
   ]
  },
  {
   "cell_type": "code",
   "execution_count": 16,
   "metadata": {},
   "outputs": [],
   "source": [
    "group_characherize_data = {\"rho\":-0.010961, \"aggregate_risk\":np.sqrt(0.141262+0.005379), \n",
    "                           \"fixed_effect_coeff\":[7.8717-2.3055+0.3841+0.0440*2], \"age_coeff_list\":[0.1055, -0.0111, 0.0001], \n",
    "                           \"initial_wealth\":1000, \n",
    "                           \"initial_income\":np.exp(7.8717-2.3055+0.3841+0.0440*2 + (25 * 0.1055 + ((25**2 /10) * -0.0111) + ((25**3/100) * 0.0001)))}"
   ]
  },
  {
   "cell_type": "code",
   "execution_count": 17,
   "metadata": {},
   "outputs": [],
   "source": [
    "lc_weights, lc_data = lc_asset_allocation(asset_dic=asset_data, group_characherize_dic=group_characherize_data, sample_size=20000, gamma=4)"
   ]
  },
  {
   "cell_type": "code",
   "execution_count": 18,
   "metadata": {},
   "outputs": [
    {
     "data": {
      "text/html": [
       "<div>\n",
       "<style scoped>\n",
       "    .dataframe tbody tr th:only-of-type {\n",
       "        vertical-align: middle;\n",
       "    }\n",
       "\n",
       "    .dataframe tbody tr th {\n",
       "        vertical-align: top;\n",
       "    }\n",
       "\n",
       "    .dataframe thead th {\n",
       "        text-align: right;\n",
       "    }\n",
       "</style>\n",
       "<table border=\"1\" class=\"dataframe\">\n",
       "  <thead>\n",
       "    <tr style=\"text-align: right;\">\n",
       "      <th></th>\n",
       "      <th>34</th>\n",
       "      <th>33</th>\n",
       "      <th>32</th>\n",
       "      <th>31</th>\n",
       "      <th>30</th>\n",
       "      <th>29</th>\n",
       "      <th>28</th>\n",
       "      <th>27</th>\n",
       "      <th>26</th>\n",
       "      <th>25</th>\n",
       "      <th>...</th>\n",
       "      <th>9</th>\n",
       "      <th>8</th>\n",
       "      <th>7</th>\n",
       "      <th>6</th>\n",
       "      <th>5</th>\n",
       "      <th>4</th>\n",
       "      <th>3</th>\n",
       "      <th>2</th>\n",
       "      <th>1</th>\n",
       "      <th>0</th>\n",
       "    </tr>\n",
       "  </thead>\n",
       "  <tbody>\n",
       "    <tr>\n",
       "      <th>labor_income</th>\n",
       "      <td>2974.0</td>\n",
       "      <td>3195.0</td>\n",
       "      <td>3358.0</td>\n",
       "      <td>3541.0</td>\n",
       "      <td>3719.0</td>\n",
       "      <td>3866.0</td>\n",
       "      <td>4054.0</td>\n",
       "      <td>4225.0</td>\n",
       "      <td>4390.0</td>\n",
       "      <td>4550.0</td>\n",
       "      <td>...</td>\n",
       "      <td>6212.0</td>\n",
       "      <td>6249.0</td>\n",
       "      <td>6250.0</td>\n",
       "      <td>6216.0</td>\n",
       "      <td>6191.0</td>\n",
       "      <td>6177.0</td>\n",
       "      <td>6154.0</td>\n",
       "      <td>6091.0</td>\n",
       "      <td>6008.0</td>\n",
       "      <td>5950.0</td>\n",
       "    </tr>\n",
       "    <tr>\n",
       "      <th>financial_wealth</th>\n",
       "      <td>1000.0</td>\n",
       "      <td>2494.0</td>\n",
       "      <td>4457.0</td>\n",
       "      <td>7044.0</td>\n",
       "      <td>10417.0</td>\n",
       "      <td>14705.0</td>\n",
       "      <td>20284.0</td>\n",
       "      <td>27458.0</td>\n",
       "      <td>36716.0</td>\n",
       "      <td>48480.0</td>\n",
       "      <td>...</td>\n",
       "      <td>854210.0</td>\n",
       "      <td>977894.0</td>\n",
       "      <td>1121739.0</td>\n",
       "      <td>1281653.0</td>\n",
       "      <td>1465794.0</td>\n",
       "      <td>1675075.0</td>\n",
       "      <td>1914478.0</td>\n",
       "      <td>2184127.0</td>\n",
       "      <td>2487930.0</td>\n",
       "      <td>2852432.0</td>\n",
       "    </tr>\n",
       "  </tbody>\n",
       "</table>\n",
       "<p>2 rows × 35 columns</p>\n",
       "</div>"
      ],
      "text/plain": [
       "                      34      33      32      31       30       29       28  \\\n",
       "labor_income      2974.0  3195.0  3358.0  3541.0   3719.0   3866.0   4054.0   \n",
       "financial_wealth  1000.0  2494.0  4457.0  7044.0  10417.0  14705.0  20284.0   \n",
       "\n",
       "                       27       26       25  ...        9         8   \\\n",
       "labor_income       4225.0   4390.0   4550.0  ...    6212.0    6249.0   \n",
       "financial_wealth  27458.0  36716.0  48480.0  ...  854210.0  977894.0   \n",
       "\n",
       "                         7          6          5          4          3   \\\n",
       "labor_income         6250.0     6216.0     6191.0     6177.0     6154.0   \n",
       "financial_wealth  1121739.0  1281653.0  1465794.0  1675075.0  1914478.0   \n",
       "\n",
       "                         2          1          0   \n",
       "labor_income         6091.0     6008.0     5950.0  \n",
       "financial_wealth  2184127.0  2487930.0  2852432.0  \n",
       "\n",
       "[2 rows x 35 columns]"
      ]
     },
     "execution_count": 18,
     "metadata": {},
     "output_type": "execute_result"
    }
   ],
   "source": [
    "lc_data.T"
   ]
  },
  {
   "cell_type": "code",
   "execution_count": 19,
   "metadata": {},
   "outputs": [
    {
     "data": {
      "image/png": "[encoded data removed]",
      "text/plain": [
       "<Figure size 720x360 with 2 Axes>"
      ]
     },
     "metadata": {
      "needs_background": "light"
     },
     "output_type": "display_data"
    }
   ],
   "source": [
    "data_plotting(lc_data)"
   ]
  },
  {
   "cell_type": "code",
   "execution_count": 20,
   "metadata": {},
   "outputs": [
    {
     "data": {
      "image/png": "[encoded data removed]",
      "text/plain": [
       "<Figure size 720x360 with 1 Axes>"
      ]
     },
     "metadata": {
      "needs_background": "light"
     },
     "output_type": "display_data"
    }
   ],
   "source": [
    "lc_weights_plot(lc_weights)"
   ]
  },
  {
   "cell_type": "code",
   "execution_count": null,
   "metadata": {},
   "outputs": [],
   "source": []
  },
  {
   "cell_type": "code",
   "execution_count": null,
   "metadata": {},
   "outputs": [],
   "source": []
  },
  {
   "cell_type": "code",
   "execution_count": null,
   "metadata": {},
   "outputs": [],
   "source": []
  },
  {
   "cell_type": "code",
   "execution_count": null,
   "metadata": {},
   "outputs": [],
   "source": []
  },
  {
   "cell_type": "code",
   "execution_count": 39,
   "metadata": {},
   "outputs": [],
   "source": [
    "model = Maximize_Calibraton(n=10, rho=0.2, gamma=4, aggregate_risk=0.15)\n",
    "model.MC_data()\n",
    "model.get_asset_ret(0.12, 0.2, 0.4, 0.001)"
   ]
  },
  {
   "cell_type": "code",
   "execution_count": 40,
   "metadata": {},
   "outputs": [
    {
     "data": {
      "text/plain": [
       "array([[1.07096755, 1.49187626],\n",
       "       [0.77480335, 1.49290097],\n",
       "       [1.59422412, 1.49321093],\n",
       "       [0.72498254, 1.48953423],\n",
       "       [0.97469613, 1.49398335],\n",
       "       [0.88440497, 1.49376791],\n",
       "       [1.05534093, 1.48792601],\n",
       "       [1.67273607, 1.49333381],\n",
       "       [1.59152459, 1.49012975],\n",
       "       [0.8722529 , 1.49372518]])"
      ]
     },
     "execution_count": 40,
     "metadata": {},
     "output_type": "execute_result"
    }
   ],
   "source": [
    "model.R_t"
   ]
  },
  {
   "cell_type": "code",
   "execution_count": 38,
   "metadata": {},
   "outputs": [
    {
     "data": {
      "text/plain": [
       "(10, 32)"
      ]
     },
     "execution_count": 38,
     "metadata": {},
     "output_type": "execute_result"
    }
   ],
   "source": [
    "model.hc_.shape"
   ]
  },
  {
   "cell_type": "code",
   "execution_count": null,
   "metadata": {},
   "outputs": [],
   "source": []
  },
  {
   "cell_type": "code",
   "execution_count": 21,
   "metadata": {},
   "outputs": [
    {
     "data": {
      "text/plain": [
       "1.1987148205416183"
      ]
     },
     "execution_count": 21,
     "metadata": {},
     "output_type": "execute_result"
    }
   ],
   "source": [
    "np.exp(0.12+(0.5*(0.35**2))+0.35*0)#+market_sigma*self.market_[:, 0]"
   ]
  },
  {
   "cell_type": "code",
   "execution_count": 22,
   "metadata": {},
   "outputs": [
    {
     "data": {
      "text/plain": [
       "0.001008"
      ]
     },
     "execution_count": 22,
     "metadata": {},
     "output_type": "execute_result"
    }
   ],
   "source": [
    "0.014*0.24*0.3"
   ]
  },
  {
   "cell_type": "code",
   "execution_count": 23,
   "metadata": {},
   "outputs": [
    {
     "data": {
      "text/plain": [
       "array([[[0.89278428, 1.02239294],\n",
       "        [1.26444596, 1.04784919],\n",
       "        [1.0296181 , 1.05487376],\n",
       "        [1.12006758, 1.05039608],\n",
       "        [1.76951794, 1.03290866],\n",
       "        [1.19764837, 1.04817587],\n",
       "        [1.67553884, 1.02719751],\n",
       "        [1.33234848, 1.0497547 ],\n",
       "        [1.21646137, 1.05375991],\n",
       "        [1.64676912, 1.03633827]],\n",
       "\n",
       "       [[1.11269784, 1.05411467],\n",
       "        [1.23773324, 1.0523398 ],\n",
       "        [1.3203477 , 1.03576106],\n",
       "        [0.75955554, 1.04281659],\n",
       "        [1.57594803, 1.05791199],\n",
       "        [1.38719469, 1.02670741],\n",
       "        [0.88513364, 1.03982431],\n",
       "        [1.16453819, 1.00310161],\n",
       "        [1.32053577, 1.06278236],\n",
       "        [1.22330676, 1.04227674]],\n",
       "\n",
       "       [[1.23827629, 1.06326791],\n",
       "        [1.10161503, 1.04492761],\n",
       "        [1.34855087, 1.02062875],\n",
       "        [1.34826385, 1.055755  ],\n",
       "        [1.18456649, 1.03096976],\n",
       "        [1.41819665, 1.0381511 ],\n",
       "        [1.08190815, 1.04521642],\n",
       "        [1.87397429, 1.04518657],\n",
       "        [1.66036742, 1.05559133],\n",
       "        [1.28811643, 1.03863538]]])"
      ]
     },
     "execution_count": 23,
     "metadata": {},
     "output_type": "execute_result"
    }
   ],
   "source": [
    "np.exp(np.random.multivariate_normal([0.17, 0.04], [[0.06, 0.001],[0.001, 0.0002]], size=(3, 10)))"
   ]
  },
  {
   "cell_type": "code",
   "execution_count": 24,
   "metadata": {},
   "outputs": [
    {
     "data": {
      "text/plain": [
       "array([[[-0.94766912, -1.67150907],\n",
       "        [ 1.06060248, -0.20895112],\n",
       "        [ 0.66389472, -2.05932259],\n",
       "        [-0.95637614, -1.85704829],\n",
       "        [-0.10968804, -0.40474705],\n",
       "        [ 0.04000658, -2.39758478],\n",
       "        [ 0.48715068,  0.03273144],\n",
       "        [-0.2633697 , -1.5647786 ],\n",
       "        [ 0.65836411, -0.38033198],\n",
       "        [-0.37883194,  0.31076432]],\n",
       "\n",
       "       [[ 0.21011987,  1.56457523],\n",
       "        [-1.02416534, -0.42960602],\n",
       "        [-0.32179443, -1.13079214],\n",
       "        [ 0.65268593, -0.4545314 ],\n",
       "        [-0.09778425,  0.5297408 ],\n",
       "        [ 0.79235728,  0.32291217],\n",
       "        [ 1.05404674,  0.05398594],\n",
       "        [ 0.54866841,  0.53368345],\n",
       "        [ 0.7621222 ,  1.0394866 ],\n",
       "        [-1.77717454, -0.89917605]],\n",
       "\n",
       "       [[ 0.67979114, -0.37046561],\n",
       "        [-0.39889137,  1.60364792],\n",
       "        [ 0.33588919, -0.41781423],\n",
       "        [-1.39644868,  1.08860671],\n",
       "        [-0.46201753,  0.26826704],\n",
       "        [-0.03361123, -0.45039887],\n",
       "        [ 1.12780156,  0.71445368],\n",
       "        [-0.17863505,  0.51546688],\n",
       "        [-1.22725747, -0.12556263],\n",
       "        [-0.75390444,  0.29340871]]])"
      ]
     },
     "execution_count": 24,
     "metadata": {},
     "output_type": "execute_result"
    }
   ],
   "source": [
    "np.random.seed(1)\n",
    "b = np.random.multivariate_normal([0, 0], [[1, 0.3],[0.3, 1]], size=(3, 10))\n",
    "b"
   ]
  },
  {
   "cell_type": "code",
   "execution_count": 25,
   "metadata": {},
   "outputs": [
    {
     "data": {
      "text/plain": [
       "array([[-0.94766912, -1.67150907],\n",
       "       [ 0.21011987,  1.56457523],\n",
       "       [ 0.67979114, -0.37046561]])"
      ]
     },
     "execution_count": 25,
     "metadata": {},
     "output_type": "execute_result"
    }
   ],
   "source": [
    "b[:, 0, :] "
   ]
  },
  {
   "cell_type": "code",
   "execution_count": 26,
   "metadata": {},
   "outputs": [
    {
     "data": {
      "text/plain": [
       "(2,)"
      ]
     },
     "execution_count": 26,
     "metadata": {},
     "output_type": "execute_result"
    }
   ],
   "source": [
    "b_w = np.ones([2])\n",
    "b_w.shape"
   ]
  },
  {
   "cell_type": "code",
   "execution_count": 27,
   "metadata": {},
   "outputs": [
    {
     "data": {
      "text/plain": [
       "array([-2.6191782 ,  1.7746951 ,  0.30932553])"
      ]
     },
     "execution_count": 27,
     "metadata": {},
     "output_type": "execute_result"
    }
   ],
   "source": [
    "b[:, 0, :] @ b_w"
   ]
  },
  {
   "cell_type": "code",
   "execution_count": 28,
   "metadata": {},
   "outputs": [
    {
     "data": {
      "text/plain": [
       "(3, 10, 2)"
      ]
     },
     "execution_count": 28,
     "metadata": {},
     "output_type": "execute_result"
    }
   ],
   "source": [
    "b.shape"
   ]
  },
  {
   "cell_type": "code",
   "execution_count": null,
   "metadata": {},
   "outputs": [],
   "source": []
  },
  {
   "cell_type": "code",
   "execution_count": 29,
   "metadata": {},
   "outputs": [
    {
     "data": {
      "text/plain": [
       "array([0.86703063, 1.27225677, 1.43664172])"
      ]
     },
     "execution_count": 29,
     "metadata": {},
     "output_type": "execute_result"
    }
   ],
   "source": [
    "np.exp(0.12+(0.5*(0.35**2))+0.35*0)+0.35*b[:, 0, :][:, 0]"
   ]
  },
  {
   "cell_type": "code",
   "execution_count": 30,
   "metadata": {},
   "outputs": [
    {
     "data": {
      "text/plain": [
       "array([-0.94766912,  0.21011987,  0.67979114])"
      ]
     },
     "execution_count": 30,
     "metadata": {},
     "output_type": "execute_result"
    }
   ],
   "source": [
    "b[:, 0, :][:, 0]"
   ]
  },
  {
   "cell_type": "code",
   "execution_count": 31,
   "metadata": {},
   "outputs": [
    {
     "data": {
      "text/plain": [
       "array([[[0.1988  , 0.1988  , 0.1988  , 0.1988  , 0.1988  , 0.1988  ,\n",
       "         0.1988  , 0.1988  , 0.1988  , 0.1988  ],\n",
       "        [0.040098, 0.040098, 0.040098, 0.040098, 0.040098, 0.040098,\n",
       "         0.040098, 0.040098, 0.040098, 0.040098]],\n",
       "\n",
       "       [[0.1988  , 0.1988  , 0.1988  , 0.1988  , 0.1988  , 0.1988  ,\n",
       "         0.1988  , 0.1988  , 0.1988  , 0.1988  ],\n",
       "        [0.040098, 0.040098, 0.040098, 0.040098, 0.040098, 0.040098,\n",
       "         0.040098, 0.040098, 0.040098, 0.040098]],\n",
       "\n",
       "       [[0.1988  , 0.1988  , 0.1988  , 0.1988  , 0.1988  , 0.1988  ,\n",
       "         0.1988  , 0.1988  , 0.1988  , 0.1988  ],\n",
       "        [0.040098, 0.040098, 0.040098, 0.040098, 0.040098, 0.040098,\n",
       "         0.040098, 0.040098, 0.040098, 0.040098]]])"
      ]
     },
     "execution_count": 31,
     "metadata": {},
     "output_type": "execute_result"
    }
   ],
   "source": [
    "np.hstack([np.ones([3, 10, 1]) * 0.17 + (0.5*(0.24**2)), np.ones([3, 10, 1]) * 0.04 + (0.5*(0.014**2))]).reshape(3, 2, 10)"
   ]
  },
  {
   "cell_type": "code",
   "execution_count": null,
   "metadata": {},
   "outputs": [],
   "source": []
  },
  {
   "cell_type": "code",
   "execution_count": null,
   "metadata": {},
   "outputs": [],
   "source": []
  }
 ],
 "metadata": {
  "kernelspec": {
   "display_name": "Python 3",
   "language": "python",
   "name": "python3"
  },
  "language_info": {
   "codemirror_mode": {
    "name": "ipython",
    "version": 3
   },
   "file_extension": ".py",
   "mimetype": "text/x-python",
   "name": "python",
   "nbconvert_exporter": "python",
   "pygments_lexer": "ipython3",
   "version": "3.7.4"
  }
 },
 "nbformat": 4,
 "nbformat_minor": 2
}
