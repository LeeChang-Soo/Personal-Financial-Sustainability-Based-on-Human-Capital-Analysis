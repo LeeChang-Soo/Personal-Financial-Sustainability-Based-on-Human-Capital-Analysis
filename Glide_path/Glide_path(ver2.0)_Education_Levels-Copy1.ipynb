{
 "cells": [
  {
   "cell_type": "code",
   "execution_count": 1,
   "metadata": {},
   "outputs": [],
   "source": [
    "import pandas as pd\n",
    "import numpy as np\n",
    "import scipy.stats as stats\n",
    "from scipy.optimize import minimize\n",
    "import matplotlib.pyplot as plt"
   ]
  },
  {
   "cell_type": "code",
   "execution_count": 2,
   "metadata": {},
   "outputs": [],
   "source": [
    "class Maximize(object):\n",
    "    period = 30\n",
    "    #np.random.seed(period)\n",
    "\n",
    "    \n",
    "    def __init__(self, n, rho, gamma):\n",
    "        self.n = n\n",
    "        self.rho = rho\n",
    "        self.gamma = gamma\n",
    "        \n",
    "        \n",
    "    def MC_data(self):\n",
    "        self.market_ = stats.norm.rvs(size=(self.n, self.period+1), loc=0, scale=1)\n",
    "        self.rf_ = stats.norm.rvs(size=(self.n, self.period+1), loc=0, scale=1)\n",
    "        self.brownian_ = stats.norm.rvs(size=(self.n, self.period+1), loc=0, scale=1)\n",
    "        self.hc_ = self.rho * self.market_ + np.sqrt(1 - self.rho ** 2) * self.brownian_\n",
    "\n",
    "        \n",
    "    def get_original_H(self, hc_mu, hc_sigma):\n",
    "        dc_rate = np.exp((0.04 + 0.08 + 0.0) * (np.array(range(self.period)) + 1) * (-1))\n",
    "        \n",
    "        if self.period == 0:\n",
    "            self.labor_income = np.zeros([self.n, self.period+1])\n",
    "            self.H_t = np.zeros([self.n])\n",
    "        else:\n",
    "            self.labor_income = self.initial_income*np.cumprod(np.exp(hc_mu+hc_sigma*(self.rho * self.market_[:, :-1] + np.sqrt(1 - self.rho ** 2) * self.hc_[:, :-1])), axis=1)\n",
    "            self.H_t = self.labor_income @ dc_rate\n",
    "    \n",
    "    \n",
    "    def get_asset_ret(self, market_mu, market_sigma, rf_mu, rf_sigma):\n",
    "        risky_ret = np.exp(market_mu+(0.5*(market_sigma**2))+market_sigma*self.market_[:, 0])\n",
    "        rf_ret = np.exp(rf_mu+(0.5*(rf_sigma**2))+rf_sigma*self.rf_[:, 0])\n",
    "        #rf_ret = np.exp(rf_mu*np.ones(market_[:, 0].shape))\n",
    "        \n",
    "        self.R_t =  np.array([risky_ret, rf_ret]).T\n",
    "    \n",
    "    \n",
    "    def fit(self):\n",
    "        def obj(weight, gamma):\n",
    "            W_t = (self.initial_wealth+(self.initial_income*0.3))*(self.R_t @ weight)\n",
    "\n",
    "            if self.gamma == 1:\n",
    "                obj = np.log(W_t+self.H_t) * (-1)\n",
    "            else:\n",
    "                obj = (((W_t+self.H_t) ** (1-self.gamma)) / (1-self.gamma)) * (-1)\n",
    "\n",
    "            return np.mean(obj)\n",
    "\n",
    "        x = np.ones([self.R_t.shape[1]]) / self.R_t.shape[1]\n",
    "        cons = ({'type': 'ineq', 'fun': lambda x: 1 - np.sum(x)},\n",
    "                {'type': 'ineq', 'fun': lambda x: x},)\n",
    "        optimized = minimize(obj, x, (self.gamma), method='COBYLA', constraints=cons)\n",
    "        if not optimized.success: raise BaseException(optimized.message)\n",
    "        return np.round(optimized.x, 4)\n",
    "    \n",
    "        \n",
    "    def change_parameters(self, period, initial_wealth, initial_income):\n",
    "        self.period = period\n",
    "        self.initial_wealth = initial_wealth\n",
    "        self.initial_income = initial_income"
   ]
  },
  {
   "cell_type": "code",
   "execution_count": 3,
   "metadata": {},
   "outputs": [],
   "source": [
    "class Maximize_Calibraton(object):\n",
    "    period = 30\n",
    "    #np.random.seed(period)\n",
    "    retirement_age = 60\n",
    "\n",
    "    \n",
    "    def __init__(self, n, rho, gamma, aggregate_risk):\n",
    "        self.n = n\n",
    "        self.rho = rho\n",
    "        self.gamma = gamma\n",
    "        self.aggregate_risk = aggregate_risk\n",
    "        \n",
    "            \n",
    "    def MC_data(self):\n",
    "        self.market_ = stats.norm.rvs(size=(self.n, self.period+2), loc=0, scale=1)\n",
    "        self.rf_ = stats.norm.rvs(size=(self.n, self.period+2), loc=0, scale=1)\n",
    "        self.brownian_ = stats.norm.rvs(size=(self.n, self.period+2), loc=0, scale=1)\n",
    "        self.hc_ = self.aggregate_risk*(self.rho * self.market_ + np.sqrt(1 - self.rho ** 2) * self.brownian_)\n",
    "\n",
    "\n",
    "    def get_calibration_H(self, fixed_effect_coeff, age_coeff_list):\n",
    "        dc_rate = np.exp((0.04 + 0.08 + 0.0) * (np.array(range(self.period+1)) + 1) * (-1))\n",
    "        age_list = np.array(list(range(self.retirement_age-(self.period+1), self.retirement_age)))\n",
    "\n",
    "        after_retire_H_t = np.exp(fixed_effect_coeff) / (1-dc_rate[0])\n",
    "        if self.period == 0:\n",
    "            self.labor_income = np.exp(fixed_effect_coeff)\n",
    "            self.H_t = after_retire_H_t\n",
    "        else:\n",
    "            ic_list = fixed_effect_coeff + (age_list * age_coeff_list[0]) + ((age_list**2 /10) * age_coeff_list[1]) + ((age_list**3/100) * age_coeff_list[2])\n",
    "            self.labor_income = np.exp(np.array([ic_list]*self.n)  + self.hc_[:, :-1])\n",
    "            self.H_t = self.labor_income @ dc_rate + (after_retire_H_t * dc_rate[-1])\n",
    "\n",
    "    \n",
    "    def get_asset_ret(self, market_mu, market_sigma, rf_mu, rf_sigma):\n",
    "        risky_ret = np.exp(market_mu+(0.5*(market_sigma**2))+market_sigma*self.market_[:, 0])\n",
    "        rf_ret = np.exp(rf_mu+(0.5*(rf_sigma**2))+rf_sigma*self.rf_[:, 0])\n",
    "        #rf_ret = np.exp(rf_mu*np.ones(market_[:, 0].shape))\n",
    "        \n",
    "        self.R_t =  np.array([risky_ret, rf_ret]).T\n",
    "    \n",
    "    \n",
    "    def fit(self):\n",
    "        def obj(weight, gamma):\n",
    "            W_t = (self.initial_wealth+(self.initial_income*0.3))*(self.R_t @ weight)\n",
    "\n",
    "            if self.gamma == 1:\n",
    "                obj = np.log(W_t+self.H_t) * (-1)\n",
    "            else:\n",
    "                obj = (((W_t+self.H_t) ** (1-self.gamma)) / (1-self.gamma)) * (-1)\n",
    "\n",
    "            return np.mean(obj)\n",
    "\n",
    "        x = np.ones([self.R_t.shape[1]]) / self.R_t.shape[1]\n",
    "        cons = ({'type': 'ineq', 'fun': lambda x: 1 - np.sum(x)},\n",
    "                {'type': 'ineq', 'fun': lambda x: x},)\n",
    "        optimized = minimize(obj, x, (self.gamma), method='COBYLA', constraints=cons)\n",
    "        if not optimized.success: raise BaseException(optimized.message)\n",
    "        return np.round(optimized.x, 4)\n",
    "    \n",
    "        \n",
    "    def change_parameters(self, period, initial_wealth, initial_income, retirement_age=60):\n",
    "        self.period = period\n",
    "        self.initial_wealth = initial_wealth\n",
    "        self.initial_income = initial_income\n",
    "        self.retirement_age = retirement_age"
   ]
  },
  {
   "cell_type": "code",
   "execution_count": 4,
   "metadata": {},
   "outputs": [],
   "source": [
    "def lc_asset_allocation(asset_dic, group_characherize_dic, sample_size=20000, gamma=4):\n",
    "    np.random.seed(30)\n",
    "\n",
    "    lc_weights = []\n",
    "    lc_labor_income = []\n",
    "    lc_wealth = []\n",
    "    model = Maximize_Calibraton(n=sample_size, rho=group_characherize_data[\"rho\"], gamma=gamma, aggregate_risk=group_characherize_data[\"aggregate_risk\"])\n",
    "    for i in range(35)[::-1]:\n",
    "\n",
    "        if i is range(35)[::-1][0]:\n",
    "            financial_wealth = group_characherize_data[\"initial_wealth\"]\n",
    "            income = group_characherize_data[\"initial_income\"]\n",
    "            model.change_parameters(i, financial_wealth, income)\n",
    "        else:\n",
    "            financial_wealth = (model.initial_wealth + np.mean(model.labor_income[:, 0]) * 0.3) * np.mean(model.R_t @ model.fit())\n",
    "            income = np.mean(model.labor_income[:, 0])\n",
    "            model.change_parameters(i, financial_wealth, income)\n",
    "\n",
    "        model.MC_data()\n",
    "        model.get_calibration_H(fixed_effect_coeff=group_characherize_data[\"fixed_effect_coeff\"], age_coeff_list=group_characherize_data[\"age_coeff_list\"])\n",
    "        model.get_asset_ret(market_mu=asset_data[\"risky\"][0], market_sigma=asset_data[\"risky\"][1], \n",
    "                            rf_mu=asset_data[\"rf\"][0], rf_sigma=asset_data[\"rf\"][1])\n",
    "        opt_weights = model.fit()\n",
    "\n",
    "        lc_weights.append(opt_weights)\n",
    "        lc_labor_income.append(np.round(income))\n",
    "        lc_wealth.append(np.round(financial_wealth))\n",
    "        #print(model.period, opt_weights * 100, np.round(financial_wealth), np.round(income))\n",
    "\n",
    "        #print(model.period, model.fit() * 100, np.round(model.initial_wealth), np.round(np.mean(model.labor_income[:, 0])))\n",
    "\n",
    "    lc_df = pd.DataFrame(lc_weights, columns=[\"risky_asset\", \"risk_free\"]) * 100\n",
    "    lc_total_df = pd.DataFrame(np.array([lc_labor_income, lc_wealth]).T, index=range(35)[::-1], columns=[\"labor_income\", \"financial_wealth\"])\n",
    "    \n",
    "    return lc_df, lc_total_df\n",
    "\n",
    "\n",
    "def data_plotting(lc_total_df):\n",
    "    fig = plt.figure(figsize=(10, 5))\n",
    "    ax = fig.add_subplot(111)\n",
    "\n",
    "    ln1 = ax.plot(lc_total_df.index[::-1], lc_total_df.labor_income, color=\"b\", label=\"labor_income\")\n",
    "    ax2 = ax.twinx()\n",
    "    ln2 = ax2.plot(lc_total_df.index[::-1], lc_total_df.financial_wealth, color=\"r\", linestyle=\"--\", label=\"financial_wealth\")\n",
    "\n",
    "    lns = ln1+ln2\n",
    "    labs = [l.get_label() for l in lns]\n",
    "    ax.legend(lns, labs)\n",
    "\n",
    "    plt.show()\n",
    "    \n",
    "\n",
    "def lc_weights_plot(lc_df):\n",
    "    plt.figure(figsize=(10, 5))\n",
    "    plt.fill_between(lc_df.index, lc_df[\"risky_asset\"])\n",
    "    plt.fill_between(lc_df.index, lc_df[\"risky_asset\"], 100)\n",
    "    plt.legend([\"risky_asset\", \"risk_free\"])\n",
    "    plt.ylim(0, 100)\n",
    "    plt.show()"
   ]
  },
  {
   "cell_type": "markdown",
   "metadata": {},
   "source": [
    "  "
   ]
  },
  {
   "cell_type": "code",
   "execution_count": 5,
   "metadata": {},
   "outputs": [],
   "source": [
    "asset_data = {\"risky\": [0.12, 0.35], \"rf\":[0.04, 0.03]}"
   ]
  },
  {
   "cell_type": "markdown",
   "metadata": {},
   "source": [
    "## High_school edu levels\n",
    "_______________"
   ]
  },
  {
   "cell_type": "code",
   "execution_count": 6,
   "metadata": {},
   "outputs": [],
   "source": [
    "group_characherize_data = {\"rho\":0.633465, \"aggregate_risk\":np.sqrt(0.174855+0.005461), \n",
    "                           \"fixed_effect_coeff\":[7.5072-0.7417+0.3198+0.059*2], \"age_coeff_list\":[0.0124, 0.0064, -0.0009], \n",
    "                           \"initial_wealth\":1000, \n",
    "                           \"initial_income\":np.exp(7.5072-0.7417+0.3198+0.059*2 + (25 * 0.0124 + ((25**2 /10) *0.0064) + ((25**3/100) * -0.0009)))}"
   ]
  },
  {
   "cell_type": "code",
   "execution_count": 7,
   "metadata": {},
   "outputs": [],
   "source": [
    "lc_weights, lc_data = lc_asset_allocation(asset_dic=asset_data, group_characherize_dic=group_characherize_data, sample_size=20000, gamma=4)"
   ]
  },
  {
   "cell_type": "code",
   "execution_count": 8,
   "metadata": {},
   "outputs": [
    {
     "data": {
      "text/html": [
       "<div>\n",
       "<style scoped>\n",
       "    .dataframe tbody tr th:only-of-type {\n",
       "        vertical-align: middle;\n",
       "    }\n",
       "\n",
       "    .dataframe tbody tr th {\n",
       "        vertical-align: top;\n",
       "    }\n",
       "\n",
       "    .dataframe thead th {\n",
       "        text-align: right;\n",
       "    }\n",
       "</style>\n",
       "<table border=\"1\" class=\"dataframe\">\n",
       "  <thead>\n",
       "    <tr style=\"text-align: right;\">\n",
       "      <th></th>\n",
       "      <th>34</th>\n",
       "      <th>33</th>\n",
       "      <th>32</th>\n",
       "      <th>31</th>\n",
       "      <th>30</th>\n",
       "      <th>29</th>\n",
       "      <th>28</th>\n",
       "      <th>27</th>\n",
       "      <th>26</th>\n",
       "      <th>25</th>\n",
       "      <th>...</th>\n",
       "      <th>9</th>\n",
       "      <th>8</th>\n",
       "      <th>7</th>\n",
       "      <th>6</th>\n",
       "      <th>5</th>\n",
       "      <th>4</th>\n",
       "      <th>3</th>\n",
       "      <th>2</th>\n",
       "      <th>1</th>\n",
       "      <th>0</th>\n",
       "    </tr>\n",
       "  </thead>\n",
       "  <tbody>\n",
       "    <tr>\n",
       "      <th>labor_income</th>\n",
       "      <td>2375.0</td>\n",
       "      <td>2595.0</td>\n",
       "      <td>2664.0</td>\n",
       "      <td>2752.0</td>\n",
       "      <td>2834.0</td>\n",
       "      <td>2889.0</td>\n",
       "      <td>2984.0</td>\n",
       "      <td>3066.0</td>\n",
       "      <td>3148.0</td>\n",
       "      <td>3223.0</td>\n",
       "      <td>...</td>\n",
       "      <td>4361.0</td>\n",
       "      <td>4408.0</td>\n",
       "      <td>4446.0</td>\n",
       "      <td>4444.0</td>\n",
       "      <td>4486.0</td>\n",
       "      <td>4496.0</td>\n",
       "      <td>4530.0</td>\n",
       "      <td>4509.0</td>\n",
       "      <td>4497.0</td>\n",
       "      <td>4508.0</td>\n",
       "    </tr>\n",
       "    <tr>\n",
       "      <th>financial_wealth</th>\n",
       "      <td>1000.0</td>\n",
       "      <td>2265.0</td>\n",
       "      <td>3900.0</td>\n",
       "      <td>6031.0</td>\n",
       "      <td>8785.0</td>\n",
       "      <td>12259.0</td>\n",
       "      <td>16759.0</td>\n",
       "      <td>22075.0</td>\n",
       "      <td>28253.0</td>\n",
       "      <td>35228.0</td>\n",
       "      <td>...</td>\n",
       "      <td>452170.0</td>\n",
       "      <td>517229.0</td>\n",
       "      <td>593023.0</td>\n",
       "      <td>677388.0</td>\n",
       "      <td>774617.0</td>\n",
       "      <td>885242.0</td>\n",
       "      <td>1011885.0</td>\n",
       "      <td>1154636.0</td>\n",
       "      <td>1315531.0</td>\n",
       "      <td>1508608.0</td>\n",
       "    </tr>\n",
       "  </tbody>\n",
       "</table>\n",
       "<p>2 rows × 35 columns</p>\n",
       "</div>"
      ],
      "text/plain": [
       "                      34      33      32      31      30       29       28  \\\n",
       "labor_income      2375.0  2595.0  2664.0  2752.0  2834.0   2889.0   2984.0   \n",
       "financial_wealth  1000.0  2265.0  3900.0  6031.0  8785.0  12259.0  16759.0   \n",
       "\n",
       "                       27       26       25  ...        9         8   \\\n",
       "labor_income       3066.0   3148.0   3223.0  ...    4361.0    4408.0   \n",
       "financial_wealth  22075.0  28253.0  35228.0  ...  452170.0  517229.0   \n",
       "\n",
       "                        7         6         5         4          3   \\\n",
       "labor_income        4446.0    4444.0    4486.0    4496.0     4530.0   \n",
       "financial_wealth  593023.0  677388.0  774617.0  885242.0  1011885.0   \n",
       "\n",
       "                         2          1          0   \n",
       "labor_income         4509.0     4497.0     4508.0  \n",
       "financial_wealth  1154636.0  1315531.0  1508608.0  \n",
       "\n",
       "[2 rows x 35 columns]"
      ]
     },
     "execution_count": 8,
     "metadata": {},
     "output_type": "execute_result"
    }
   ],
   "source": [
    "lc_data.T"
   ]
  },
  {
   "cell_type": "code",
   "execution_count": 9,
   "metadata": {},
   "outputs": [
    {
     "data": {
      "image/png": "[encoded data removed]",
      "text/plain": [
       "<Figure size 720x360 with 2 Axes>"
      ]
     },
     "metadata": {
      "needs_background": "light"
     },
     "output_type": "display_data"
    }
   ],
   "source": [
    "data_plotting(lc_data)"
   ]
  },
  {
   "cell_type": "code",
   "execution_count": 10,
   "metadata": {},
   "outputs": [
    {
     "data": {
      "image/png": "[encoded data removed]",
      "text/plain": [
       "<Figure size 720x360 with 1 Axes>"
      ]
     },
     "metadata": {
      "needs_background": "light"
     },
     "output_type": "display_data"
    }
   ],
   "source": [
    "lc_weights_plot(lc_weights)"
   ]
  },
  {
   "cell_type": "markdown",
   "metadata": {},
   "source": [
    "## College edu levels\n",
    "_______________"
   ]
  },
  {
   "cell_type": "code",
   "execution_count": 11,
   "metadata": {},
   "outputs": [],
   "source": [
    "group_characherize_data = {\"rho\":0.334903, \"aggregate_risk\":np.sqrt(0.145682+0.010166), \n",
    "                           \"fixed_effect_coeff\":[7.8016-2.3326+0.2550+0.0537*2], \"age_coeff_list\":[0.1232, -0.0193, 0.0011], \n",
    "                           \"initial_wealth\":1000, \n",
    "                           \"initial_income\":np.exp(7.8016-2.3326+0.2550+0.0537*2 + (25 * 0.1232 + ((25**2 /10) * -0.0193) + ((25**3/100) * 0.0011)))}"
   ]
  },
  {
   "cell_type": "code",
   "execution_count": 12,
   "metadata": {},
   "outputs": [],
   "source": [
    "lc_weights, lc_data = lc_asset_allocation(asset_dic=asset_data, group_characherize_dic=group_characherize_data, sample_size=20000, gamma=4)"
   ]
  },
  {
   "cell_type": "code",
   "execution_count": 13,
   "metadata": {},
   "outputs": [
    {
     "data": {
      "text/html": [
       "<div>\n",
       "<style scoped>\n",
       "    .dataframe tbody tr th:only-of-type {\n",
       "        vertical-align: middle;\n",
       "    }\n",
       "\n",
       "    .dataframe tbody tr th {\n",
       "        vertical-align: top;\n",
       "    }\n",
       "\n",
       "    .dataframe thead th {\n",
       "        text-align: right;\n",
       "    }\n",
       "</style>\n",
       "<table border=\"1\" class=\"dataframe\">\n",
       "  <thead>\n",
       "    <tr style=\"text-align: right;\">\n",
       "      <th></th>\n",
       "      <th>34</th>\n",
       "      <th>33</th>\n",
       "      <th>32</th>\n",
       "      <th>31</th>\n",
       "      <th>30</th>\n",
       "      <th>29</th>\n",
       "      <th>28</th>\n",
       "      <th>27</th>\n",
       "      <th>26</th>\n",
       "      <th>25</th>\n",
       "      <th>...</th>\n",
       "      <th>9</th>\n",
       "      <th>8</th>\n",
       "      <th>7</th>\n",
       "      <th>6</th>\n",
       "      <th>5</th>\n",
       "      <th>4</th>\n",
       "      <th>3</th>\n",
       "      <th>2</th>\n",
       "      <th>1</th>\n",
       "      <th>0</th>\n",
       "    </tr>\n",
       "  </thead>\n",
       "  <tbody>\n",
       "    <tr>\n",
       "      <th>labor_income</th>\n",
       "      <td>2636.0</td>\n",
       "      <td>2845.0</td>\n",
       "      <td>2977.0</td>\n",
       "      <td>3126.0</td>\n",
       "      <td>3267.0</td>\n",
       "      <td>3377.0</td>\n",
       "      <td>3527.0</td>\n",
       "      <td>3659.0</td>\n",
       "      <td>3787.0</td>\n",
       "      <td>3908.0</td>\n",
       "      <td>...</td>\n",
       "      <td>5473.0</td>\n",
       "      <td>5555.0</td>\n",
       "      <td>5624.0</td>\n",
       "      <td>5657.0</td>\n",
       "      <td>5729.0</td>\n",
       "      <td>5800.0</td>\n",
       "      <td>5888.0</td>\n",
       "      <td>5930.0</td>\n",
       "      <td>5978.0</td>\n",
       "      <td>6065.0</td>\n",
       "    </tr>\n",
       "    <tr>\n",
       "      <th>financial_wealth</th>\n",
       "      <td>1000.0</td>\n",
       "      <td>2361.0</td>\n",
       "      <td>4141.0</td>\n",
       "      <td>6482.0</td>\n",
       "      <td>9526.0</td>\n",
       "      <td>13386.0</td>\n",
       "      <td>18403.0</td>\n",
       "      <td>24841.0</td>\n",
       "      <td>32335.0</td>\n",
       "      <td>40824.0</td>\n",
       "      <td>...</td>\n",
       "      <td>549979.0</td>\n",
       "      <td>629357.0</td>\n",
       "      <td>721833.0</td>\n",
       "      <td>824707.0</td>\n",
       "      <td>943250.0</td>\n",
       "      <td>1078070.0</td>\n",
       "      <td>1232375.0</td>\n",
       "      <td>1406182.0</td>\n",
       "      <td>1601973.0</td>\n",
       "      <td>1836823.0</td>\n",
       "    </tr>\n",
       "  </tbody>\n",
       "</table>\n",
       "<p>2 rows × 35 columns</p>\n",
       "</div>"
      ],
      "text/plain": [
       "                      34      33      32      31      30       29       28  \\\n",
       "labor_income      2636.0  2845.0  2977.0  3126.0  3267.0   3377.0   3527.0   \n",
       "financial_wealth  1000.0  2361.0  4141.0  6482.0  9526.0  13386.0  18403.0   \n",
       "\n",
       "                       27       26       25  ...        9         8   \\\n",
       "labor_income       3659.0   3787.0   3908.0  ...    5473.0    5555.0   \n",
       "financial_wealth  24841.0  32335.0  40824.0  ...  549979.0  629357.0   \n",
       "\n",
       "                        7         6         5          4          3   \\\n",
       "labor_income        5624.0    5657.0    5729.0     5800.0     5888.0   \n",
       "financial_wealth  721833.0  824707.0  943250.0  1078070.0  1232375.0   \n",
       "\n",
       "                         2          1          0   \n",
       "labor_income         5930.0     5978.0     6065.0  \n",
       "financial_wealth  1406182.0  1601973.0  1836823.0  \n",
       "\n",
       "[2 rows x 35 columns]"
      ]
     },
     "execution_count": 13,
     "metadata": {},
     "output_type": "execute_result"
    }
   ],
   "source": [
    "lc_data.T"
   ]
  },
  {
   "cell_type": "code",
   "execution_count": 14,
   "metadata": {},
   "outputs": [
    {
     "data": {
      "image/png": "[encoded data removed]",
      "text/plain": [
       "<Figure size 720x360 with 2 Axes>"
      ]
     },
     "metadata": {
      "needs_background": "light"
     },
     "output_type": "display_data"
    }
   ],
   "source": [
    "data_plotting(lc_data)"
   ]
  },
  {
   "cell_type": "code",
   "execution_count": 15,
   "metadata": {},
   "outputs": [
    {
     "data": {
      "image/png": "[encoded data removed]",
      "text/plain": [
       "<Figure size 720x360 with 1 Axes>"
      ]
     },
     "metadata": {
      "needs_background": "light"
     },
     "output_type": "display_data"
    }
   ],
   "source": [
    "lc_weights_plot(lc_weights)"
   ]
  },
  {
   "cell_type": "markdown",
   "metadata": {},
   "source": [
    "## University edu levels\n",
    "_______________"
   ]
  },
  {
   "cell_type": "code",
   "execution_count": 16,
   "metadata": {},
   "outputs": [],
   "source": [
    "group_characherize_data = {\"rho\":-0.010961, \"aggregate_risk\":np.sqrt(0.141262+0.005379), \n",
    "                           \"fixed_effect_coeff\":[7.8717-2.3055+0.3841+0.0440*2], \"age_coeff_list\":[0.1055, -0.0111, 0.0001], \n",
    "                           \"initial_wealth\":1000, \n",
    "                           \"initial_income\":np.exp(7.8717-2.3055+0.3841+0.0440*2 + (25 * 0.1055 + ((25**2 /10) * -0.0111) + ((25**3/100) * 0.0001)))}"
   ]
  },
  {
   "cell_type": "code",
   "execution_count": 17,
   "metadata": {},
   "outputs": [],
   "source": [
    "lc_weights, lc_data = lc_asset_allocation(asset_dic=asset_data, group_characherize_dic=group_characherize_data, sample_size=20000, gamma=4)"
   ]
  },
  {
   "cell_type": "code",
   "execution_count": 18,
   "metadata": {},
   "outputs": [
    {
     "data": {
      "text/html": [
       "<div>\n",
       "<style scoped>\n",
       "    .dataframe tbody tr th:only-of-type {\n",
       "        vertical-align: middle;\n",
       "    }\n",
       "\n",
       "    .dataframe tbody tr th {\n",
       "        vertical-align: top;\n",
       "    }\n",
       "\n",
       "    .dataframe thead th {\n",
       "        text-align: right;\n",
       "    }\n",
       "</style>\n",
       "<table border=\"1\" class=\"dataframe\">\n",
       "  <thead>\n",
       "    <tr style=\"text-align: right;\">\n",
       "      <th></th>\n",
       "      <th>34</th>\n",
       "      <th>33</th>\n",
       "      <th>32</th>\n",
       "      <th>31</th>\n",
       "      <th>30</th>\n",
       "      <th>29</th>\n",
       "      <th>28</th>\n",
       "      <th>27</th>\n",
       "      <th>26</th>\n",
       "      <th>25</th>\n",
       "      <th>...</th>\n",
       "      <th>9</th>\n",
       "      <th>8</th>\n",
       "      <th>7</th>\n",
       "      <th>6</th>\n",
       "      <th>5</th>\n",
       "      <th>4</th>\n",
       "      <th>3</th>\n",
       "      <th>2</th>\n",
       "      <th>1</th>\n",
       "      <th>0</th>\n",
       "    </tr>\n",
       "  </thead>\n",
       "  <tbody>\n",
       "    <tr>\n",
       "      <th>labor_income</th>\n",
       "      <td>2974.0</td>\n",
       "      <td>3195.0</td>\n",
       "      <td>3358.0</td>\n",
       "      <td>3541.0</td>\n",
       "      <td>3719.0</td>\n",
       "      <td>3866.0</td>\n",
       "      <td>4054.0</td>\n",
       "      <td>4225.0</td>\n",
       "      <td>4390.0</td>\n",
       "      <td>4550.0</td>\n",
       "      <td>...</td>\n",
       "      <td>6212.0</td>\n",
       "      <td>6249.0</td>\n",
       "      <td>6250.0</td>\n",
       "      <td>6216.0</td>\n",
       "      <td>6191.0</td>\n",
       "      <td>6177.0</td>\n",
       "      <td>6154.0</td>\n",
       "      <td>6091.0</td>\n",
       "      <td>6008.0</td>\n",
       "      <td>5950.0</td>\n",
       "    </tr>\n",
       "    <tr>\n",
       "      <th>financial_wealth</th>\n",
       "      <td>1000.0</td>\n",
       "      <td>2494.0</td>\n",
       "      <td>4457.0</td>\n",
       "      <td>7044.0</td>\n",
       "      <td>10417.0</td>\n",
       "      <td>14705.0</td>\n",
       "      <td>20284.0</td>\n",
       "      <td>27458.0</td>\n",
       "      <td>36278.0</td>\n",
       "      <td>46308.0</td>\n",
       "      <td>...</td>\n",
       "      <td>647715.0</td>\n",
       "      <td>741310.0</td>\n",
       "      <td>850229.0</td>\n",
       "      <td>971464.0</td>\n",
       "      <td>1111071.0</td>\n",
       "      <td>1269859.0</td>\n",
       "      <td>1451557.0</td>\n",
       "      <td>1656274.0</td>\n",
       "      <td>1886842.0</td>\n",
       "      <td>2163455.0</td>\n",
       "    </tr>\n",
       "  </tbody>\n",
       "</table>\n",
       "<p>2 rows × 35 columns</p>\n",
       "</div>"
      ],
      "text/plain": [
       "                      34      33      32      31       30       29       28  \\\n",
       "labor_income      2974.0  3195.0  3358.0  3541.0   3719.0   3866.0   4054.0   \n",
       "financial_wealth  1000.0  2494.0  4457.0  7044.0  10417.0  14705.0  20284.0   \n",
       "\n",
       "                       27       26       25  ...        9         8   \\\n",
       "labor_income       4225.0   4390.0   4550.0  ...    6212.0    6249.0   \n",
       "financial_wealth  27458.0  36278.0  46308.0  ...  647715.0  741310.0   \n",
       "\n",
       "                        7         6          5          4          3   \\\n",
       "labor_income        6250.0    6216.0     6191.0     6177.0     6154.0   \n",
       "financial_wealth  850229.0  971464.0  1111071.0  1269859.0  1451557.0   \n",
       "\n",
       "                         2          1          0   \n",
       "labor_income         6091.0     6008.0     5950.0  \n",
       "financial_wealth  1656274.0  1886842.0  2163455.0  \n",
       "\n",
       "[2 rows x 35 columns]"
      ]
     },
     "execution_count": 18,
     "metadata": {},
     "output_type": "execute_result"
    }
   ],
   "source": [
    "lc_data.T"
   ]
  },
  {
   "cell_type": "code",
   "execution_count": 19,
   "metadata": {},
   "outputs": [
    {
     "data": {
      "image/png": "[encoded data removed]",
      "text/plain": [
       "<Figure size 720x360 with 2 Axes>"
      ]
     },
     "metadata": {
      "needs_background": "light"
     },
     "output_type": "display_data"
    }
   ],
   "source": [
    "data_plotting(lc_data)"
   ]
  },
  {
   "cell_type": "code",
   "execution_count": 20,
   "metadata": {},
   "outputs": [
    {
     "data": {
      "image/png": "[encoded data removed]",
      "text/plain": [
       "<Figure size 720x360 with 1 Axes>"
      ]
     },
     "metadata": {
      "needs_background": "light"
     },
     "output_type": "display_data"
    }
   ],
   "source": [
    "lc_weights_plot(lc_weights)"
   ]
  }
 ],
 "metadata": {
  "kernelspec": {
   "display_name": "Python 3",
   "language": "python",
   "name": "python3"
  },
  "language_info": {
   "codemirror_mode": {
    "name": "ipython",
    "version": 3
   },
   "file_extension": ".py",
   "mimetype": "text/x-python",
   "name": "python",
   "nbconvert_exporter": "python",
   "pygments_lexer": "ipython3",
   "version": "3.7.4"
  }
 },
 "nbformat": 4,
 "nbformat_minor": 2
}
