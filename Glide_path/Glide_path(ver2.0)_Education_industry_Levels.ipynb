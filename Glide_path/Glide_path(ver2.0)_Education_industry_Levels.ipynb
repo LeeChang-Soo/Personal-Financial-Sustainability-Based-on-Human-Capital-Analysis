{
 "cells": [
  {
   "cell_type": "code",
   "execution_count": 1,
   "metadata": {},
   "outputs": [],
   "source": [
    "import pandas as pd\n",
    "import numpy as np\n",
    "import scipy.stats as stats\n",
    "from scipy.optimize import minimize\n",
    "import matplotlib.pyplot as plt"
   ]
  },
  {
   "cell_type": "code",
   "execution_count": 2,
   "metadata": {},
   "outputs": [],
   "source": [
    "class Maximize(object):\n",
    "    period = 30\n",
    "    #np.random.seed(period)\n",
    "\n",
    "    \n",
    "    def __init__(self, n, rho, gamma):\n",
    "        self.n = n\n",
    "        self.rho = rho\n",
    "        self.gamma = gamma\n",
    "        \n",
    "        \n",
    "    def MC_data(self):\n",
    "        self.market_ = stats.norm.rvs(size=(self.n, self.period+1), loc=0, scale=1)\n",
    "        self.rf_ = stats.norm.rvs(size=(self.n, self.period+1), loc=0, scale=1)\n",
    "        self.brownian_ = stats.norm.rvs(size=(self.n, self.period+1), loc=0, scale=1)\n",
    "        self.hc_ = self.rho * self.market_ + np.sqrt(1 - self.rho ** 2) * self.brownian_\n",
    "\n",
    "        \n",
    "    def get_original_H(self, hc_mu, hc_sigma):\n",
    "        dc_rate = np.exp((0.04 + 0.04 + 0.0) * (np.array(range(self.period)) + 1) * (-1))\n",
    "        \n",
    "        if self.period == 0:\n",
    "            self.labor_income = np.zeros([self.n, self.period+1])\n",
    "            self.H_t = np.zeros([self.n])\n",
    "        else:\n",
    "            self.labor_income = self.initial_income*np.cumprod(np.exp(hc_mu+hc_sigma*(self.rho * self.market_[:, :-1] + np.sqrt(1 - self.rho ** 2) * self.hc_[:, :-1])), axis=1)\n",
    "            self.H_t = self.labor_income @ dc_rate\n",
    "    \n",
    "    \n",
    "    def get_asset_ret(self, market_mu, market_sigma, rf_mu, rf_sigma):\n",
    "        risky_ret = np.exp(market_mu+(0.5*(market_sigma**2))+market_sigma*self.market_[:, 0])\n",
    "        rf_ret = np.exp(rf_mu+(0.5*(rf_sigma**2))+rf_sigma*self.rf_[:, 0])\n",
    "        #rf_ret = np.exp(rf_mu*np.ones(market_[:, 0].shape))\n",
    "        \n",
    "        self.R_t =  np.array([risky_ret, rf_ret]).T\n",
    "    \n",
    "    \n",
    "    def fit(self):\n",
    "        def obj(weight, gamma):\n",
    "            W_t = (self.initial_wealth+(self.initial_income*0.3))*(self.R_t @ weight)\n",
    "\n",
    "            if self.gamma == 1:\n",
    "                obj = np.log(W_t+self.H_t) * (-1)\n",
    "            else:\n",
    "                obj = (((W_t+self.H_t) ** (1-self.gamma)) / (1-self.gamma)) * (-1)\n",
    "\n",
    "            return np.mean(obj)\n",
    "\n",
    "        x = np.ones([self.R_t.shape[1]]) / self.R_t.shape[1]\n",
    "        cons = ({'type': 'ineq', 'fun': lambda x: 1 - np.sum(x)},\n",
    "                {'type': 'ineq', 'fun': lambda x: x},)\n",
    "        optimized = minimize(obj, x, (self.gamma), method='COBYLA', constraints=cons)\n",
    "        if not optimized.success: raise BaseException(optimized.message)\n",
    "        return np.round(optimized.x, 4)\n",
    "    \n",
    "        \n",
    "    def change_parameters(self, period, initial_wealth, initial_income):\n",
    "        self.period = period\n",
    "        self.initial_wealth = initial_wealth\n",
    "        self.initial_income = initial_income"
   ]
  },
  {
   "cell_type": "code",
   "execution_count": 3,
   "metadata": {},
   "outputs": [],
   "source": [
    "class Maximize_Calibraton(object):\n",
    "    period = 30\n",
    "    #np.random.seed(period)\n",
    "    retirement_age = 60\n",
    "\n",
    "    \n",
    "    def __init__(self, n, rho, gamma, aggregate_risk):\n",
    "        self.n = n\n",
    "        self.rho = rho\n",
    "        self.gamma = gamma\n",
    "        self.aggregate_risk = aggregate_risk\n",
    "        \n",
    "            \n",
    "    def MC_data(self):\n",
    "        self.market_ = stats.norm.rvs(size=(self.n, self.period+2), loc=0, scale=1)\n",
    "        self.rf_ = stats.norm.rvs(size=(self.n, self.period+2), loc=0, scale=1)\n",
    "        self.brownian_ = stats.norm.rvs(size=(self.n, self.period+2), loc=0, scale=1)\n",
    "        self.hc_ = self.aggregate_risk*(self.rho * self.market_ + np.sqrt(1 - self.rho ** 2) * self.brownian_)\n",
    "\n",
    "\n",
    "    def get_calibration_H(self, fixed_effect_coeff, age_coeff_list):\n",
    "        dc_rate = np.exp((0.04 + 0.04 + 0.0) * (np.array(range(self.period+1)) + 1) * (-1))\n",
    "        age_list = np.array(list(range(self.retirement_age-(self.period+1), self.retirement_age)))\n",
    "\n",
    "        after_retire_H_t = np.exp(fixed_effect_coeff) / (1-dc_rate[0])\n",
    "        if self.period == 0:\n",
    "            self.labor_income = np.exp(fixed_effect_coeff)\n",
    "            self.H_t = after_retire_H_t\n",
    "        else:\n",
    "            ic_list = fixed_effect_coeff + (age_list * age_coeff_list[0]) + ((age_list**2 /10) * age_coeff_list[1]) + ((age_list**3/100) * age_coeff_list[2])\n",
    "            self.labor_income = np.exp(np.array([ic_list]*self.n)  + self.hc_[:, :-1])\n",
    "            self.H_t = self.labor_income @ dc_rate + (after_retire_H_t * dc_rate[-1])\n",
    "\n",
    "    \n",
    "    def get_asset_ret(self, market_mu, market_sigma, rf_mu, rf_sigma):\n",
    "        risky_ret = np.exp(market_mu+(0.5*(market_sigma**2))+market_sigma*self.market_[:, 0])\n",
    "        rf_ret = np.exp(rf_mu+(0.5*(rf_sigma**2))+rf_sigma*self.rf_[:, 0])\n",
    "        #rf_ret = np.exp(rf_mu*np.ones(market_[:, 0].shape))\n",
    "        \n",
    "        self.R_t =  np.array([risky_ret, rf_ret]).T\n",
    "    \n",
    "    \n",
    "    def fit(self):\n",
    "        def obj(weight, gamma):\n",
    "            W_t = (self.initial_wealth+(self.initial_income*0.3))*(self.R_t @ weight)\n",
    "\n",
    "            if self.gamma == 1:\n",
    "                obj = np.log(W_t+self.H_t) * (-1)\n",
    "            else:\n",
    "                obj = (((W_t+self.H_t) ** (1-self.gamma)) / (1-self.gamma)) * (-1)\n",
    "\n",
    "            return np.mean(obj)\n",
    "\n",
    "        x = np.ones([self.R_t.shape[1]]) / self.R_t.shape[1]\n",
    "        cons = ({'type': 'ineq', 'fun': lambda x: 1 - np.sum(x)},\n",
    "                {'type': 'ineq', 'fun': lambda x: x},)\n",
    "        optimized = minimize(obj, x, (self.gamma), method='COBYLA', constraints=cons)\n",
    "        if not optimized.success: raise BaseException(optimized.message)\n",
    "        return np.round(optimized.x, 4)\n",
    "    \n",
    "        \n",
    "    def change_parameters(self, period, initial_wealth, initial_income, retirement_age=60):\n",
    "        self.period = period\n",
    "        self.initial_wealth = initial_wealth\n",
    "        self.initial_income = initial_income\n",
    "        self.retirement_age = retirement_age"
   ]
  },
  {
   "cell_type": "code",
   "execution_count": 4,
   "metadata": {},
   "outputs": [],
   "source": [
    "def lc_asset_allocation(asset_dic, group_characherize_dic, sample_size=20000, gamma=4):\n",
    "    np.random.seed(30)\n",
    "\n",
    "    lc_weights = []\n",
    "    lc_labor_income = []\n",
    "    lc_wealth = []\n",
    "    model = Maximize_Calibraton(n=sample_size, rho=group_characherize_data[\"rho\"], gamma=gamma, aggregate_risk=group_characherize_data[\"aggregate_risk\"])\n",
    "    for i in range(35)[::-1]:\n",
    "\n",
    "        if i is range(35)[::-1][0]:\n",
    "            financial_wealth = group_characherize_data[\"initial_wealth\"]\n",
    "            income = group_characherize_data[\"initial_income\"]\n",
    "            model.change_parameters(i, financial_wealth, income)\n",
    "        else:\n",
    "            financial_wealth = (model.initial_wealth + np.mean(model.labor_income[:, 0]) * 0.3) * np.mean(model.R_t @ model.fit())\n",
    "            income = np.mean(model.labor_income[:, 0])\n",
    "            model.change_parameters(i, financial_wealth, income)\n",
    "\n",
    "        model.MC_data()\n",
    "        model.get_calibration_H(fixed_effect_coeff=group_characherize_data[\"fixed_effect_coeff\"], age_coeff_list=group_characherize_data[\"age_coeff_list\"])\n",
    "        model.get_asset_ret(market_mu=asset_data[\"risky\"][0], market_sigma=asset_data[\"risky\"][1], \n",
    "                            rf_mu=asset_data[\"rf\"][0], rf_sigma=asset_data[\"rf\"][1])\n",
    "        opt_weights = model.fit()\n",
    "\n",
    "        lc_weights.append(opt_weights)\n",
    "        lc_labor_income.append(np.round(income))\n",
    "        lc_wealth.append(np.round(financial_wealth))\n",
    "        #print(model.period, opt_weights * 100, np.round(financial_wealth), np.round(income))\n",
    "\n",
    "        #print(model.period, model.fit() * 100, np.round(model.initial_wealth), np.round(np.mean(model.labor_income[:, 0])))\n",
    "\n",
    "    lc_df = pd.DataFrame(lc_weights, columns=[\"risky_asset\", \"risk_free\"]) * 100\n",
    "    lc_total_df = pd.DataFrame(np.array([lc_labor_income, lc_wealth]).T, index=range(35)[::-1], columns=[\"labor_income\", \"financial_wealth\"])\n",
    "    \n",
    "    return lc_df, lc_total_df\n",
    "\n",
    "\n",
    "def data_plotting(lc_total_df):\n",
    "    fig = plt.figure(figsize=(10, 5))\n",
    "    ax = fig.add_subplot(111)\n",
    "\n",
    "    ln1 = ax.plot(lc_total_df.index[::-1], lc_total_df.labor_income, color=\"b\", label=\"labor_income\")\n",
    "    ax2 = ax.twinx()\n",
    "    ln2 = ax2.plot(lc_total_df.index[::-1], lc_total_df.financial_wealth, color=\"r\", linestyle=\"--\", label=\"financial_wealth\")\n",
    "\n",
    "    lns = ln1+ln2\n",
    "    labs = [l.get_label() for l in lns]\n",
    "    ax.legend(lns, labs)\n",
    "\n",
    "    plt.show()\n",
    "    \n",
    "\n",
    "def lc_weights_plot(lc_df):\n",
    "    plt.figure(figsize=(10, 5))\n",
    "    plt.fill_between(lc_df.index, lc_df[\"risky_asset\"])\n",
    "    plt.fill_between(lc_df.index, lc_df[\"risky_asset\"], 100)\n",
    "    plt.legend([\"risky_asset\", \"risk_free\"])\n",
    "    plt.ylim(0, 100)\n",
    "    plt.show()"
   ]
  },
  {
   "cell_type": "markdown",
   "metadata": {},
   "source": [
    "  "
   ]
  },
  {
   "cell_type": "code",
   "execution_count": 5,
   "metadata": {},
   "outputs": [],
   "source": [
    "asset_data = {\"risky\": [0.12, 0.35], \"rf\":[0.04, 0.03]}"
   ]
  },
  {
   "cell_type": "markdown",
   "metadata": {},
   "source": [
    "## High_school & 제조업 group\n",
    "_______________"
   ]
  },
  {
   "cell_type": "code",
   "execution_count": 6,
   "metadata": {},
   "outputs": [],
   "source": [
    "group_characherize_data = {\"rho\":0.083030, \"aggregate_risk\":np.sqrt(0.128567+0.005564), \n",
    "                           \"fixed_effect_coeff\":[7.720276+1.568559+0.224784+0.067588*2], \"age_coeff_list\":[-0.157337, 0.043551, -0.003399], \n",
    "                           \"initial_wealth\":1000, \n",
    "                           \"initial_income\":np.exp(7.720276+1.568559+0.224784+0.067588*2 + (25 * -0.157337 + ((25**2 /10) *0.043551) + ((25**3/100) * -0.003399)))}"
   ]
  },
  {
   "cell_type": "code",
   "execution_count": 7,
   "metadata": {},
   "outputs": [],
   "source": [
    "lc_weights, lc_data = lc_asset_allocation(asset_dic=asset_data, group_characherize_dic=group_characherize_data, sample_size=20000, gamma=4)"
   ]
  },
  {
   "cell_type": "code",
   "execution_count": 8,
   "metadata": {},
   "outputs": [
    {
     "data": {
      "text/html": [
       "<div>\n",
       "<style scoped>\n",
       "    .dataframe tbody tr th:only-of-type {\n",
       "        vertical-align: middle;\n",
       "    }\n",
       "\n",
       "    .dataframe tbody tr th {\n",
       "        vertical-align: top;\n",
       "    }\n",
       "\n",
       "    .dataframe thead th {\n",
       "        text-align: right;\n",
       "    }\n",
       "</style>\n",
       "<table border=\"1\" class=\"dataframe\">\n",
       "  <thead>\n",
       "    <tr style=\"text-align: right;\">\n",
       "      <th></th>\n",
       "      <th>34</th>\n",
       "      <th>33</th>\n",
       "      <th>32</th>\n",
       "      <th>31</th>\n",
       "      <th>30</th>\n",
       "      <th>29</th>\n",
       "      <th>28</th>\n",
       "      <th>27</th>\n",
       "      <th>26</th>\n",
       "      <th>25</th>\n",
       "      <th>...</th>\n",
       "      <th>9</th>\n",
       "      <th>8</th>\n",
       "      <th>7</th>\n",
       "      <th>6</th>\n",
       "      <th>5</th>\n",
       "      <th>4</th>\n",
       "      <th>3</th>\n",
       "      <th>2</th>\n",
       "      <th>1</th>\n",
       "      <th>0</th>\n",
       "    </tr>\n",
       "  </thead>\n",
       "  <tbody>\n",
       "    <tr>\n",
       "      <th>labor_income</th>\n",
       "      <td>2714.0</td>\n",
       "      <td>2898.0</td>\n",
       "      <td>2891.0</td>\n",
       "      <td>2908.0</td>\n",
       "      <td>2930.0</td>\n",
       "      <td>2936.0</td>\n",
       "      <td>2982.0</td>\n",
       "      <td>3024.0</td>\n",
       "      <td>3072.0</td>\n",
       "      <td>3126.0</td>\n",
       "      <td>...</td>\n",
       "      <td>4744.0</td>\n",
       "      <td>4872.0</td>\n",
       "      <td>4980.0</td>\n",
       "      <td>5060.0</td>\n",
       "      <td>5153.0</td>\n",
       "      <td>5251.0</td>\n",
       "      <td>5344.0</td>\n",
       "      <td>5397.0</td>\n",
       "      <td>5431.0</td>\n",
       "      <td>5481.0</td>\n",
       "    </tr>\n",
       "    <tr>\n",
       "      <th>financial_wealth</th>\n",
       "      <td>1000.0</td>\n",
       "      <td>2381.0</td>\n",
       "      <td>4134.0</td>\n",
       "      <td>6390.0</td>\n",
       "      <td>9279.0</td>\n",
       "      <td>12904.0</td>\n",
       "      <td>17580.0</td>\n",
       "      <td>23554.0</td>\n",
       "      <td>31231.0</td>\n",
       "      <td>40953.0</td>\n",
       "      <td>...</td>\n",
       "      <td>753680.0</td>\n",
       "      <td>869196.0</td>\n",
       "      <td>1004518.0</td>\n",
       "      <td>1155801.0</td>\n",
       "      <td>1330973.0</td>\n",
       "      <td>1531111.0</td>\n",
       "      <td>1761241.0</td>\n",
       "      <td>2021511.0</td>\n",
       "      <td>2315864.0</td>\n",
       "      <td>2670732.0</td>\n",
       "    </tr>\n",
       "  </tbody>\n",
       "</table>\n",
       "<p>2 rows × 35 columns</p>\n",
       "</div>"
      ],
      "text/plain": [
       "                      34      33      32      31      30       29       28  \\\n",
       "labor_income      2714.0  2898.0  2891.0  2908.0  2930.0   2936.0   2982.0   \n",
       "financial_wealth  1000.0  2381.0  4134.0  6390.0  9279.0  12904.0  17580.0   \n",
       "\n",
       "                       27       26       25  ...        9         8   \\\n",
       "labor_income       3024.0   3072.0   3126.0  ...    4744.0    4872.0   \n",
       "financial_wealth  23554.0  31231.0  40953.0  ...  753680.0  869196.0   \n",
       "\n",
       "                         7          6          5          4          3   \\\n",
       "labor_income         4980.0     5060.0     5153.0     5251.0     5344.0   \n",
       "financial_wealth  1004518.0  1155801.0  1330973.0  1531111.0  1761241.0   \n",
       "\n",
       "                         2          1          0   \n",
       "labor_income         5397.0     5431.0     5481.0  \n",
       "financial_wealth  2021511.0  2315864.0  2670732.0  \n",
       "\n",
       "[2 rows x 35 columns]"
      ]
     },
     "execution_count": 8,
     "metadata": {},
     "output_type": "execute_result"
    }
   ],
   "source": [
    "lc_data.T"
   ]
  },
  {
   "cell_type": "code",
   "execution_count": 9,
   "metadata": {},
   "outputs": [
    {
     "data": {
      "image/png": "[encoded data removed]",
      "text/plain": [
       "<Figure size 720x360 with 2 Axes>"
      ]
     },
     "metadata": {
      "needs_background": "light"
     },
     "output_type": "display_data"
    }
   ],
   "source": [
    "data_plotting(lc_data)"
   ]
  },
  {
   "cell_type": "code",
   "execution_count": 10,
   "metadata": {},
   "outputs": [
    {
     "data": {
      "image/png": "[encoded data removed]",
      "text/plain": [
       "<Figure size 720x360 with 1 Axes>"
      ]
     },
     "metadata": {
      "needs_background": "light"
     },
     "output_type": "display_data"
    }
   ],
   "source": [
    "lc_weights_plot(lc_weights)"
   ]
  },
  {
   "cell_type": "markdown",
   "metadata": {},
   "source": [
    "## University & 보건 및 사회복지업 group\n",
    "_______________"
   ]
  },
  {
   "cell_type": "code",
   "execution_count": 11,
   "metadata": {},
   "outputs": [],
   "source": [
    "group_characherize_data = {\"rho\":0.583032, \"aggregate_risk\":np.sqrt(0.122719-0.004858), \n",
    "                           \"fixed_effect_coeff\":[7.832666+7.331357+0.747807+0.027815*2], \"age_coeff_list\":[-0.555193, 0.136701, -0.010664], \n",
    "                           \"initial_wealth\":1000, \n",
    "                           \"initial_income\":np.exp(7.832666+7.331357+0.747807+0.027815*2 + (25 * -0.555193 + ((25**2 /10) *0.136701) + ((25**3/100) * -0.010664)))}"
   ]
  },
  {
   "cell_type": "code",
   "execution_count": 12,
   "metadata": {},
   "outputs": [],
   "source": [
    "lc_weights, lc_data = lc_asset_allocation(asset_dic=asset_data, group_characherize_dic=group_characherize_data, sample_size=20000, gamma=4)"
   ]
  },
  {
   "cell_type": "code",
   "execution_count": 13,
   "metadata": {},
   "outputs": [
    {
     "data": {
      "text/html": [
       "<div>\n",
       "<style scoped>\n",
       "    .dataframe tbody tr th:only-of-type {\n",
       "        vertical-align: middle;\n",
       "    }\n",
       "\n",
       "    .dataframe tbody tr th {\n",
       "        vertical-align: top;\n",
       "    }\n",
       "\n",
       "    .dataframe thead th {\n",
       "        text-align: right;\n",
       "    }\n",
       "</style>\n",
       "<table border=\"1\" class=\"dataframe\">\n",
       "  <thead>\n",
       "    <tr style=\"text-align: right;\">\n",
       "      <th></th>\n",
       "      <th>34</th>\n",
       "      <th>33</th>\n",
       "      <th>32</th>\n",
       "      <th>31</th>\n",
       "      <th>30</th>\n",
       "      <th>29</th>\n",
       "      <th>28</th>\n",
       "      <th>27</th>\n",
       "      <th>26</th>\n",
       "      <th>25</th>\n",
       "      <th>...</th>\n",
       "      <th>9</th>\n",
       "      <th>8</th>\n",
       "      <th>7</th>\n",
       "      <th>6</th>\n",
       "      <th>5</th>\n",
       "      <th>4</th>\n",
       "      <th>3</th>\n",
       "      <th>2</th>\n",
       "      <th>1</th>\n",
       "      <th>0</th>\n",
       "    </tr>\n",
       "  </thead>\n",
       "  <tbody>\n",
       "    <tr>\n",
       "      <th>labor_income</th>\n",
       "      <td>7826.0</td>\n",
       "      <td>8290.0</td>\n",
       "      <td>7753.0</td>\n",
       "      <td>7366.0</td>\n",
       "      <td>7053.0</td>\n",
       "      <td>6762.0</td>\n",
       "      <td>6612.0</td>\n",
       "      <td>6490.0</td>\n",
       "      <td>6419.0</td>\n",
       "      <td>6380.0</td>\n",
       "      <td>...</td>\n",
       "      <td>8946.0</td>\n",
       "      <td>9083.0</td>\n",
       "      <td>9174.0</td>\n",
       "      <td>9162.0</td>\n",
       "      <td>9170.0</td>\n",
       "      <td>9093.0</td>\n",
       "      <td>8989.0</td>\n",
       "      <td>8753.0</td>\n",
       "      <td>8466.0</td>\n",
       "      <td>8166.0</td>\n",
       "    </tr>\n",
       "    <tr>\n",
       "      <th>financial_wealth</th>\n",
       "      <td>1000.0</td>\n",
       "      <td>4441.0</td>\n",
       "      <td>8613.0</td>\n",
       "      <td>13813.0</td>\n",
       "      <td>20334.0</td>\n",
       "      <td>28404.0</td>\n",
       "      <td>38715.0</td>\n",
       "      <td>51805.0</td>\n",
       "      <td>68560.0</td>\n",
       "      <td>89719.0</td>\n",
       "      <td>...</td>\n",
       "      <td>4819506.0</td>\n",
       "      <td>6141867.0</td>\n",
       "      <td>7837696.0</td>\n",
       "      <td>9965518.0</td>\n",
       "      <td>12729362.0</td>\n",
       "      <td>16202204.0</td>\n",
       "      <td>20708136.0</td>\n",
       "      <td>26369981.0</td>\n",
       "      <td>33597104.0</td>\n",
       "      <td>43093591.0</td>\n",
       "    </tr>\n",
       "  </tbody>\n",
       "</table>\n",
       "<p>2 rows × 35 columns</p>\n",
       "</div>"
      ],
      "text/plain": [
       "                      34      33      32       31       30       29       28  \\\n",
       "labor_income      7826.0  8290.0  7753.0   7366.0   7053.0   6762.0   6612.0   \n",
       "financial_wealth  1000.0  4441.0  8613.0  13813.0  20334.0  28404.0  38715.0   \n",
       "\n",
       "                       27       26       25  ...         9          8   \\\n",
       "labor_income       6490.0   6419.0   6380.0  ...     8946.0     9083.0   \n",
       "financial_wealth  51805.0  68560.0  89719.0  ...  4819506.0  6141867.0   \n",
       "\n",
       "                         7          6           5           4           3   \\\n",
       "labor_income         9174.0     9162.0      9170.0      9093.0      8989.0   \n",
       "financial_wealth  7837696.0  9965518.0  12729362.0  16202204.0  20708136.0   \n",
       "\n",
       "                          2           1           0   \n",
       "labor_income          8753.0      8466.0      8166.0  \n",
       "financial_wealth  26369981.0  33597104.0  43093591.0  \n",
       "\n",
       "[2 rows x 35 columns]"
      ]
     },
     "execution_count": 13,
     "metadata": {},
     "output_type": "execute_result"
    }
   ],
   "source": [
    "lc_data.T"
   ]
  },
  {
   "cell_type": "code",
   "execution_count": 14,
   "metadata": {},
   "outputs": [
    {
     "data": {
      "image/png": "[encoded data removed]",
      "text/plain": [
       "<Figure size 720x360 with 2 Axes>"
      ]
     },
     "metadata": {
      "needs_background": "light"
     },
     "output_type": "display_data"
    }
   ],
   "source": [
    "data_plotting(lc_data)"
   ]
  },
  {
   "cell_type": "code",
   "execution_count": 15,
   "metadata": {},
   "outputs": [
    {
     "data": {
      "image/png": "[encoded data removed]",
      "text/plain": [
       "<Figure size 720x360 with 1 Axes>"
      ]
     },
     "metadata": {
      "needs_background": "light"
     },
     "output_type": "display_data"
    }
   ],
   "source": [
    "lc_weights_plot(lc_weights)"
   ]
  }
 ],
 "metadata": {
  "kernelspec": {
   "display_name": "Python 3",
   "language": "python",
   "name": "python3"
  },
  "language_info": {
   "codemirror_mode": {
    "name": "ipython",
    "version": 3
   },
   "file_extension": ".py",
   "mimetype": "text/x-python",
   "name": "python",
   "nbconvert_exporter": "python",
   "pygments_lexer": "ipython3",
   "version": "3.7.4"
  }
 },
 "nbformat": 4,
 "nbformat_minor": 2
}
