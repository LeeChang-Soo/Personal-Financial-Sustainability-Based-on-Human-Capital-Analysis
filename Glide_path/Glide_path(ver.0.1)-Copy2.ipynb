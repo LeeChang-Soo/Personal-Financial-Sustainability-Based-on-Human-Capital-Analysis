{
 "cells": [
  {
   "cell_type": "code",
   "execution_count": 3,
   "metadata": {},
   "outputs": [],
   "source": [
    "import pandas as pd\n",
    "import numpy as np\n",
    "import scipy.stats as stats"
   ]
  },
  {
   "cell_type": "code",
   "execution_count": 187,
   "metadata": {},
   "outputs": [],
   "source": [
    "size = 3\n",
    "period = 7\n",
    "\n",
    "market_ = stats.norm.rvs(size=(size, period), loc=0, scale=1)\n",
    "brownian_ = stats.norm.rvs(size=(size, period), loc=0, scale=1)"
   ]
  },
  {
   "cell_type": "code",
   "execution_count": 176,
   "metadata": {},
   "outputs": [],
   "source": [
    "rho = 0.05"
   ]
  },
  {
   "cell_type": "code",
   "execution_count": 188,
   "metadata": {},
   "outputs": [
    {
     "data": {
      "text/plain": [
       "array([[-0.41425909,  1.36550328,  0.15349363,  0.68799751,  0.34067532,\n",
       "        -0.69706409,  0.85043006],\n",
       "       [ 0.35867901, -0.12865714, -0.14249433,  1.5036424 , -0.52433473,\n",
       "         0.06540607,  0.45364629],\n",
       "       [ 0.34517245, -0.47332558, -0.81155228,  0.58795408, -0.56370473,\n",
       "         0.29410779, -0.6992361 ]])"
      ]
     },
     "execution_count": 188,
     "metadata": {},
     "output_type": "execute_result"
    }
   ],
   "source": [
    "hc_ = rho * market_ + np.sqrt(1 - rho ** 2) * brownian_\n",
    "hc_"
   ]
  },
  {
   "cell_type": "code",
   "execution_count": 178,
   "metadata": {},
   "outputs": [
    {
     "data": {
      "text/plain": [
       "array([ 1.14569313, -1.26144929,  0.56097675])"
      ]
     },
     "execution_count": 178,
     "metadata": {},
     "output_type": "execute_result"
    }
   ],
   "source": [
    "hc_[:, 1]"
   ]
  },
  {
   "cell_type": "code",
   "execution_count": 179,
   "metadata": {},
   "outputs": [],
   "source": [
    "hc = np.ones([size, ]) * 3000"
   ]
  },
  {
   "cell_type": "code",
   "execution_count": 180,
   "metadata": {},
   "outputs": [
    {
     "data": {
      "text/plain": [
       "array([3926.50970258, 2426.19073973, 3493.16303438])"
      ]
     },
     "execution_count": 180,
     "metadata": {},
     "output_type": "execute_result"
    }
   ],
   "source": [
    "h_xt = hc * np.exp(0.04 + (0.2 * hc_[:, 1]))\n",
    "h_xt"
   ]
  },
  {
   "cell_type": "code",
   "execution_count": 181,
   "metadata": {},
   "outputs": [
    {
     "data": {
      "text/plain": [
       "0.941763591820186"
      ]
     },
     "execution_count": 181,
     "metadata": {},
     "output_type": "execute_result"
    }
   ],
   "source": [
    "dis_rate = np.exp((-1) * (0.02+0.04+0.000001))\n",
    "dis_rate"
   ]
  },
  {
   "cell_type": "code",
   "execution_count": 182,
   "metadata": {},
   "outputs": [
    {
     "data": {
      "text/plain": [
       "array([3697.84388082, 2284.89810549, 3289.73376607])"
      ]
     },
     "execution_count": 182,
     "metadata": {},
     "output_type": "execute_result"
    }
   ],
   "source": [
    "h_xt * dis_rate"
   ]
  },
  {
   "cell_type": "code",
   "execution_count": 183,
   "metadata": {},
   "outputs": [
    {
     "data": {
      "text/plain": [
       "array([0.94175512, 0.8869027 , 0.83524515, 0.7865964 , 0.74078118,\n",
       "       0.69763447, 0.65700083])"
      ]
     },
     "execution_count": 183,
     "metadata": {},
     "output_type": "execute_result"
    }
   ],
   "source": [
    "np.exp((0.02+0.04+0.00001)*(np.array(range(period)) + 1) * (-1))"
   ]
  },
  {
   "cell_type": "code",
   "execution_count": null,
   "metadata": {},
   "outputs": [],
   "source": []
  },
  {
   "cell_type": "code",
   "execution_count": 184,
   "metadata": {},
   "outputs": [],
   "source": [
    "def gen_labor_income(initial_hc, mu_h, sigma_h, eta, hc_, rf, size=20000, period=30):\n",
    "    hc = np.ones([size, ]) * initial_hc\n",
    "    \n",
    "    hc_list = []\n",
    "    for i in range(period):\n",
    "        hc_t = hc * np.exp(mu_h + (sigma_h * hc_[:, i]))\n",
    "        hc_list.append(hc_t)\n",
    "        hc = hc_t\n",
    "        \n",
    "    return pd.DataFrame(hc_list).T"
   ]
  },
  {
   "cell_type": "code",
   "execution_count": 185,
   "metadata": {},
   "outputs": [],
   "source": [
    "def get_discount_rate(rf, eta, period=30):\n",
    "    dc_rate = np.exp((rf + 0.04 + eta) * (np.array(range(period)) + 1) * (-1))\n",
    "    return dc_rate"
   ]
  },
  {
   "cell_type": "code",
   "execution_count": 189,
   "metadata": {},
   "outputs": [
    {
     "data": {
      "text/plain": [
       "array([0.94176359, 0.88691866, 0.83526771, 0.78662471, 0.74081452,\n",
       "       0.69767214, 0.65704222])"
      ]
     },
     "execution_count": 189,
     "metadata": {},
     "output_type": "execute_result"
    }
   ],
   "source": [
    "dc_rate = get_discount_rate(0.02, 0.000001, 7)\n",
    "dc_rate"
   ]
  },
  {
   "cell_type": "code",
   "execution_count": 190,
   "metadata": {},
   "outputs": [],
   "source": [
    "gen_hc = gen_labor_income(3000, 0.04, 0.18, 0.000001, hc_, 0.02, 3, 7)"
   ]
  },
  {
   "cell_type": "code",
   "execution_count": 211,
   "metadata": {},
   "outputs": [
    {
     "data": {
      "text/plain": [
       "array([[2898.07189759, 3856.79390546, 4126.64652564, 4861.29396342,\n",
       "        5379.66555492, 4938.95945324, 5990.84267564],\n",
       "       [3330.67341637, 3387.2426918 , 3436.2035624 , 4688.07888116,\n",
       "        4439.94783476, 4675.87223553, 5280.77069131],\n",
       "       [3322.58578038, 3175.75285747, 2856.12357954, 3304.53923235,\n",
       "        3107.53620897, 3410.19542309, 3129.60594677]])"
      ]
     },
     "execution_count": 211,
     "metadata": {},
     "output_type": "execute_result"
    }
   ],
   "source": [
    "gen_hc.values"
   ]
  },
  {
   "cell_type": "code",
   "execution_count": 212,
   "metadata": {},
   "outputs": [
    {
     "data": {
      "text/plain": [
       "array([24788.17496801, 22719.91719511, 17668.37433002])"
      ]
     },
     "execution_count": 212,
     "metadata": {},
     "output_type": "execute_result"
    }
   ],
   "source": [
    "gen_hc.values @ dc_rate"
   ]
  },
  {
   "cell_type": "code",
   "execution_count": 193,
   "metadata": {},
   "outputs": [
    {
     "data": {
      "text/plain": [
       "0    22058.876368\n",
       "1    19583.210235\n",
       "2    14539.284011\n",
       "dtype: float64"
      ]
     },
     "execution_count": 193,
     "metadata": {},
     "output_type": "execute_result"
    }
   ],
   "source": [
    "gen_hc.loc[:, 1:] @ dc_rate[1:]"
   ]
  },
  {
   "cell_type": "code",
   "execution_count": null,
   "metadata": {},
   "outputs": [],
   "source": []
  },
  {
   "cell_type": "code",
   "execution_count": null,
   "metadata": {},
   "outputs": [],
   "source": []
  },
  {
   "cell_type": "code",
   "execution_count": 171,
   "metadata": {},
   "outputs": [],
   "source": [
    "size = 3\n",
    "period = 7\n",
    "\n",
    "market_ = stats.norm.rvs(size=(size, period + 1), loc=0, scale=1)\n",
    "brownian_ = stats.norm.rvs(size=(size, period + 1), loc=0, scale=1)"
   ]
  },
  {
   "cell_type": "code",
   "execution_count": null,
   "metadata": {},
   "outputs": [],
   "source": []
  },
  {
   "cell_type": "code",
   "execution_count": 172,
   "metadata": {
    "collapsed": true
   },
   "outputs": [
    {
     "ename": "NameError",
     "evalue": "name 'mu_market' is not defined",
     "output_type": "error",
     "traceback": [
      "\u001b[1;31m---------------------------------------------------------------------------\u001b[0m",
      "\u001b[1;31mNameError\u001b[0m                                 Traceback (most recent call last)",
      "\u001b[1;32m<ipython-input-172-599d1f542104>\u001b[0m in \u001b[0;36m<module>\u001b[1;34m\u001b[0m\n\u001b[1;32m----> 1\u001b[1;33m \u001b[0mmu_market\u001b[0m\u001b[1;33m,\u001b[0m \u001b[0msigma_market\u001b[0m\u001b[1;33m,\u001b[0m \u001b[0mmarket_\u001b[0m\u001b[1;33m,\u001b[0m \u001b[0mrf\u001b[0m\u001b[1;33m\u001b[0m\u001b[1;33m\u001b[0m\u001b[0m\n\u001b[0m",
      "\u001b[1;31mNameError\u001b[0m: name 'mu_market' is not defined"
     ]
    }
   ],
   "source": [
    "mu_market, sigma_market, market_, rf"
   ]
  },
  {
   "cell_type": "code",
   "execution_count": null,
   "metadata": {},
   "outputs": [],
   "source": []
  },
  {
   "cell_type": "code",
   "execution_count": 173,
   "metadata": {
    "collapsed": true
   },
   "outputs": [
    {
     "ename": "NameError",
     "evalue": "name 'mu_market' is not defined",
     "output_type": "error",
     "traceback": [
      "\u001b[1;31m---------------------------------------------------------------------------\u001b[0m",
      "\u001b[1;31mNameError\u001b[0m                                 Traceback (most recent call last)",
      "\u001b[1;32m<ipython-input-173-0c24c53a596c>\u001b[0m in \u001b[0;36m<module>\u001b[1;34m\u001b[0m\n\u001b[1;32m----> 1\u001b[1;33m \u001b[0mnp\u001b[0m\u001b[1;33m.\u001b[0m\u001b[0mexp\u001b[0m\u001b[1;33m(\u001b[0m\u001b[0mmu_market\u001b[0m \u001b[1;33m-\u001b[0m \u001b[1;33m(\u001b[0m\u001b[1;36m0.5\u001b[0m\u001b[1;33m*\u001b[0m\u001b[1;33m(\u001b[0m\u001b[0msigma_market\u001b[0m\u001b[1;33m**\u001b[0m\u001b[1;36m2\u001b[0m\u001b[1;33m)\u001b[0m\u001b[1;33m)\u001b[0m \u001b[1;33m+\u001b[0m \u001b[0msigma_market\u001b[0m\u001b[1;33m*\u001b[0m\u001b[0mmarket_\u001b[0m\u001b[1;33m)\u001b[0m\u001b[1;33m\u001b[0m\u001b[1;33m\u001b[0m\u001b[0m\n\u001b[0m",
      "\u001b[1;31mNameError\u001b[0m: name 'mu_market' is not defined"
     ]
    }
   ],
   "source": [
    "np.exp(mu_market - (0.5*(sigma_market**2)) + sigma_market*market_)"
   ]
  },
  {
   "cell_type": "code",
   "execution_count": 174,
   "metadata": {},
   "outputs": [
    {
     "data": {
      "text/plain": [
       "array([[1.46979659, 0.97247985, 1.20278496, 1.16361759, 1.46188086,\n",
       "        1.43209681, 1.01864031, 0.91996288],\n",
       "       [1.05861766, 0.92828734, 0.86088321, 0.81171764, 1.05084772,\n",
       "        0.91280745, 1.25608006, 0.90933559],\n",
       "       [1.29419096, 1.53041556, 1.08613072, 0.87411499, 1.20327094,\n",
       "        0.63503883, 1.0442329 , 0.84678021]])"
      ]
     },
     "execution_count": 174,
     "metadata": {},
     "output_type": "execute_result"
    }
   ],
   "source": [
    "np.exp(0.12 - (0.5*(0.2**2)) + 0.2*market_)"
   ]
  },
  {
   "cell_type": "code",
   "execution_count": 196,
   "metadata": {},
   "outputs": [
    {
     "data": {
      "text/plain": [
       "array([[1.01149237, 1.00663271, 0.99970779, 1.02496712, 1.00777127,\n",
       "        1.04222763, 1.00914654],\n",
       "       [0.99597165, 1.01642513, 1.01575216, 1.05382119, 1.03488798,\n",
       "        1.03655729, 1.04313883],\n",
       "       [1.02969177, 1.04206496, 1.0043604 , 1.00691224, 1.03467806,\n",
       "        1.00929106, 1.0237603 ]])"
      ]
     },
     "execution_count": 196,
     "metadata": {},
     "output_type": "execute_result"
    }
   ],
   "source": [
    "a = np.exp(0.02 - (0.5*(0.02**2)) + 0.02*market_)\n",
    "a"
   ]
  },
  {
   "cell_type": "code",
   "execution_count": 197,
   "metadata": {},
   "outputs": [
    {
     "data": {
      "text/plain": [
       "array([[1.02020134, 1.02020134, 1.02020134, 1.02020134, 1.02020134,\n",
       "        1.02020134, 1.02020134],\n",
       "       [1.02020134, 1.02020134, 1.02020134, 1.02020134, 1.02020134,\n",
       "        1.02020134, 1.02020134],\n",
       "       [1.02020134, 1.02020134, 1.02020134, 1.02020134, 1.02020134,\n",
       "        1.02020134, 1.02020134]])"
      ]
     },
     "execution_count": 197,
     "metadata": {},
     "output_type": "execute_result"
    }
   ],
   "source": [
    "b = np.exp(0.02 * np.ones(market_.shape))\n",
    "b"
   ]
  },
  {
   "cell_type": "code",
   "execution_count": 198,
   "metadata": {},
   "outputs": [
    {
     "data": {
      "text/plain": [
       "array([[1.01149237, 0.99597165, 1.02969177, 1.02020134, 1.02020134,\n",
       "        1.02020134],\n",
       "       [1.00663271, 1.01642513, 1.04206496, 1.02020134, 1.02020134,\n",
       "        1.02020134],\n",
       "       [0.99970779, 1.01575216, 1.0043604 , 1.02020134, 1.02020134,\n",
       "        1.02020134],\n",
       "       [1.02496712, 1.05382119, 1.00691224, 1.02020134, 1.02020134,\n",
       "        1.02020134],\n",
       "       [1.00777127, 1.03488798, 1.03467806, 1.02020134, 1.02020134,\n",
       "        1.02020134],\n",
       "       [1.04222763, 1.03655729, 1.00929106, 1.02020134, 1.02020134,\n",
       "        1.02020134],\n",
       "       [1.00914654, 1.04313883, 1.0237603 , 1.02020134, 1.02020134,\n",
       "        1.02020134]])"
      ]
     },
     "execution_count": 198,
     "metadata": {},
     "output_type": "execute_result"
    }
   ],
   "source": [
    "np.concatenate([a, b]).T"
   ]
  },
  {
   "cell_type": "code",
   "execution_count": 199,
   "metadata": {},
   "outputs": [
    {
     "data": {
      "text/plain": [
       "array([0.7, 0.7, 0.7, 0.3, 0.3, 0.3])"
      ]
     },
     "execution_count": 199,
     "metadata": {},
     "output_type": "execute_result"
    }
   ],
   "source": [
    "np.array([0.7, 0.3]).repeat(3)"
   ]
  },
  {
   "cell_type": "code",
   "execution_count": 209,
   "metadata": {},
   "outputs": [],
   "source": [
    "def gen_finasset_ret(mu_market, sigma_market, market_, rf, size=20000, period=30):\n",
    "    risky_asset_ret = np.exp(mu_market - (0.5*(sigma_market**2)) + sigma_market*market_)\n",
    "    rf_asset_ret = np.exp(rf * np.ones(market_.shape))\n",
    "    \n",
    "    return risky_asset_ret, rf_asset_ret"
   ]
  },
  {
   "cell_type": "code",
   "execution_count": 210,
   "metadata": {},
   "outputs": [
    {
     "data": {
      "text/plain": [
       "(array([[1.01640139, 0.96861127, 0.90400307, 1.16021497, 0.97962275,\n",
       "         1.37108678, 0.99307373],\n",
       "        [0.87078095, 1.06707043, 1.06002638, 1.53146965, 1.27753424,\n",
       "         1.29829156, 1.38312121],\n",
       "        [1.214819  , 1.36894836, 0.94696724, 0.97130436, 1.27494532,\n",
       "         0.99449681, 1.14662653]]),\n",
       " array([[1.02020134, 1.02020134, 1.02020134, 1.02020134, 1.02020134,\n",
       "         1.02020134, 1.02020134],\n",
       "        [1.02020134, 1.02020134, 1.02020134, 1.02020134, 1.02020134,\n",
       "         1.02020134, 1.02020134],\n",
       "        [1.02020134, 1.02020134, 1.02020134, 1.02020134, 1.02020134,\n",
       "         1.02020134, 1.02020134]]))"
      ]
     },
     "execution_count": 210,
     "metadata": {},
     "output_type": "execute_result"
    }
   ],
   "source": [
    "dd = gen_finasset_ret(0.12, 0.2, market_, 0.02, size=3, period=7)\n",
    "dd"
   ]
  },
  {
   "cell_type": "code",
   "execution_count": 218,
   "metadata": {},
   "outputs": [
    {
     "data": {
      "text/plain": [
       "3500.0"
      ]
     },
     "execution_count": 218,
     "metadata": {},
     "output_type": "execute_result"
    }
   ],
   "source": [
    "(0.7 * 5000)"
   ]
  },
  {
   "cell_type": "code",
   "execution_count": 217,
   "metadata": {},
   "outputs": [
    {
     "data": {
      "text/plain": [
       "array([[ 3557.40485591,  3445.74243594,  3114.96175727,  3614.02525204,\n",
       "         3540.38135033,  4854.17007894,  4820.54876443],\n",
       "       [ 3047.73332088,  3252.14611995,  3447.36068626,  5279.528275  ,\n",
       "         6744.77815364,  8756.68852119, 12111.56163488],\n",
       "       [ 4251.8664832 ,  5820.58564028,  5511.90393719,  5353.73631822,\n",
       "         6825.72106587,  6788.15784635,  7783.48186226]])"
      ]
     },
     "execution_count": 217,
     "metadata": {},
     "output_type": "execute_result"
    }
   ],
   "source": [
    "(0.7 * 5000) * dd[0].cumprod(axis=1)"
   ]
  },
  {
   "cell_type": "code",
   "execution_count": 219,
   "metadata": {},
   "outputs": [
    {
     "data": {
      "text/plain": [
       "array([[1530.30201004, 1561.21616129, 1592.75481982, 1624.93060151,\n",
       "        1657.75637711, 1691.24527737, 1725.41069829],\n",
       "       [1530.30201004, 1561.21616129, 1592.75481982, 1624.93060151,\n",
       "        1657.75637711, 1691.24527737, 1725.41069829],\n",
       "       [1530.30201004, 1561.21616129, 1592.75481982, 1624.93060151,\n",
       "        1657.75637711, 1691.24527737, 1725.41069829]])"
      ]
     },
     "execution_count": 219,
     "metadata": {},
     "output_type": "execute_result"
    }
   ],
   "source": [
    "(0.3 * 5000) * dd[1].cumprod(axis=1)"
   ]
  },
  {
   "cell_type": "code",
   "execution_count": 236,
   "metadata": {},
   "outputs": [
    {
     "data": {
      "text/plain": [
       "-2.516644815429044e-41"
      ]
     },
     "execution_count": 236,
     "metadata": {},
     "output_type": "execute_result"
    }
   ],
   "source": [
    "cd = ((0.7 * 5000) * dd[0].cumprod(axis=1) + (0.3 * 5000) * dd[1].cumprod(axis=1))[:, 5] + gen_hc.loc[:, 1:] @ dc_rate[1:]\n",
    "cd\n",
    "np.mean(cd**(1-10) / (1-10))"
   ]
  },
  {
   "cell_type": "code",
   "execution_count": 231,
   "metadata": {},
   "outputs": [
    {
     "data": {
      "text/plain": [
       "0   -3.734352e-19\n",
       "1   -3.073636e-19\n",
       "2   -8.904670e-19\n",
       "dtype: float64"
      ]
     },
     "execution_count": 231,
     "metadata": {},
     "output_type": "execute_result"
    }
   ],
   "source": [
    "cd**(1-2) / (1-5)"
   ]
  },
  {
   "cell_type": "code",
   "execution_count": 232,
   "metadata": {},
   "outputs": [
    {
     "data": {
      "text/plain": [
       "-5.23755256986217e-19"
      ]
     },
     "execution_count": 232,
     "metadata": {},
     "output_type": "execute_result"
    }
   ],
   "source": [
    "np.mean(cd**(1-2) / (1-2))"
   ]
  },
  {
   "cell_type": "code",
   "execution_count": 237,
   "metadata": {},
   "outputs": [
    {
     "data": {
      "text/plain": [
       "-1.6418442975109228e-41"
      ]
     },
     "execution_count": 237,
     "metadata": {},
     "output_type": "execute_result"
    }
   ],
   "source": [
    "cd = ((1 * 5000) * dd[0].cumprod(axis=1) + (0 * 5000) * dd[1].cumprod(axis=1))[:, 5] + gen_hc.loc[:, 1:] @ dc_rate[1:]\n",
    "cd**(1-2) / (1-2)\n",
    "np.mean(cd**(1-10) / (1-10))"
   ]
  },
  {
   "cell_type": "code",
   "execution_count": null,
   "metadata": {},
   "outputs": [],
   "source": []
  },
  {
   "cell_type": "code",
   "execution_count": 529,
   "metadata": {},
   "outputs": [],
   "source": [
    "def get_finasset_wealth(fin_asset_ret, initial_wealth, nomial_ic, consume_rate, risky_weights, rf_weights, size=20000):\n",
    "    #invest_amount = initial_wealth + (nomial_ic * (consume_rate))\n",
    "    #risky_asset = (invest_amount*risky_weights) * fin_asset_ret[0].cumprod(axis=1)\n",
    "    #rf_asset = (invest_amount*rf_weights) * fin_asset_ret[1].cumprod(axis=1)\n",
    "    risky_asset = (risky_weights) * fin_asset_ret[0].cumprod(axis=1)\n",
    "    rf_asset = (rf_weights) * fin_asset_ret[1].cumprod(axis=1)\n",
    "    \n",
    "    return risky_asset+rf_asset"
   ]
  },
  {
   "cell_type": "code",
   "execution_count": 530,
   "metadata": {},
   "outputs": [],
   "source": [
    "def get_finasset_wealth(fin_asset_ret, risky_weights, rf_weights):\n",
    "    #invest_amount = initial_wealth + (nomial_ic * (consume_rate))\n",
    "    #risky_asset = (invest_amount*risky_weights) * fin_asset_ret[0].cumprod(axis=1)\n",
    "    #rf_asset = (invest_amount*rf_weights) * fin_asset_ret[1].cumprod(axis=1)\n",
    "    risky_asset = (risky_weights) * fin_asset_ret[0]\n",
    "    rf_asset = (rf_weights) * fin_asset_ret[1]\n",
    "    \n",
    "    return risky_asset+rf_asset"
   ]
  },
  {
   "cell_type": "code",
   "execution_count": null,
   "metadata": {},
   "outputs": [],
   "source": []
  },
  {
   "cell_type": "code",
   "execution_count": null,
   "metadata": {},
   "outputs": [],
   "source": []
  },
  {
   "cell_type": "code",
   "execution_count": 460,
   "metadata": {},
   "outputs": [],
   "source": [
    "size = 20000\n",
    "period = \n",
    "gamma = 2\n",
    "\n",
    "ic = 10000\n",
    "fa = 100000\n",
    "\n",
    "hcs = 0.15\n",
    "\n",
    "r_s = 0.12\n",
    "r_m = 0.33\n",
    "rf = 0.04\n",
    "\n",
    "np.random.seed(period)\n",
    "\n",
    "market_ = stats.norm.rvs(size=(size, period), loc=0, scale=1)\n",
    "brownian_ = stats.norm.rvs(size=(size, period), loc=0, scale=1)\n",
    "hc_ = rho * market_ + np.sqrt(1 - rho ** 2) * brownian_"
   ]
  },
  {
   "cell_type": "code",
   "execution_count": 523,
   "metadata": {},
   "outputs": [
    {
     "data": {
      "text/plain": [
       "1.161834242728283"
      ]
     },
     "execution_count": 523,
     "metadata": {},
     "output_type": "execute_result"
    }
   ],
   "source": []
  },
  {
   "cell_type": "code",
   "execution_count": 461,
   "metadata": {},
   "outputs": [
    {
     "data": {
      "text/plain": [
       "6.846470758257072e-06"
      ]
     },
     "execution_count": 461,
     "metadata": {},
     "output_type": "execute_result"
    }
   ],
   "source": [
    "risky_weights = 1\n",
    "rf_weights = 0.0\n",
    "\n",
    "dc_rate = get_discount_rate(rf, 0.000001, period)\n",
    "gen_hc = gen_labor_income(ic, 0.04, hcs, 0.000001, hc_, rf, size, period)\n",
    "\n",
    "H = gen_hc.loc[:, 1:] @ dc_rate[1:]\n",
    "\n",
    "fa_ret = gen_finasset_ret(0.12, r_m, market_, rf, size, period)\n",
    "W = get_finasset_wealth(fa_ret, fa, ic, 0.7, risky_weights, rf_weights, size)\n",
    "\n",
    "U = ((H + W[:, 0]) ** (1-gamma)) / (1-gamma)\n",
    "-np.mean(U)"
   ]
  },
  {
   "cell_type": "code",
   "execution_count": 462,
   "metadata": {},
   "outputs": [
    {
     "data": {
      "text/plain": [
       "6.788632276865979e-06"
      ]
     },
     "execution_count": 462,
     "metadata": {},
     "output_type": "execute_result"
    }
   ],
   "source": [
    "risky_weights = 0.1\n",
    "rf_weights = 0.9\n",
    "\n",
    "dc_rate = get_discount_rate(rf, 0.000001, period)\n",
    "gen_hc = gen_labor_income(ic, 0.04, hcs, 0.000001, hc_, rf, size, period)\n",
    "\n",
    "H = gen_hc.loc[:, 1:] @ dc_rate[1:]\n",
    "\n",
    "fa_ret = gen_finasset_ret(0.12, r_m, market_, rf, size, period)\n",
    "W = get_finasset_wealth(fa_ret, fa, ic, 0.7, risky_weights, rf_weights, size)\n",
    "\n",
    "U = ((H + W[:, 0]) ** (1-gamma)) / (1-gamma)\n",
    "-np.mean(U)"
   ]
  },
  {
   "cell_type": "code",
   "execution_count": 463,
   "metadata": {},
   "outputs": [
    {
     "data": {
      "text/plain": [
       "6.761770841364355e-06"
      ]
     },
     "execution_count": 463,
     "metadata": {},
     "output_type": "execute_result"
    }
   ],
   "source": [
    "risky_weights = 0.2\n",
    "rf_weights = 0.8\n",
    "\n",
    "dc_rate = get_discount_rate(rf, 0.000001, period)\n",
    "gen_hc = gen_labor_income(ic, 0.04, hcs, 0.000001, hc_, rf, size, period)\n",
    "\n",
    "H = gen_hc.loc[:, 1:] @ dc_rate[1:]\n",
    "\n",
    "fa_ret = gen_finasset_ret(0.12, r_m, market_, rf, size, period)\n",
    "W = get_finasset_wealth(fa_ret, fa, ic, 0.7, risky_weights, rf_weights, size)\n",
    "\n",
    "U = ((H + W[:, 0]) ** (1-gamma)) / (1-gamma)\n",
    "-np.mean(U)"
   ]
  },
  {
   "cell_type": "code",
   "execution_count": 464,
   "metadata": {},
   "outputs": [
    {
     "data": {
      "text/plain": [
       "6.7438804564763495e-06"
      ]
     },
     "execution_count": 464,
     "metadata": {},
     "output_type": "execute_result"
    }
   ],
   "source": [
    "risky_weights = 0.3\n",
    "rf_weights = 0.7\n",
    "\n",
    "dc_rate = get_discount_rate(rf, 0.000001, period)\n",
    "gen_hc = gen_labor_income(ic, 0.04, hcs, 0.000001, hc_, rf, size, period)\n",
    "\n",
    "H = gen_hc.loc[:, 1:] @ dc_rate[1:]\n",
    "\n",
    "fa_ret = gen_finasset_ret(0.12, r_m, market_, rf, size, period)\n",
    "W = get_finasset_wealth(fa_ret, fa, ic, 0.7, risky_weights, rf_weights, size)\n",
    "\n",
    "U = ((H + W[:, 0]) ** (1-gamma)) / (1-gamma)\n",
    "-np.mean(U)"
   ]
  },
  {
   "cell_type": "code",
   "execution_count": 465,
   "metadata": {},
   "outputs": [
    {
     "data": {
      "text/plain": [
       "6.734399300893371e-06"
      ]
     },
     "execution_count": 465,
     "metadata": {},
     "output_type": "execute_result"
    }
   ],
   "source": [
    "risky_weights = 0.4\n",
    "rf_weights = 0.6\n",
    "\n",
    "dc_rate = get_discount_rate(rf, 0.000001, period)\n",
    "gen_hc = gen_labor_income(ic, 0.04, hcs, 0.000001, hc_, rf, size, period)\n",
    "\n",
    "H = gen_hc.loc[:, 1:] @ dc_rate[1:]\n",
    "\n",
    "fa_ret = gen_finasset_ret(0.12, r_m, market_, rf, size, period)\n",
    "W = get_finasset_wealth(fa_ret, fa, ic, 0.7, risky_weights, rf_weights, size)\n",
    "\n",
    "U = ((H + W[:, 0]) ** (1-gamma)) / (1-gamma)\n",
    "-np.mean(U)"
   ]
  },
  {
   "cell_type": "code",
   "execution_count": 466,
   "metadata": {},
   "outputs": [
    {
     "data": {
      "text/plain": [
       "6.732979827507835e-06"
      ]
     },
     "execution_count": 466,
     "metadata": {},
     "output_type": "execute_result"
    }
   ],
   "source": [
    "risky_weights = 0.5\n",
    "rf_weights = 0.5\n",
    "\n",
    "dc_rate = get_discount_rate(rf, 0.000001, period)\n",
    "gen_hc = gen_labor_income(ic, 0.04, hcs, 0.000001, hc_, rf, size, period)\n",
    "\n",
    "H = gen_hc.loc[:, 1:] @ dc_rate[1:]\n",
    "\n",
    "fa_ret = gen_finasset_ret(0.12, r_m, market_, rf, size, period)\n",
    "W = get_finasset_wealth(fa_ret, fa, ic, 0.7, risky_weights, rf_weights, size)\n",
    "\n",
    "U = ((H + W[:, 0]) ** (1-gamma)) / (1-gamma)\n",
    "-np.mean(U)"
   ]
  },
  {
   "cell_type": "code",
   "execution_count": 467,
   "metadata": {},
   "outputs": [
    {
     "data": {
      "text/plain": [
       "6.753808114914525e-06"
      ]
     },
     "execution_count": 467,
     "metadata": {},
     "output_type": "execute_result"
    }
   ],
   "source": [
    "risky_weights = 0.7\n",
    "rf_weights = 0.3\n",
    "\n",
    "dc_rate = get_discount_rate(rf, 0.000001, period)\n",
    "gen_hc = gen_labor_income(ic, 0.04, hcs, 0.000001, hc_, rf, size, period)\n",
    "\n",
    "H = gen_hc.loc[:, 1:] @ dc_rate[1:]\n",
    "\n",
    "fa_ret = gen_finasset_ret(0.12, r_m, market_, rf, size, period)\n",
    "W = get_finasset_wealth(fa_ret, fa, ic, 0.7, risky_weights, rf_weights, size)\n",
    "\n",
    "U = ((H + W[:, 0]) ** (1-gamma)) / (1-gamma)\n",
    "-np.mean(U)"
   ]
  },
  {
   "cell_type": "code",
   "execution_count": 468,
   "metadata": {},
   "outputs": [
    {
     "data": {
      "text/plain": [
       "6.817680932864145e-06"
      ]
     },
     "execution_count": 468,
     "metadata": {},
     "output_type": "execute_result"
    }
   ],
   "source": [
    "risky_weights = 0.9\n",
    "rf_weights = 0.1\n",
    "\n",
    "dc_rate = get_discount_rate(rf, 0.000001, period)\n",
    "gen_hc = gen_labor_income(ic, 0.04, hcs, 0.000001, hc_, rf, size, period)\n",
    "\n",
    "H = gen_hc.loc[:, 1:] @ dc_rate[1:]\n",
    "\n",
    "fa_ret = gen_finasset_ret(0.12, r_m, market_, 0.02, size, period)\n",
    "W = get_finasset_wealth(fa_ret, fa, ic, 0.7, risky_weights, rf_weights, size)\n",
    "\n",
    "U = ((H + W[:, 0]) ** (1-gamma)) / (1-gamma)\n",
    "-np.mean(U)"
   ]
  },
  {
   "cell_type": "code",
   "execution_count": 469,
   "metadata": {},
   "outputs": [
    {
     "data": {
      "text/plain": [
       "6.846470758257072e-06"
      ]
     },
     "execution_count": 469,
     "metadata": {},
     "output_type": "execute_result"
    }
   ],
   "source": [
    "risky_weights = 1\n",
    "rf_weights = 0.0\n",
    "\n",
    "dc_rate = get_discount_rate(rf, 0.000001, period)\n",
    "gen_hc = gen_labor_income(ic, 0.04, hcs, 0.000001, hc_, rf, size, period)\n",
    "\n",
    "H = gen_hc.loc[:, 1:] @ dc_rate[1:]\n",
    "\n",
    "fa_ret = gen_finasset_ret(0.12, r_m, market_, rf, size, period)\n",
    "W = get_finasset_wealth(fa_ret, fa, ic, 0.7, risky_weights, rf_weights, size)\n",
    "\n",
    "U = ((H + W[:, 0]) ** (1-gamma)) / (1-gamma)\n",
    "-np.mean(U)"
   ]
  },
  {
   "cell_type": "code",
   "execution_count": 592,
   "metadata": {},
   "outputs": [],
   "source": [
    "def get_finasset_wealth(fin_asset_ret, risky_weights, rf_weights):\n",
    "    #invest_amount = initial_wealth + (nomial_ic * (consume_rate))\n",
    "    #risky_asset = (invest_amount*risky_weights) * fin_asset_ret[0].cumprod(axis=1)\n",
    "    #rf_asset = (invest_amount*rf_weights) * fin_asset_ret[1].cumprod(axis=1)\n",
    "    risky_asset = (risky_weights) * fin_asset_ret[0]\n",
    "    rf_asset = (rf_weights) * fin_asset_ret[1]\n",
    "    \n",
    "    return risky_asset+rf_asset"
   ]
  },
  {
   "cell_type": "code",
   "execution_count": 610,
   "metadata": {},
   "outputs": [],
   "source": [
    "def rosen(x, fin_asset_ret, H, fa, i):\n",
    "    W = get_finasset_wealth(fin_asset_ret, x[0], x[1])\n",
    "    \n",
    "    return ((((fa * W[:, i]) + H) ** (1-gamma)) / (1-gamma)).mean() * -1"
   ]
  },
  {
   "cell_type": "code",
   "execution_count": null,
   "metadata": {},
   "outputs": [],
   "source": []
  },
  {
   "cell_type": "code",
   "execution_count": null,
   "metadata": {},
   "outputs": [],
   "source": []
  },
  {
   "cell_type": "code",
   "execution_count": null,
   "metadata": {},
   "outputs": [],
   "source": []
  },
  {
   "cell_type": "code",
   "execution_count": 474,
   "metadata": {},
   "outputs": [],
   "source": [
    "from scipy.optimize import minimize"
   ]
  },
  {
   "cell_type": "code",
   "execution_count": 625,
   "metadata": {},
   "outputs": [],
   "source": [
    "size = 20000\n",
    "period = 30\n",
    "gamma = 10\n",
    "\n",
    "ic = 3000\n",
    "fa = 1000\n",
    "\n",
    "hc_g = 0.04\n",
    "hcs = 0.15\n",
    "\n",
    "cs_r = 0.7\n",
    "\n",
    "r_s = 0.12\n",
    "r_m = 0.33\n",
    "rf = 0.04\n",
    "\n",
    "eta = 0.000001"
   ]
  },
  {
   "cell_type": "code",
   "execution_count": 603,
   "metadata": {},
   "outputs": [
    {
     "data": {
      "text/plain": [
       "(2, 20000, 30)"
      ]
     },
     "execution_count": 603,
     "metadata": {},
     "output_type": "execute_result"
    }
   ],
   "source": [
    "np.shape(fa_ret)"
   ]
  },
  {
   "cell_type": "code",
   "execution_count": null,
   "metadata": {},
   "outputs": [],
   "source": []
  },
  {
   "cell_type": "code",
   "execution_count": 646,
   "metadata": {},
   "outputs": [
    {
     "ename": "SystemError",
     "evalue": "double_from_pyobj failed in converting argument f of call-back function cb_calcfc_in__cobyla__user__routines to C double\n",
     "output_type": "error",
     "traceback": [
      "\u001b[1;31m---------------------------------------------------------------------------\u001b[0m",
      "\u001b[1;31mSystemError\u001b[0m                               Traceback (most recent call last)",
      "\u001b[1;32m<ipython-input-646-c90995135e38>\u001b[0m in \u001b[0;36m<module>\u001b[1;34m\u001b[0m\n\u001b[0;32m     23\u001b[0m             {'type': 'ineq', 'fun': lambda weights: weights})\n\u001b[0;32m     24\u001b[0m \u001b[1;33m\u001b[0m\u001b[0m\n\u001b[1;32m---> 25\u001b[1;33m     \u001b[0moptimized\u001b[0m \u001b[1;33m=\u001b[0m \u001b[0mminimize\u001b[0m\u001b[1;33m(\u001b[0m\u001b[0mrosen\u001b[0m\u001b[1;33m,\u001b[0m \u001b[0mweights\u001b[0m\u001b[1;33m,\u001b[0m \u001b[1;33m(\u001b[0m\u001b[0mfa_ret\u001b[0m\u001b[1;33m,\u001b[0m \u001b[0mH\u001b[0m\u001b[1;33m,\u001b[0m \u001b[0mfa\u001b[0m\u001b[1;33m,\u001b[0m \u001b[0mi\u001b[0m\u001b[1;33m)\u001b[0m\u001b[1;33m,\u001b[0m \u001b[0mmethod\u001b[0m\u001b[1;33m=\u001b[0m\u001b[1;34m\"COBYLA\"\u001b[0m\u001b[1;33m,\u001b[0m \u001b[0mconstraints\u001b[0m\u001b[1;33m=\u001b[0m\u001b[0mcons\u001b[0m\u001b[1;33m)\u001b[0m\u001b[1;33m\u001b[0m\u001b[1;33m\u001b[0m\u001b[0m\n\u001b[0m\u001b[0;32m     26\u001b[0m \u001b[1;33m\u001b[0m\u001b[0m\n\u001b[0;32m     27\u001b[0m     \u001b[1;32mif\u001b[0m \u001b[1;32mnot\u001b[0m \u001b[0moptimized\u001b[0m\u001b[1;33m.\u001b[0m\u001b[0msuccess\u001b[0m\u001b[1;33m:\u001b[0m \u001b[1;32mraise\u001b[0m \u001b[0mBaseException\u001b[0m\u001b[1;33m(\u001b[0m\u001b[0moptimized\u001b[0m\u001b[1;33m.\u001b[0m\u001b[0mmessage\u001b[0m\u001b[1;33m)\u001b[0m\u001b[1;33m\u001b[0m\u001b[1;33m\u001b[0m\u001b[0m\n",
      "\u001b[1;32m~\\Anaconda3\\lib\\site-packages\\scipy\\optimize\\_minimize.py\u001b[0m in \u001b[0;36mminimize\u001b[1;34m(fun, x0, args, method, jac, hess, hessp, bounds, constraints, tol, callback, options)\u001b[0m\n\u001b[0;32m    603\u001b[0m                              **options)\n\u001b[0;32m    604\u001b[0m     \u001b[1;32melif\u001b[0m \u001b[0mmeth\u001b[0m \u001b[1;33m==\u001b[0m \u001b[1;34m'cobyla'\u001b[0m\u001b[1;33m:\u001b[0m\u001b[1;33m\u001b[0m\u001b[1;33m\u001b[0m\u001b[0m\n\u001b[1;32m--> 605\u001b[1;33m         \u001b[1;32mreturn\u001b[0m \u001b[0m_minimize_cobyla\u001b[0m\u001b[1;33m(\u001b[0m\u001b[0mfun\u001b[0m\u001b[1;33m,\u001b[0m \u001b[0mx0\u001b[0m\u001b[1;33m,\u001b[0m \u001b[0margs\u001b[0m\u001b[1;33m,\u001b[0m \u001b[0mconstraints\u001b[0m\u001b[1;33m,\u001b[0m \u001b[1;33m**\u001b[0m\u001b[0moptions\u001b[0m\u001b[1;33m)\u001b[0m\u001b[1;33m\u001b[0m\u001b[1;33m\u001b[0m\u001b[0m\n\u001b[0m\u001b[0;32m    606\u001b[0m     \u001b[1;32melif\u001b[0m \u001b[0mmeth\u001b[0m \u001b[1;33m==\u001b[0m \u001b[1;34m'slsqp'\u001b[0m\u001b[1;33m:\u001b[0m\u001b[1;33m\u001b[0m\u001b[1;33m\u001b[0m\u001b[0m\n\u001b[0;32m    607\u001b[0m         return _minimize_slsqp(fun, x0, args, jac, bounds,\n",
      "\u001b[1;32m~\\Anaconda3\\lib\\site-packages\\scipy\\optimize\\cobyla.py\u001b[0m in \u001b[0;36m_minimize_cobyla\u001b[1;34m(fun, x0, args, constraints, rhobeg, tol, maxiter, disp, catol, **unknown_options)\u001b[0m\n\u001b[0;32m    250\u001b[0m     xopt, info = _cobyla.minimize(calcfc, m=m, x=np.copy(x0), rhobeg=rhobeg,\n\u001b[0;32m    251\u001b[0m                                   \u001b[0mrhoend\u001b[0m\u001b[1;33m=\u001b[0m\u001b[0mrhoend\u001b[0m\u001b[1;33m,\u001b[0m \u001b[0miprint\u001b[0m\u001b[1;33m=\u001b[0m\u001b[0miprint\u001b[0m\u001b[1;33m,\u001b[0m \u001b[0mmaxfun\u001b[0m\u001b[1;33m=\u001b[0m\u001b[0mmaxfun\u001b[0m\u001b[1;33m,\u001b[0m\u001b[1;33m\u001b[0m\u001b[1;33m\u001b[0m\u001b[0m\n\u001b[1;32m--> 252\u001b[1;33m                                   dinfo=info)\n\u001b[0m\u001b[0;32m    253\u001b[0m \u001b[1;33m\u001b[0m\u001b[0m\n\u001b[0;32m    254\u001b[0m     \u001b[1;32mif\u001b[0m \u001b[0minfo\u001b[0m\u001b[1;33m[\u001b[0m\u001b[1;36m3\u001b[0m\u001b[1;33m]\u001b[0m \u001b[1;33m>\u001b[0m \u001b[0mcatol\u001b[0m\u001b[1;33m:\u001b[0m\u001b[1;33m\u001b[0m\u001b[1;33m\u001b[0m\u001b[0m\n",
      "\u001b[1;31mSystemError\u001b[0m: double_from_pyobj failed in converting argument f of call-back function cb_calcfc_in__cobyla__user__routines to C double\n"
     ]
    }
   ],
   "source": [
    "np.random.seed(period)\n",
    "\n",
    "market_ = stats.norm.rvs(size=(size, period), loc=0, scale=1)\n",
    "brownian_ = stats.norm.rvs(size=(size, period), loc=0, scale=1)\n",
    "hc_ = rho * market_ + np.sqrt(1 - rho ** 2) * brownian_\n",
    "\n",
    "dc_rate = get_discount_rate(rf, eta, period)\n",
    "gen_hc = gen_labor_income(ic, hc_g, hcs, eta, hc_, rf, size, period)\n",
    "\n",
    "fa_ret = gen_finasset_ret(r_s, r_m, market_, rf, size, period)\n",
    "\n",
    "for i in list(range(period)):\n",
    "    \n",
    "    if i == (period-1):\n",
    "        H = 0\n",
    "    else:\n",
    "        H = gen_hc.loc[:, i+1:] @ dc_rate[i+1:]\n",
    "    \n",
    "    weights = np.ones([2]) / 2\n",
    "    #W = pd.DataFrame(get_finasset_wealth(fa_ret, weights[0], weights[1])).loc[:, i]\n",
    "    \n",
    "    cons = ({'type': 'ineq', 'fun': lambda weights: -1.0 + np.sum(weights)},\n",
    "            {'type': 'ineq', 'fun': lambda weights: weights})\n",
    "    \n",
    "    optimized = minimize(rosen, weights, (fa_ret, H, fa, i), method=\"COBYLA\", constraints=cons)\n",
    "    \n",
    "    if not optimized.success: raise BaseException(optimized.message)\n",
    "    print(optimized.x)\n",
    "    \n",
    "    fa = np.mean(fa * W[:, i])    "
   ]
  },
  {
   "cell_type": "code",
   "execution_count": 647,
   "metadata": {},
   "outputs": [],
   "source": [
    "WW = pd.DataFrame(get_finasset_wealth(fa_ret, weights[0], weights[1])).loc[:, 1]"
   ]
  },
  {
   "cell_type": "code",
   "execution_count": 658,
   "metadata": {},
   "outputs": [],
   "source": [
    "import matplotlib.pyplot as plt"
   ]
  },
  {
   "cell_type": "code",
   "execution_count": 660,
   "metadata": {},
   "outputs": [],
   "source": [
    "gamma = 10"
   ]
  },
  {
   "cell_type": "code",
   "execution_count": 661,
   "metadata": {},
   "outputs": [],
   "source": [
    "def rosen(x, fin_asset_ret, H, fa, i):\n",
    "    W = pd.DataFrame(get_finasset_wealth(fa_ret, x[0], x[1])).loc[:, i]\n",
    "    \n",
    "    return ((((fa * W) + H) ** (1-gamma)) / (1-gamma))"
   ]
  },
  {
   "cell_type": "code",
   "execution_count": 716,
   "metadata": {},
   "outputs": [],
   "source": [
    "size = 200000\n",
    "period = 20\n",
    "gamma = 5\n",
    "\n",
    "ic = 3000\n",
    "fa = 20000\n",
    "\n",
    "hc_g = 0.04\n",
    "hcs = 0.05\n",
    "\n",
    "cs_r = 0.7\n",
    "\n",
    "r_s = 0.12\n",
    "r_m = 0.33\n",
    "rf = 0.04\n",
    "\n",
    "eta = 0.000001"
   ]
  },
  {
   "cell_type": "code",
   "execution_count": 717,
   "metadata": {},
   "outputs": [
    {
     "data": {
      "text/plain": [
       "20000"
      ]
     },
     "execution_count": 717,
     "metadata": {},
     "output_type": "execute_result"
    }
   ],
   "source": [
    "fa"
   ]
  },
  {
   "cell_type": "code",
   "execution_count": 718,
   "metadata": {
    "scrolled": false
   },
   "outputs": [
    {
     "data": {
      "image/png": "[encoded data removed]",
      "text/plain": [
       "<Figure size 432x288 with 1 Axes>"
      ]
     },
     "metadata": {
      "needs_background": "light"
     },
     "output_type": "display_data"
    },
    {
     "data": {
      "image/png": "[encoded data removed]",
      "text/plain": [
       "<Figure size 432x288 with 1 Axes>"
      ]
     },
     "metadata": {
      "needs_background": "light"
     },
     "output_type": "display_data"
    },
    {
     "ename": "KeyboardInterrupt",
     "evalue": "",
     "output_type": "error",
     "traceback": [
      "\u001b[1;31m---------------------------------------------------------------------------\u001b[0m",
      "\u001b[1;31mKeyboardInterrupt\u001b[0m                         Traceback (most recent call last)",
      "\u001b[1;32m<ipython-input-718-561c334f628e>\u001b[0m in \u001b[0;36m<module>\u001b[1;34m\u001b[0m\n\u001b[0;32m     19\u001b[0m     \u001b[0mu_list\u001b[0m \u001b[1;33m=\u001b[0m \u001b[1;33m[\u001b[0m\u001b[1;33m]\u001b[0m\u001b[1;33m\u001b[0m\u001b[1;33m\u001b[0m\u001b[0m\n\u001b[0;32m     20\u001b[0m     \u001b[1;32mfor\u001b[0m \u001b[0mj\u001b[0m \u001b[1;32min\u001b[0m \u001b[0mrange\u001b[0m\u001b[1;33m(\u001b[0m\u001b[1;36m100\u001b[0m\u001b[1;33m)\u001b[0m\u001b[1;33m:\u001b[0m\u001b[1;33m\u001b[0m\u001b[1;33m\u001b[0m\u001b[0m\n\u001b[1;32m---> 21\u001b[1;33m         \u001b[0mWW\u001b[0m \u001b[1;33m=\u001b[0m \u001b[0mpd\u001b[0m\u001b[1;33m.\u001b[0m\u001b[0mDataFrame\u001b[0m\u001b[1;33m(\u001b[0m\u001b[0mget_finasset_wealth\u001b[0m\u001b[1;33m(\u001b[0m\u001b[0mfa_ret\u001b[0m\u001b[1;33m,\u001b[0m \u001b[1;36m1\u001b[0m\u001b[1;33m-\u001b[0m\u001b[1;33m(\u001b[0m\u001b[0mj\u001b[0m\u001b[1;33m/\u001b[0m\u001b[1;36m100\u001b[0m\u001b[1;33m)\u001b[0m\u001b[1;33m,\u001b[0m \u001b[1;33m(\u001b[0m\u001b[0mj\u001b[0m\u001b[1;33m/\u001b[0m\u001b[1;36m100\u001b[0m\u001b[1;33m)\u001b[0m\u001b[1;33m)\u001b[0m\u001b[1;33m)\u001b[0m\u001b[1;33m.\u001b[0m\u001b[0mloc\u001b[0m\u001b[1;33m[\u001b[0m\u001b[1;33m:\u001b[0m\u001b[1;33m,\u001b[0m \u001b[0mi\u001b[0m\u001b[1;33m]\u001b[0m\u001b[1;33m\u001b[0m\u001b[1;33m\u001b[0m\u001b[0m\n\u001b[0m\u001b[0;32m     22\u001b[0m         \u001b[0mu\u001b[0m \u001b[1;33m=\u001b[0m \u001b[1;36m1\u001b[0m \u001b[1;33m/\u001b[0m \u001b[1;33m(\u001b[0m\u001b[1;33m(\u001b[0m\u001b[1;33m(\u001b[0m\u001b[0mWW\u001b[0m \u001b[1;33m*\u001b[0m \u001b[0mfa\u001b[0m\u001b[1;33m)\u001b[0m \u001b[1;33m+\u001b[0m \u001b[0mgen_hc\u001b[0m\u001b[1;33m.\u001b[0m\u001b[0mloc\u001b[0m\u001b[1;33m[\u001b[0m\u001b[1;33m:\u001b[0m\u001b[1;33m,\u001b[0m \u001b[0mi\u001b[0m\u001b[1;33m:\u001b[0m\u001b[1;33m]\u001b[0m\u001b[1;33m@\u001b[0m\u001b[0mdc_rate\u001b[0m\u001b[1;33m[\u001b[0m\u001b[0mi\u001b[0m\u001b[1;33m:\u001b[0m\u001b[1;33m]\u001b[0m\u001b[1;33m)\u001b[0m \u001b[1;33m**\u001b[0m \u001b[1;33m(\u001b[0m\u001b[1;36m1\u001b[0m\u001b[1;33m-\u001b[0m\u001b[0mgamma\u001b[0m\u001b[1;33m)\u001b[0m \u001b[1;33m/\u001b[0m \u001b[1;33m(\u001b[0m\u001b[1;36m1\u001b[0m\u001b[1;33m-\u001b[0m\u001b[0mgamma\u001b[0m\u001b[1;33m)\u001b[0m\u001b[1;33m)\u001b[0m\u001b[1;33m\u001b[0m\u001b[1;33m\u001b[0m\u001b[0m\n\u001b[0;32m     23\u001b[0m         \u001b[0mu\u001b[0m \u001b[1;33m=\u001b[0m \u001b[0mnp\u001b[0m\u001b[1;33m.\u001b[0m\u001b[0mmean\u001b[0m\u001b[1;33m(\u001b[0m\u001b[0mu\u001b[0m\u001b[1;33m)\u001b[0m\u001b[1;33m\u001b[0m\u001b[1;33m\u001b[0m\u001b[0m\n",
      "\u001b[1;32m<ipython-input-592-29933482e839>\u001b[0m in \u001b[0;36mget_finasset_wealth\u001b[1;34m(fin_asset_ret, risky_weights, rf_weights)\u001b[0m\n\u001b[0;32m      4\u001b[0m     \u001b[1;31m#rf_asset = (invest_amount*rf_weights) * fin_asset_ret[1].cumprod(axis=1)\u001b[0m\u001b[1;33m\u001b[0m\u001b[1;33m\u001b[0m\u001b[1;33m\u001b[0m\u001b[0m\n\u001b[0;32m      5\u001b[0m     \u001b[0mrisky_asset\u001b[0m \u001b[1;33m=\u001b[0m \u001b[1;33m(\u001b[0m\u001b[0mrisky_weights\u001b[0m\u001b[1;33m)\u001b[0m \u001b[1;33m*\u001b[0m \u001b[0mfin_asset_ret\u001b[0m\u001b[1;33m[\u001b[0m\u001b[1;36m0\u001b[0m\u001b[1;33m]\u001b[0m\u001b[1;33m\u001b[0m\u001b[1;33m\u001b[0m\u001b[0m\n\u001b[1;32m----> 6\u001b[1;33m     \u001b[0mrf_asset\u001b[0m \u001b[1;33m=\u001b[0m \u001b[1;33m(\u001b[0m\u001b[0mrf_weights\u001b[0m\u001b[1;33m)\u001b[0m \u001b[1;33m*\u001b[0m \u001b[0mfin_asset_ret\u001b[0m\u001b[1;33m[\u001b[0m\u001b[1;36m1\u001b[0m\u001b[1;33m]\u001b[0m\u001b[1;33m\u001b[0m\u001b[1;33m\u001b[0m\u001b[0m\n\u001b[0m\u001b[0;32m      7\u001b[0m \u001b[1;33m\u001b[0m\u001b[0m\n\u001b[0;32m      8\u001b[0m     \u001b[1;32mreturn\u001b[0m \u001b[0mrisky_asset\u001b[0m\u001b[1;33m+\u001b[0m\u001b[0mrf_asset\u001b[0m\u001b[1;33m\u001b[0m\u001b[1;33m\u001b[0m\u001b[0m\n",
      "\u001b[1;31mKeyboardInterrupt\u001b[0m: "
     ]
    }
   ],
   "source": [
    "np.random.seed(period)\n",
    "\n",
    "market_ = stats.norm.rvs(size=(size, period), loc=0, scale=1)\n",
    "brownian_ = stats.norm.rvs(size=(size, period), loc=0, scale=1)\n",
    "hc_ = rho * market_ + np.sqrt(1 - rho ** 2) * brownian_\n",
    "\n",
    "dc_rate = get_discount_rate(rf, eta, period)\n",
    "gen_hc = gen_labor_income(ic, hc_g, hcs, eta, hc_, rf, size, period)\n",
    "\n",
    "fa_ret = gen_finasset_ret(r_s, r_m, market_, rf, size, period)\n",
    "\n",
    "for i in list(range(period)):\n",
    "    \n",
    "    if i == (period-1):\n",
    "        H = 0\n",
    "    else:\n",
    "        H = gen_hc.loc[:, i+1:] @ dc_rate[i+1:]\n",
    "    \n",
    "    u_list = []\n",
    "    for j in range(100):\n",
    "        WW = pd.DataFrame(get_finasset_wealth(fa_ret, 1-(j/100), (j/100))).loc[:, i]\n",
    "        u = 1 / (((WW * fa) + gen_hc.loc[:, i:]@dc_rate[i:]) ** (1-gamma) / (1-gamma))\n",
    "        u = np.mean(u)\n",
    "\n",
    "        u_list.append(u)\n",
    "    \n",
    "        fa = np.mean(WW) * fa\n",
    "        \n",
    "    pd.DataFrame(u_list).plot()\n",
    "    plt.show()"
   ]
  },
  {
   "cell_type": "code",
   "execution_count": null,
   "metadata": {},
   "outputs": [],
   "source": []
  },
  {
   "cell_type": "code",
   "execution_count": null,
   "metadata": {},
   "outputs": [],
   "source": []
  },
  {
   "cell_type": "code",
   "execution_count": null,
   "metadata": {},
   "outputs": [],
   "source": []
  },
  {
   "cell_type": "code",
   "execution_count": null,
   "metadata": {},
   "outputs": [],
   "source": []
  },
  {
   "cell_type": "code",
   "execution_count": null,
   "metadata": {},
   "outputs": [],
   "source": []
  },
  {
   "cell_type": "code",
   "execution_count": null,
   "metadata": {},
   "outputs": [],
   "source": []
  },
  {
   "cell_type": "code",
   "execution_count": null,
   "metadata": {},
   "outputs": [],
   "source": []
  },
  {
   "cell_type": "code",
   "execution_count": null,
   "metadata": {},
   "outputs": [],
   "source": [
    "U = ((H + W[:, 0]) ** (1-gamma)) / (1-gamma)"
   ]
  },
  {
   "cell_type": "code",
   "execution_count": 506,
   "metadata": {},
   "outputs": [
    {
     "data": {
      "text/plain": [
       "0         87812.825140\n",
       "1        150126.270398\n",
       "2        203595.131470\n",
       "3        245222.766186\n",
       "4        188978.164964\n",
       "             ...      \n",
       "19995    206697.009180\n",
       "19996    172799.590838\n",
       "19997    212315.907423\n",
       "19998    176833.966511\n",
       "19999    328763.701848\n",
       "Length: 20000, dtype: float64"
      ]
     },
     "execution_count": 506,
     "metadata": {},
     "output_type": "execute_result"
    }
   ],
   "source": [
    "gen_hc.loc[:, 1:] @ dc_rate[1:]"
   ]
  },
  {
   "cell_type": "code",
   "execution_count": 507,
   "metadata": {},
   "outputs": [
    {
     "data": {
      "text/plain": [
       "array([ 70357.0369736 ,  74267.447233  ,  63349.16586636, ...,\n",
       "       113969.86378174,  72146.41839082, 103359.48053229])"
      ]
     },
     "execution_count": 507,
     "metadata": {},
     "output_type": "execute_result"
    }
   ],
   "source": [
    "fa * W[:, 0]"
   ]
  },
  {
   "cell_type": "code",
   "execution_count": 508,
   "metadata": {},
   "outputs": [
    {
     "data": {
      "text/plain": [
       "0        158169.862113\n",
       "1        224393.717631\n",
       "2        266944.297337\n",
       "3        341853.540239\n",
       "4        277385.054708\n",
       "             ...      \n",
       "19995    320055.279566\n",
       "19996    310310.819167\n",
       "19997    326285.771205\n",
       "19998    248980.384901\n",
       "19999    432123.182381\n",
       "Length: 20000, dtype: float64"
      ]
     },
     "execution_count": 508,
     "metadata": {},
     "output_type": "execute_result"
    }
   ],
   "source": [
    "fa * W[:, 0] + gen_hc.loc[:, 1:] @ dc_rate[1:]"
   ]
  },
  {
   "cell_type": "code",
   "execution_count": null,
   "metadata": {},
   "outputs": [],
   "source": []
  },
  {
   "cell_type": "code",
   "execution_count": null,
   "metadata": {},
   "outputs": [],
   "source": []
  },
  {
   "cell_type": "code",
   "execution_count": null,
   "metadata": {},
   "outputs": [],
   "source": []
  },
  {
   "cell_type": "code",
   "execution_count": 504,
   "metadata": {},
   "outputs": [
    {
     "data": {
      "text/html": [
       "<div>\n",
       "<style scoped>\n",
       "    .dataframe tbody tr th:only-of-type {\n",
       "        vertical-align: middle;\n",
       "    }\n",
       "\n",
       "    .dataframe tbody tr th {\n",
       "        vertical-align: top;\n",
       "    }\n",
       "\n",
       "    .dataframe thead th {\n",
       "        text-align: right;\n",
       "    }\n",
       "</style>\n",
       "<table border=\"1\" class=\"dataframe\">\n",
       "  <thead>\n",
       "    <tr style=\"text-align: right;\">\n",
       "      <th></th>\n",
       "      <th>0</th>\n",
       "      <th>1</th>\n",
       "      <th>2</th>\n",
       "      <th>3</th>\n",
       "      <th>4</th>\n",
       "      <th>5</th>\n",
       "      <th>6</th>\n",
       "      <th>7</th>\n",
       "      <th>8</th>\n",
       "      <th>9</th>\n",
       "      <th>...</th>\n",
       "      <th>20</th>\n",
       "      <th>21</th>\n",
       "      <th>22</th>\n",
       "      <th>23</th>\n",
       "      <th>24</th>\n",
       "      <th>25</th>\n",
       "      <th>26</th>\n",
       "      <th>27</th>\n",
       "      <th>28</th>\n",
       "      <th>29</th>\n",
       "    </tr>\n",
       "  </thead>\n",
       "  <tbody>\n",
       "    <tr>\n",
       "      <th>0</th>\n",
       "      <td>0.703570</td>\n",
       "      <td>1.767841</td>\n",
       "      <td>0.775083</td>\n",
       "      <td>1.247117</td>\n",
       "      <td>1.032848</td>\n",
       "      <td>1.180339</td>\n",
       "      <td>0.604099</td>\n",
       "      <td>1.801521</td>\n",
       "      <td>1.116131</td>\n",
       "      <td>0.741031</td>\n",
       "      <td>...</td>\n",
       "      <td>1.065712</td>\n",
       "      <td>0.915104</td>\n",
       "      <td>0.928630</td>\n",
       "      <td>1.517143</td>\n",
       "      <td>0.409605</td>\n",
       "      <td>1.820523</td>\n",
       "      <td>1.709102</td>\n",
       "      <td>0.857427</td>\n",
       "      <td>1.477876</td>\n",
       "      <td>0.609203</td>\n",
       "    </tr>\n",
       "    <tr>\n",
       "      <th>1</th>\n",
       "      <td>0.742674</td>\n",
       "      <td>0.691693</td>\n",
       "      <td>1.395169</td>\n",
       "      <td>0.756368</td>\n",
       "      <td>0.850530</td>\n",
       "      <td>0.805848</td>\n",
       "      <td>1.541870</td>\n",
       "      <td>0.566411</td>\n",
       "      <td>0.847120</td>\n",
       "      <td>1.413048</td>\n",
       "      <td>...</td>\n",
       "      <td>1.280563</td>\n",
       "      <td>1.462998</td>\n",
       "      <td>1.382462</td>\n",
       "      <td>0.590835</td>\n",
       "      <td>1.608597</td>\n",
       "      <td>1.875934</td>\n",
       "      <td>1.187904</td>\n",
       "      <td>0.769699</td>\n",
       "      <td>0.727360</td>\n",
       "      <td>1.060255</td>\n",
       "    </tr>\n",
       "    <tr>\n",
       "      <th>2</th>\n",
       "      <td>0.633492</td>\n",
       "      <td>0.708449</td>\n",
       "      <td>0.932575</td>\n",
       "      <td>0.753803</td>\n",
       "      <td>0.753246</td>\n",
       "      <td>0.698927</td>\n",
       "      <td>1.443227</td>\n",
       "      <td>0.675430</td>\n",
       "      <td>1.078379</td>\n",
       "      <td>0.920395</td>\n",
       "      <td>...</td>\n",
       "      <td>1.061947</td>\n",
       "      <td>1.044711</td>\n",
       "      <td>1.023460</td>\n",
       "      <td>0.794541</td>\n",
       "      <td>1.290890</td>\n",
       "      <td>0.905799</td>\n",
       "      <td>0.729279</td>\n",
       "      <td>1.437387</td>\n",
       "      <td>1.427047</td>\n",
       "      <td>0.651956</td>\n",
       "    </tr>\n",
       "    <tr>\n",
       "      <th>3</th>\n",
       "      <td>0.966308</td>\n",
       "      <td>0.751636</td>\n",
       "      <td>1.874063</td>\n",
       "      <td>1.426324</td>\n",
       "      <td>1.486456</td>\n",
       "      <td>0.756621</td>\n",
       "      <td>1.622550</td>\n",
       "      <td>0.972858</td>\n",
       "      <td>1.191252</td>\n",
       "      <td>1.233407</td>\n",
       "      <td>...</td>\n",
       "      <td>1.495678</td>\n",
       "      <td>1.362514</td>\n",
       "      <td>0.932726</td>\n",
       "      <td>1.291863</td>\n",
       "      <td>1.225099</td>\n",
       "      <td>1.268239</td>\n",
       "      <td>0.656550</td>\n",
       "      <td>0.876757</td>\n",
       "      <td>2.893057</td>\n",
       "      <td>0.958807</td>\n",
       "    </tr>\n",
       "    <tr>\n",
       "      <th>4</th>\n",
       "      <td>0.884069</td>\n",
       "      <td>0.815958</td>\n",
       "      <td>1.301390</td>\n",
       "      <td>0.944198</td>\n",
       "      <td>1.233666</td>\n",
       "      <td>1.265169</td>\n",
       "      <td>1.371293</td>\n",
       "      <td>1.220220</td>\n",
       "      <td>0.573366</td>\n",
       "      <td>1.204197</td>\n",
       "      <td>...</td>\n",
       "      <td>0.891673</td>\n",
       "      <td>0.806609</td>\n",
       "      <td>1.248217</td>\n",
       "      <td>1.210445</td>\n",
       "      <td>0.779396</td>\n",
       "      <td>0.739844</td>\n",
       "      <td>0.928540</td>\n",
       "      <td>1.008798</td>\n",
       "      <td>1.761449</td>\n",
       "      <td>1.606770</td>\n",
       "    </tr>\n",
       "    <tr>\n",
       "      <th>...</th>\n",
       "      <td>...</td>\n",
       "      <td>...</td>\n",
       "      <td>...</td>\n",
       "      <td>...</td>\n",
       "      <td>...</td>\n",
       "      <td>...</td>\n",
       "      <td>...</td>\n",
       "      <td>...</td>\n",
       "      <td>...</td>\n",
       "      <td>...</td>\n",
       "      <td>...</td>\n",
       "      <td>...</td>\n",
       "      <td>...</td>\n",
       "      <td>...</td>\n",
       "      <td>...</td>\n",
       "      <td>...</td>\n",
       "      <td>...</td>\n",
       "      <td>...</td>\n",
       "      <td>...</td>\n",
       "      <td>...</td>\n",
       "      <td>...</td>\n",
       "    </tr>\n",
       "    <tr>\n",
       "      <th>19995</th>\n",
       "      <td>1.133583</td>\n",
       "      <td>1.759332</td>\n",
       "      <td>1.004802</td>\n",
       "      <td>1.281922</td>\n",
       "      <td>1.307701</td>\n",
       "      <td>1.859351</td>\n",
       "      <td>1.558534</td>\n",
       "      <td>0.993080</td>\n",
       "      <td>1.085310</td>\n",
       "      <td>0.778194</td>\n",
       "      <td>...</td>\n",
       "      <td>1.144983</td>\n",
       "      <td>1.674317</td>\n",
       "      <td>0.907978</td>\n",
       "      <td>0.933340</td>\n",
       "      <td>1.208240</td>\n",
       "      <td>0.621802</td>\n",
       "      <td>0.829313</td>\n",
       "      <td>1.127469</td>\n",
       "      <td>1.127129</td>\n",
       "      <td>1.157810</td>\n",
       "    </tr>\n",
       "    <tr>\n",
       "      <th>19996</th>\n",
       "      <td>1.375112</td>\n",
       "      <td>1.053524</td>\n",
       "      <td>1.036769</td>\n",
       "      <td>1.388394</td>\n",
       "      <td>1.035554</td>\n",
       "      <td>2.344119</td>\n",
       "      <td>0.978961</td>\n",
       "      <td>1.493827</td>\n",
       "      <td>1.318921</td>\n",
       "      <td>0.949858</td>\n",
       "      <td>...</td>\n",
       "      <td>0.792126</td>\n",
       "      <td>0.948881</td>\n",
       "      <td>0.482881</td>\n",
       "      <td>1.081864</td>\n",
       "      <td>1.343896</td>\n",
       "      <td>1.255348</td>\n",
       "      <td>1.735449</td>\n",
       "      <td>0.896286</td>\n",
       "      <td>0.807701</td>\n",
       "      <td>1.003728</td>\n",
       "    </tr>\n",
       "    <tr>\n",
       "      <th>19997</th>\n",
       "      <td>1.139699</td>\n",
       "      <td>0.906112</td>\n",
       "      <td>0.597319</td>\n",
       "      <td>1.076501</td>\n",
       "      <td>0.534634</td>\n",
       "      <td>1.437563</td>\n",
       "      <td>1.652357</td>\n",
       "      <td>1.575735</td>\n",
       "      <td>0.626619</td>\n",
       "      <td>1.419048</td>\n",
       "      <td>...</td>\n",
       "      <td>0.724686</td>\n",
       "      <td>0.755845</td>\n",
       "      <td>0.362730</td>\n",
       "      <td>1.381561</td>\n",
       "      <td>0.990794</td>\n",
       "      <td>0.900309</td>\n",
       "      <td>0.720388</td>\n",
       "      <td>0.988621</td>\n",
       "      <td>0.965873</td>\n",
       "      <td>1.314809</td>\n",
       "    </tr>\n",
       "    <tr>\n",
       "      <th>19998</th>\n",
       "      <td>0.721464</td>\n",
       "      <td>1.478306</td>\n",
       "      <td>1.143514</td>\n",
       "      <td>1.118889</td>\n",
       "      <td>0.490086</td>\n",
       "      <td>0.958785</td>\n",
       "      <td>0.818217</td>\n",
       "      <td>0.740038</td>\n",
       "      <td>1.144999</td>\n",
       "      <td>1.376876</td>\n",
       "      <td>...</td>\n",
       "      <td>1.334263</td>\n",
       "      <td>1.025991</td>\n",
       "      <td>1.003791</td>\n",
       "      <td>1.209238</td>\n",
       "      <td>0.646535</td>\n",
       "      <td>1.301815</td>\n",
       "      <td>0.756205</td>\n",
       "      <td>1.583057</td>\n",
       "      <td>0.596207</td>\n",
       "      <td>1.028302</td>\n",
       "    </tr>\n",
       "    <tr>\n",
       "      <th>19999</th>\n",
       "      <td>1.033595</td>\n",
       "      <td>0.710266</td>\n",
       "      <td>1.607438</td>\n",
       "      <td>1.593658</td>\n",
       "      <td>0.778783</td>\n",
       "      <td>1.094217</td>\n",
       "      <td>0.627128</td>\n",
       "      <td>1.245058</td>\n",
       "      <td>0.932619</td>\n",
       "      <td>1.170330</td>\n",
       "      <td>...</td>\n",
       "      <td>1.025219</td>\n",
       "      <td>1.767935</td>\n",
       "      <td>1.220522</td>\n",
       "      <td>0.960188</td>\n",
       "      <td>0.780652</td>\n",
       "      <td>1.420629</td>\n",
       "      <td>1.075136</td>\n",
       "      <td>0.480858</td>\n",
       "      <td>0.988929</td>\n",
       "      <td>1.187069</td>\n",
       "    </tr>\n",
       "  </tbody>\n",
       "</table>\n",
       "<p>20000 rows × 30 columns</p>\n",
       "</div>"
      ],
      "text/plain": [
       "             0         1         2         3         4         5         6   \\\n",
       "0      0.703570  1.767841  0.775083  1.247117  1.032848  1.180339  0.604099   \n",
       "1      0.742674  0.691693  1.395169  0.756368  0.850530  0.805848  1.541870   \n",
       "2      0.633492  0.708449  0.932575  0.753803  0.753246  0.698927  1.443227   \n",
       "3      0.966308  0.751636  1.874063  1.426324  1.486456  0.756621  1.622550   \n",
       "4      0.884069  0.815958  1.301390  0.944198  1.233666  1.265169  1.371293   \n",
       "...         ...       ...       ...       ...       ...       ...       ...   \n",
       "19995  1.133583  1.759332  1.004802  1.281922  1.307701  1.859351  1.558534   \n",
       "19996  1.375112  1.053524  1.036769  1.388394  1.035554  2.344119  0.978961   \n",
       "19997  1.139699  0.906112  0.597319  1.076501  0.534634  1.437563  1.652357   \n",
       "19998  0.721464  1.478306  1.143514  1.118889  0.490086  0.958785  0.818217   \n",
       "19999  1.033595  0.710266  1.607438  1.593658  0.778783  1.094217  0.627128   \n",
       "\n",
       "             7         8         9   ...        20        21        22  \\\n",
       "0      1.801521  1.116131  0.741031  ...  1.065712  0.915104  0.928630   \n",
       "1      0.566411  0.847120  1.413048  ...  1.280563  1.462998  1.382462   \n",
       "2      0.675430  1.078379  0.920395  ...  1.061947  1.044711  1.023460   \n",
       "3      0.972858  1.191252  1.233407  ...  1.495678  1.362514  0.932726   \n",
       "4      1.220220  0.573366  1.204197  ...  0.891673  0.806609  1.248217   \n",
       "...         ...       ...       ...  ...       ...       ...       ...   \n",
       "19995  0.993080  1.085310  0.778194  ...  1.144983  1.674317  0.907978   \n",
       "19996  1.493827  1.318921  0.949858  ...  0.792126  0.948881  0.482881   \n",
       "19997  1.575735  0.626619  1.419048  ...  0.724686  0.755845  0.362730   \n",
       "19998  0.740038  1.144999  1.376876  ...  1.334263  1.025991  1.003791   \n",
       "19999  1.245058  0.932619  1.170330  ...  1.025219  1.767935  1.220522   \n",
       "\n",
       "             23        24        25        26        27        28        29  \n",
       "0      1.517143  0.409605  1.820523  1.709102  0.857427  1.477876  0.609203  \n",
       "1      0.590835  1.608597  1.875934  1.187904  0.769699  0.727360  1.060255  \n",
       "2      0.794541  1.290890  0.905799  0.729279  1.437387  1.427047  0.651956  \n",
       "3      1.291863  1.225099  1.268239  0.656550  0.876757  2.893057  0.958807  \n",
       "4      1.210445  0.779396  0.739844  0.928540  1.008798  1.761449  1.606770  \n",
       "...         ...       ...       ...       ...       ...       ...       ...  \n",
       "19995  0.933340  1.208240  0.621802  0.829313  1.127469  1.127129  1.157810  \n",
       "19996  1.081864  1.343896  1.255348  1.735449  0.896286  0.807701  1.003728  \n",
       "19997  1.381561  0.990794  0.900309  0.720388  0.988621  0.965873  1.314809  \n",
       "19998  1.209238  0.646535  1.301815  0.756205  1.583057  0.596207  1.028302  \n",
       "19999  0.960188  0.780652  1.420629  1.075136  0.480858  0.988929  1.187069  \n",
       "\n",
       "[20000 rows x 30 columns]"
      ]
     },
     "execution_count": 504,
     "metadata": {},
     "output_type": "execute_result"
    }
   ],
   "source": [
    "pd.DataFrame(W)"
   ]
  },
  {
   "cell_type": "code",
   "execution_count": 485,
   "metadata": {},
   "outputs": [
    {
     "data": {
      "text/plain": [
       "29    46803.486449\n",
       "dtype: float64"
      ]
     },
     "execution_count": 485,
     "metadata": {},
     "output_type": "execute_result"
    }
   ],
   "source": [
    "gen_hc.loc[:, 29:].mean()"
   ]
  },
  {
   "cell_type": "code",
   "execution_count": 483,
   "metadata": {},
   "outputs": [
    {
     "data": {
      "text/html": [
       "<div>\n",
       "<style scoped>\n",
       "    .dataframe tbody tr th:only-of-type {\n",
       "        vertical-align: middle;\n",
       "    }\n",
       "\n",
       "    .dataframe tbody tr th {\n",
       "        vertical-align: top;\n",
       "    }\n",
       "\n",
       "    .dataframe thead th {\n",
       "        text-align: right;\n",
       "    }\n",
       "</style>\n",
       "<table border=\"1\" class=\"dataframe\">\n",
       "  <thead>\n",
       "    <tr style=\"text-align: right;\">\n",
       "      <th></th>\n",
       "      <th>29</th>\n",
       "    </tr>\n",
       "  </thead>\n",
       "  <tbody>\n",
       "    <tr>\n",
       "      <th>0</th>\n",
       "      <td>28076.444985</td>\n",
       "    </tr>\n",
       "    <tr>\n",
       "      <th>1</th>\n",
       "      <td>35005.563114</td>\n",
       "    </tr>\n",
       "    <tr>\n",
       "      <th>2</th>\n",
       "      <td>39455.686608</td>\n",
       "    </tr>\n",
       "    <tr>\n",
       "      <th>3</th>\n",
       "      <td>63453.266979</td>\n",
       "    </tr>\n",
       "    <tr>\n",
       "      <th>4</th>\n",
       "      <td>27213.050562</td>\n",
       "    </tr>\n",
       "    <tr>\n",
       "      <th>...</th>\n",
       "      <td>...</td>\n",
       "    </tr>\n",
       "    <tr>\n",
       "      <th>19995</th>\n",
       "      <td>46849.127972</td>\n",
       "    </tr>\n",
       "    <tr>\n",
       "      <th>19996</th>\n",
       "      <td>47251.473817</td>\n",
       "    </tr>\n",
       "    <tr>\n",
       "      <th>19997</th>\n",
       "      <td>65032.246634</td>\n",
       "    </tr>\n",
       "    <tr>\n",
       "      <th>19998</th>\n",
       "      <td>42683.710429</td>\n",
       "    </tr>\n",
       "    <tr>\n",
       "      <th>19999</th>\n",
       "      <td>64472.322438</td>\n",
       "    </tr>\n",
       "  </tbody>\n",
       "</table>\n",
       "<p>20000 rows × 1 columns</p>\n",
       "</div>"
      ],
      "text/plain": [
       "                 29\n",
       "0      28076.444985\n",
       "1      35005.563114\n",
       "2      39455.686608\n",
       "3      63453.266979\n",
       "4      27213.050562\n",
       "...             ...\n",
       "19995  46849.127972\n",
       "19996  47251.473817\n",
       "19997  65032.246634\n",
       "19998  42683.710429\n",
       "19999  64472.322438\n",
       "\n",
       "[20000 rows x 1 columns]"
      ]
     },
     "execution_count": 483,
     "metadata": {},
     "output_type": "execute_result"
    }
   ],
   "source": [
    "gen_hc.loc[:, 29:]"
   ]
  },
  {
   "cell_type": "code",
   "execution_count": null,
   "metadata": {},
   "outputs": [],
   "source": []
  },
  {
   "cell_type": "code",
   "execution_count": null,
   "metadata": {},
   "outputs": [],
   "source": []
  }
 ],
 "metadata": {
  "kernelspec": {
   "display_name": "Python 3",
   "language": "python",
   "name": "python3"
  },
  "language_info": {
   "codemirror_mode": {
    "name": "ipython",
    "version": 3
   },
   "file_extension": ".py",
   "mimetype": "text/x-python",
   "name": "python",
   "nbconvert_exporter": "python",
   "pygments_lexer": "ipython3",
   "version": "3.7.4"
  }
 },
 "nbformat": 4,
 "nbformat_minor": 2
}
