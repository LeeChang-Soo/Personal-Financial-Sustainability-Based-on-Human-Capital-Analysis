{
 "cells": [
  {
   "cell_type": "code",
   "execution_count": null,
   "metadata": {},
   "outputs": [],
   "source": [
    "def gen_labor_income(initial_hc, mu_h, sigma_h, eta, hc_, rf, size=20000, period=30):\n",
    "    hc = np.ones([size, ]) * initial_hc\n",
    "    \n",
    "    hc_list = []\n",
    "    for i in range(period):\n",
    "        hc_t = hc * np.exp(mu_h + (sigma_h * hc_[:, i]))\n",
    "        hc_list.append(hc_t)\n",
    "        hc = hc_t\n",
    "        \n",
    "    return pd.DataFrame(hc_list).T"
   ]
  },
  {
   "cell_type": "code",
   "execution_count": null,
   "metadata": {},
   "outputs": [],
   "source": [
    "# numpy version\n",
    "def gen_labor_income(initial_hc, mu_h, sigma_h, eta, hc_, rf, size=20000, period=30):\n",
    "    hc = np.ones([size, ]) * initial_hc\n",
    "    \n",
    "    hc_list = []\n",
    "    for i in range(period):\n",
    "        hc_t = hc * np.exp(mu_h + (sigma_h * hc_[:, i]))\n",
    "        hc_list.append(hc_t)\n",
    "        hc = hc_t\n",
    "        \n",
    "    return np.array([hc_list]).T"
   ]
  },
  {
   "cell_type": "code",
   "execution_count": null,
   "metadata": {},
   "outputs": [],
   "source": [
    "def get_discount_rate(rf, eta, period=30):\n",
    "    dc_rate = np.exp((rf + 0.04 + eta) * (np.array(range(period)) + 1) * (-1))\n",
    "    return dc_rate\n",
    "\n",
    "# human capital = gen_labor_income @ dc_rate"
   ]
  },
  {
   "cell_type": "code",
   "execution_count": null,
   "metadata": {},
   "outputs": [],
   "source": [
    "def gen_finasset_ret(mu_market, sigma_market, market_, rf, size=20000, period=30):\n",
    "    risky_asset_ret = np.exp(mu_market - (0.5*(sigma_market**2)) + sigma_market*market_)\n",
    "    rf_asset_ret = np.exp(rf * np.ones(market_.shape))\n",
    "    \n",
    "    return risky_asset_ret, rf_asset_ret"
   ]
  },
  {
   "cell_type": "code",
   "execution_count": null,
   "metadata": {},
   "outputs": [],
   "source": [
    "# if rf_asset_ret has sigma\n",
    "def gen_finasset_ret(mu_market, sigma_market, market_, mu_rf, sigma_rf, rf_, size=20000, period=30):\n",
    "    risky_asset_ret = np.exp(mu_market - (0.5*(sigma_market**2)) + sigma_market*market_)\n",
    "    rf_asset_ret = np.exp(mu_rf - (0.5*(sigma_rf**2)) + sigma_rf*rf_)\n",
    "    \n",
    "    return risky_asset_ret, rf_asset_ret"
   ]
  },
  {
   "cell_type": "code",
   "execution_count": null,
   "metadata": {},
   "outputs": [],
   "source": [
    "def get_finasset_wealth(fin_asset_ret, initial_wealth, nomial_ic, consume_rate, risky_weights, rf_weights, size=20000):\n",
    "    invest_amount = initial_wealth + (nomial_ic * (consume_rate))\n",
    "    risky_asset = (invest_amount*risky_weights) * fin_asset_ret[0].cumprod(axis=1)\n",
    "    rf_asset = (invest_amount*rf_weights) * fin_asset_ret[1].cumprod(axis=1)\n",
    "    \n",
    "    return risky_asset+rf_asset"
   ]
  },
  {
   "cell_type": "code",
   "execution_count": null,
   "metadata": {},
   "outputs": [],
   "source": []
  }
 ],
 "metadata": {
  "kernelspec": {
   "display_name": "Python 3",
   "language": "python",
   "name": "python3"
  },
  "language_info": {
   "codemirror_mode": {
    "name": "ipython",
    "version": 3
   },
   "file_extension": ".py",
   "mimetype": "text/x-python",
   "name": "python",
   "nbconvert_exporter": "python",
   "pygments_lexer": "ipython3",
   "version": "3.7.4"
  }
 },
 "nbformat": 4,
 "nbformat_minor": 2
}
