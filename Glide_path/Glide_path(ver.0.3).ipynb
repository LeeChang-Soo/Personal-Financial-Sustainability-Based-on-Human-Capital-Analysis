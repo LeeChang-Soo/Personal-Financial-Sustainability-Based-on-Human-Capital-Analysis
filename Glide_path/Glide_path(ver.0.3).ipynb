{
 "cells": [
  {
   "cell_type": "code",
   "execution_count": 1,
   "metadata": {},
   "outputs": [],
   "source": [
    "import pandas as pd\n",
    "import numpy as np\n",
    "import scipy.stats as stats\n",
    "from scipy.optimize import minimize"
   ]
  },
  {
   "cell_type": "code",
   "execution_count": 65,
   "metadata": {
    "scrolled": false
   },
   "outputs": [],
   "source": [
    "n = 20000\n",
    "period = 2\n",
    "\n",
    "gamma = 6\n",
    "rho = 0.2\n",
    "\n",
    "market_mu = 0.12\n",
    "market_sigma = 0.3\n",
    "\n",
    "rf_mu = 0.04\n",
    "rf_sigma = 0.01\n",
    "\n",
    "initial_wealth = 150000\n",
    "initial_income = 13000"
   ]
  },
  {
   "cell_type": "code",
   "execution_count": 66,
   "metadata": {
    "scrolled": false
   },
   "outputs": [],
   "source": [
    "def max_utility(n, period, rho, gamma, market_mu, market_sigma, rf_mu, rf_sigma):\n",
    "    def obj(weight, n, period, rho, gamma, market_mu, market_sigma, rf_mu, rf_sigma):\n",
    "        np.random.seed(1)\n",
    "\n",
    "        market_ = stats.norm.rvs(size=(n, period+1), loc=0, scale=1)\n",
    "        rf_ = stats.norm.rvs(size=(n, period+1), loc=0, scale=1)\n",
    "        brownian_ = stats.norm.rvs(size=(n, period+1), loc=0, scale=1)\n",
    "        hc_ = rho * market_ + np.sqrt(1 - rho ** 2) * brownian_\n",
    "\n",
    "        risky_ret = np.exp(market_mu+(0.5*(market_sigma**2))+market_sigma*market_[:, 0])\n",
    "        rf_ret = np.exp(rf_mu+(0.5*(rf_sigma**2))+rf_sigma*rf_[:, 0])\n",
    "        #rf_ret = np.exp(rf_mu*np.ones(market_[:, 0].shape))\n",
    "\n",
    "        h_ret = initial_income*np.cumprod(np.exp(0.04+0.03*(rho * market_[:, :-1] + np.sqrt(1 - rho ** 2) * hc_[:, :-1])), axis=1)\n",
    "        dc_rate = np.exp((0.04 + 0.04) * (np.array(range(period)) + 1) * (-1))\n",
    "\n",
    "        W_t = (initial_wealth+(initial_income*0.3))*(np.array([risky_ret, rf_ret]).T @ weight)\n",
    "        \n",
    "        if period == 0:\n",
    "            H_t = np.zeros([W_t.shape[0]])\n",
    "        else:\n",
    "            H_t = h_ret @ dc_rate\n",
    "\n",
    "        if gamma == 1:\n",
    "            obj = np.log(W_t+H_t) * (-1)\n",
    "        else:\n",
    "            obj = (((W_t+H_t) ** (1-gamma)) / (1-gamma)) * (-1)\n",
    "\n",
    "        return np.mean(obj)\n",
    "\n",
    "    x = np.ones([2]) / 2\n",
    "    cons = ({'type': 'ineq', 'fun': lambda x: 1 - np.sum(x)},\n",
    "            {'type': 'ineq', 'fun': lambda x: x},)\n",
    "    optimized = minimize(obj, x, (n, period, rho, gamma, market_mu, market_sigma, rf_mu, rf_sigma), method='COBYLA', \n",
    "                         constraints=cons)\n",
    "    if not optimized.success: raise BaseException(optimized.message)\n",
    "    return optimized.x"
   ]
  },
  {
   "cell_type": "code",
   "execution_count": 67,
   "metadata": {},
   "outputs": [
    {
     "data": {
      "text/plain": [
       "array([0.35260221, 0.64739779])"
      ]
     },
     "execution_count": 67,
     "metadata": {},
     "output_type": "execute_result"
    }
   ],
   "source": [
    "max_utility(n, period, rho, gamma, market_mu, market_sigma, rf_mu, rf_sigma)"
   ]
  },
  {
   "cell_type": "code",
   "execution_count": null,
   "metadata": {},
   "outputs": [],
   "source": []
  },
  {
   "cell_type": "code",
   "execution_count": 244,
   "metadata": {},
   "outputs": [],
   "source": [
    "class Maximize(object):\n",
    "    np.random.seed(1)\n",
    "    period = 30\n",
    "    \n",
    "    def __init__(self, n, rho):\n",
    "        self.n = n\n",
    "        #self.period = period\n",
    "        self.rho = rho\n",
    "        \n",
    "        \n",
    "    def MC_data(self):\n",
    "        self.market_ = stats.norm.rvs(size=(self.n, self.period+1), loc=0, scale=1)\n",
    "        self.rf_ = stats.norm.rvs(size=(self.n, self.period+1), loc=0, scale=1)\n",
    "        self.brownian_ = stats.norm.rvs(size=(self.n, self.period+1), loc=0, scale=1)\n",
    "        self.hc_ = self.rho * self.market_ + np.sqrt(1 - self.rho ** 2) * self.brownian_\n",
    "\n",
    "        \n",
    "    def get_human_capital(self):\n",
    "        h_ret = initial_income*np.cumprod(np.exp(0.04+0.03*(self.rho * self.market_[:, :-1] + np.sqrt(1 - self.rho ** 2) * self.hc_[:, :-1])), axis=1)\n",
    "        dc_rate = np.exp((0.04 + 0.04) * (np.array(range(self.period)) + 1) * (-1))\n",
    "        return h_ret @ dc_rate\n",
    "    \n",
    "    \n",
    "    def get_asset_ret(self, market_mu, market_sigma, rf_mu, rf_sigma):\n",
    "        risky_ret = np.exp(market_mu+(0.5*(market_sigma**2))+market_sigma*self.market_[:, 0])\n",
    "        rf_ret = np.exp(rf_mu+(0.5*(rf_sigma**2))+rf_sigma*self.rf_[:, 0])\n",
    "        #rf_ret = np.exp(rf_mu*np.ones(market_[:, 0].shape))\n",
    "        return np.array([risky_ret, rf_ret]).T\n",
    "    \n",
    "    \n",
    "    def max_utility(self, gamma, market_mu, market_sigma, rf_mu, rf_sigma):\n",
    "        def obj(weight, n, period, rho, gamma, market_mu, market_sigma, rf_mu, rf_sigma):\n",
    "            risky_ret = np.exp(market_mu+(0.5*(market_sigma**2))+market_sigma*market_[:, 0])\n",
    "            rf_ret = np.exp(rf_mu+(0.5*(rf_sigma**2))+rf_sigma*rf_[:, 0])\n",
    "            #rf_ret = np.exp(rf_mu*np.ones(market_[:, 0].shape))\n",
    "\n",
    "            h_ret = initial_income*np.cumprod(np.exp(0.04+0.03*(rho * market_[:, :-1] + np.sqrt(1 - rho ** 2) * hc_[:, :-1])), axis=1)\n",
    "            dc_rate = np.exp((0.04 + 0.04) * (np.array(range(period)) + 1) * (-1))\n",
    "\n",
    "            W_t = (initial_wealth+(initial_income*0.3))*(np.array([risky_ret, rf_ret]).T @ weight)\n",
    "\n",
    "            if period == 0:\n",
    "                H_t = np.zeros([W_t.shape[0]])\n",
    "            else:\n",
    "                H_t = h_ret @ dc_rate\n",
    "\n",
    "            if gamma == 1:\n",
    "                obj = np.log(W_t+H_t) * (-1)\n",
    "            else:\n",
    "                obj = (((W_t+H_t) ** (1-gamma)) / (1-gamma)) * (-1)\n",
    "\n",
    "            return np.mean(obj)\n",
    "\n",
    "        x = np.ones([2]) / 2\n",
    "        cons = ({'type': 'ineq', 'fun': lambda x: 1 - np.sum(x)},\n",
    "                {'type': 'ineq', 'fun': lambda x: x},)\n",
    "        optimized = minimize(obj, x, (n, period, rho, gamma, market_mu, market_sigma, rf_mu, rf_sigma), method='COBYLA', \n",
    "                             constraints=cons)\n",
    "        if not optimized.success: raise BaseException(optimized.message)\n",
    "        return optimized.x\n",
    "    \n",
    "        \n",
    "    @classmethod\n",
    "    def change_period(cls, period):\n",
    "        cls.period = period"
   ]
  },
  {
   "cell_type": "code",
   "execution_count": null,
   "metadata": {},
   "outputs": [],
   "source": []
  },
  {
   "cell_type": "code",
   "execution_count": null,
   "metadata": {},
   "outputs": [],
   "source": []
  },
  {
   "cell_type": "code",
   "execution_count": null,
   "metadata": {},
   "outputs": [],
   "source": []
  },
  {
   "cell_type": "code",
   "execution_count": 341,
   "metadata": {},
   "outputs": [
    {
     "data": {
      "text/plain": [
       "array([], dtype=float64)"
      ]
     },
     "execution_count": 341,
     "metadata": {},
     "output_type": "execute_result"
    }
   ],
   "source": [
    "np.zeros([np.array(range(0)).shape[0]])"
   ]
  },
  {
   "cell_type": "code",
   "execution_count": 182,
   "metadata": {},
   "outputs": [],
   "source": [
    "class Maximize(object):\n",
    "    period = 30\n",
    "    np.random.seed(period)\n",
    "\n",
    "    \n",
    "    def __init__(self, n, rho, gamma):\n",
    "        self.n = n\n",
    "        #self.period = period\n",
    "        self.rho = rho\n",
    "        self.gamma = gamma\n",
    "        #self.initial_wealth = initial_wealth\n",
    "        #self.initial_income = initial_income\n",
    "        \n",
    "        \n",
    "    def MC_data(self):\n",
    "        self.market_ = stats.norm.rvs(size=(self.n, self.period+1), loc=0, scale=1)\n",
    "        self.rf_ = stats.norm.rvs(size=(self.n, self.period+1), loc=0, scale=1)\n",
    "        self.brownian_ = stats.norm.rvs(size=(self.n, self.period+1), loc=0, scale=1)\n",
    "        self.hc_ = self.rho * self.market_ + np.sqrt(1 - self.rho ** 2) * self.brownian_\n",
    "\n",
    "        \n",
    "    def get_original_H(self, hc_mu, hc_sigma):\n",
    "        dc_rate = np.exp((0.04 + 0.04 + 0.04) * (np.array(range(self.period)) + 1) * (-1))\n",
    "        \n",
    "        if self.period == 0:\n",
    "            self.labor_income = np.zeros([self.n, self.period+1])\n",
    "            self.H_t = np.zeros([self.n])\n",
    "        else:\n",
    "            self.labor_income = self.initial_income*np.cumprod(np.exp(hc_mu+hc_sigma*(self.rho * self.market_[:, :-1] + np.sqrt(1 - self.rho ** 2) * self.hc_[:, :-1])), axis=1)\n",
    "            self.H_t = self.labor_income @ dc_rate\n",
    "    \n",
    "    \n",
    "    def get_asset_ret(self, market_mu, market_sigma, rf_mu, rf_sigma):\n",
    "        risky_ret = np.exp(market_mu+(0.5*(market_sigma**2))+market_sigma*self.market_[:, 0])\n",
    "        rf_ret = np.exp(rf_mu+(0.5*(rf_sigma**2))+rf_sigma*self.rf_[:, 0])\n",
    "        #rf_ret = np.exp(rf_mu*np.ones(market_[:, 0].shape))\n",
    "        \n",
    "        self.R_t =  np.array([risky_ret, rf_ret]).T\n",
    "    \n",
    "    \n",
    "    def fit(self):\n",
    "        def obj(weight, gamma):\n",
    "            W_t = (self.initial_wealth+(self.initial_income*0.3))*(self.R_t @ weight)\n",
    "\n",
    "            if self.gamma == 1:\n",
    "                obj = np.log(W_t+self.H_t) * (-1)\n",
    "            else:\n",
    "                obj = (((W_t+self.H_t) ** (1-self.gamma)) / (1-self.gamma)) * (-1)\n",
    "\n",
    "            return np.mean(obj)\n",
    "\n",
    "        x = np.ones([self.R_t.shape[1]]) / self.R_t.shape[1]\n",
    "        cons = ({'type': 'ineq', 'fun': lambda x: 1 - np.sum(x)},\n",
    "                {'type': 'ineq', 'fun': lambda x: x},)\n",
    "        optimized = minimize(obj, x, (self.gamma), method='COBYLA', constraints=cons)\n",
    "        if not optimized.success: raise BaseException(optimized.message)\n",
    "        return np.round(optimized.x, 4)\n",
    "    \n",
    "        \n",
    "    def change_parameters(self, period, initial_wealth, initial_income):\n",
    "        self.period = period\n",
    "        self.initial_wealth = initial_wealth\n",
    "        self.initial_income = initial_income"
   ]
  },
  {
   "cell_type": "code",
   "execution_count": 187,
   "metadata": {},
   "outputs": [
    {
     "name": "stdout",
     "output_type": "stream",
     "text": [
      "30 [100.   0.] 1000 3159.0\n",
      "29 [100.   0.] 1277.0 3324.0\n",
      "28 [100.   0.] 1627.0 3502.0\n",
      "27 [100.   0.] 2075.0 3685.0\n",
      "26 [100.   0.] 2629.0 3880.0\n",
      "25 [100.   0.] 3350.0 4087.0\n",
      "24 [100.   0.] 4280.0 4304.0\n",
      "23 [100.   0.] 5453.0 4532.0\n",
      "22 [100.   0.] 6959.0 4767.0\n",
      "21 [100.   0.] 8863.0 5019.0\n",
      "20 [95.14  4.86] 11254.0 5288.0\n",
      "19 [84.83 15.17] 14232.0 5569.0\n",
      "18 [74.6 25.4] 17662.0 5860.0\n",
      "17 [69.07 30.93] 21406.0 6172.0\n",
      "16 [63.58 36.42] 25792.0 6501.0\n",
      "15 [56.22 43.78] 30677.0 6844.0\n",
      "14 [52.77 47.23] 35931.0 7203.0\n",
      "13 [51.75 48.25] 41852.0 7582.0\n",
      "12 [48.03 51.97] 48730.0 7982.0\n",
      "11 [45.97 54.03] 56225.0 8402.0\n",
      "10 [42.9 57.1] 64644.0 8844.0\n",
      "9 [41.06 58.94] 73720.0 9314.0\n",
      "8 [38.79 61.21] 83953.0 9810.0\n",
      "7 [37.45 62.55] 95013.0 10326.0\n",
      "6 [34.78 65.22] 107309.0 10872.0\n",
      "5 [33.5 66.5] 120267.0 11444.0\n",
      "4 [32.08 67.92] 134582.0 12055.0\n",
      "3 [30.7 69.3] 150406.0 12681.0\n",
      "2 [29.63 70.37] 167259.0 13357.0\n",
      "1 [28.25 71.75] 185548.0 14062.0\n",
      "0 [27.01 72.99] 205327.0 0.0\n"
     ]
    }
   ],
   "source": [
    "model = Maximize(n=20000, rho=0.3, gamma=6)\n",
    "for i in range(31)[::-1]:\n",
    "    \n",
    "    if i is range(31)[::-1][0]:\n",
    "        model.change_parameters(i, 1000, 3000)\n",
    "    else:\n",
    "        model.change_parameters(i, model.initial_wealth * np.mean(model.R_t @ model.fit()), np.mean(model.labor_income[:, 0]))\n",
    "\n",
    "    model.MC_data()\n",
    "    model.get_original_H(hc_mu=0.05, hc_sigma=0.05)\n",
    "    model.get_asset_ret(market_mu=0.12, market_sigma=0.35, rf_mu=0.04, rf_sigma=0.03)\n",
    "    print(model.period, model.fit() * 100, np.round(model.initial_wealth), np.round(np.mean(model.labor_income[:, 0])))\n"
   ]
  },
  {
   "cell_type": "code",
   "execution_count": null,
   "metadata": {},
   "outputs": [],
   "source": []
  },
  {
   "cell_type": "code",
   "execution_count": null,
   "metadata": {},
   "outputs": [],
   "source": []
  },
  {
   "cell_type": "code",
   "execution_count": null,
   "metadata": {},
   "outputs": [],
   "source": []
  },
  {
   "cell_type": "code",
   "execution_count": null,
   "metadata": {},
   "outputs": [],
   "source": []
  },
  {
   "cell_type": "code",
   "execution_count": null,
   "metadata": {},
   "outputs": [],
   "source": []
  },
  {
   "cell_type": "code",
   "execution_count": null,
   "metadata": {},
   "outputs": [],
   "source": []
  },
  {
   "cell_type": "code",
   "execution_count": null,
   "metadata": {},
   "outputs": [],
   "source": [
    "class Maximize(object):\n",
    "    period = 30\n",
    "    np.random.seed(30)\n",
    "    \n",
    "    def __init__(self, n, rho, gamma, initial_wealth, initial_income):\n",
    "        self.n = n\n",
    "        self.rho = rho\n",
    "        self.gamma = gamma\n",
    "        self.initial_wealth = initial_wealth\n",
    "        self.initial_income = initial_income\n",
    "        \n",
    "        \n",
    "    def MC_data(self):\n",
    "        self.market_ = stats.norm.rvs(size=(self.n, self.period+1), loc=0, scale=1)\n",
    "        self.rf_ = stats.norm.rvs(size=(self.n, self.period+1), loc=0, scale=1)\n",
    "        self.brownian_ = stats.norm.rvs(size=(self.n, self.period+1), loc=0, scale=1)\n",
    "        self.hc_ = self.rho * self.market_ + np.sqrt(1 - self.rho ** 2) * self.brownian_\n",
    "\n",
    "        \n",
    "    def get_human_capital(self):\n",
    "        self.labor_income = self.initial_income*np.cumprod(np.exp(0.04+0.03*(self.rho * self.market_[:, :-1] + np.sqrt(1 - self.rho ** 2) * self.hc_[:, :-1])), axis=1)\n",
    "        dc_rate = np.exp((0.04 + 0.04) * (np.array(range(self.period)) + 1) * (-1))\n",
    "        \n",
    "        if self.period == 0:\n",
    "            self.H_t = np.zeros([self.n])\n",
    "        else:\n",
    "            self.H_t = self.labor_income @ dc_rate\n",
    "    \n",
    "    \n",
    "    def get_asset_ret(self, market_mu, market_sigma, rf_mu, rf_sigma):\n",
    "        risky_ret = np.exp(market_mu+(0.5*(market_sigma**2))+market_sigma*self.market_[:, 0])\n",
    "        rf_ret = np.exp(rf_mu+(0.5*(rf_sigma**2))+rf_sigma*self.rf_[:, 0])\n",
    "        #rf_ret = np.exp(rf_mu*np.ones(market_[:, 0].shape))\n",
    "        \n",
    "        self.R_t =  np.array([risky_ret, rf_ret]).T\n",
    "    \n",
    "    \n",
    "    def fit(self):\n",
    "        def obj(weight, gamma):\n",
    "            W_t = (self.initial_wealth+(self.initial_income*0.3))*(self.R_t @ weight)\n",
    "\n",
    "            if self.gamma == 1:\n",
    "                obj = np.log(W_t+self.H_t) * (-1)\n",
    "            else:\n",
    "                obj = (((W_t+self.H_t) ** (1-self.gamma)) / (1-self.gamma)) * (-1)\n",
    "\n",
    "            return np.mean(obj)\n",
    "\n",
    "        x = np.ones([self.R_t.shape[1]]) / self.R_t.shape[1]\n",
    "        cons = ({'type': 'ineq', 'fun': lambda x: 1 - np.sum(x)},\n",
    "                {'type': 'ineq', 'fun': lambda x: x},)\n",
    "        optimized = minimize(obj, x, (self.gamma), method='COBYLA', constraints=cons)\n",
    "        if not optimized.success: raise BaseException(optimized.message)\n",
    "        return np.round(optimized.x, 5)\n",
    "    \n",
    "        \n",
    "    @classmethod\n",
    "    def change_period(cls, period):\n",
    "        cls.period = period\n",
    "        \n",
    "    def change_financial(cls, initial_wealth=None, initial_income=None):\n",
    "        cls.initial_wealth = initial_wealth\n",
    "        cls.initial_income = initial_income"
   ]
  },
  {
   "cell_type": "code",
   "execution_count": null,
   "metadata": {},
   "outputs": [],
   "source": []
  },
  {
   "cell_type": "code",
   "execution_count": null,
   "metadata": {},
   "outputs": [],
   "source": []
  },
  {
   "cell_type": "code",
   "execution_count": null,
   "metadata": {},
   "outputs": [],
   "source": []
  },
  {
   "cell_type": "code",
   "execution_count": null,
   "metadata": {},
   "outputs": [],
   "source": []
  },
  {
   "cell_type": "code",
   "execution_count": null,
   "metadata": {},
   "outputs": [],
   "source": []
  },
  {
   "cell_type": "code",
   "execution_count": 245,
   "metadata": {},
   "outputs": [],
   "source": [
    "model = Maximize(20000, 0.3)"
   ]
  },
  {
   "cell_type": "code",
   "execution_count": 246,
   "metadata": {},
   "outputs": [
    {
     "data": {
      "text/plain": [
       "30"
      ]
     },
     "execution_count": 246,
     "metadata": {},
     "output_type": "execute_result"
    }
   ],
   "source": [
    "model.period"
   ]
  },
  {
   "cell_type": "code",
   "execution_count": 250,
   "metadata": {},
   "outputs": [
    {
     "data": {
      "text/plain": [
       "(20000, 31)"
      ]
     },
     "execution_count": 250,
     "metadata": {},
     "output_type": "execute_result"
    }
   ],
   "source": [
    "model.MC_data()\n",
    "model.market_.shape"
   ]
  },
  {
   "cell_type": "code",
   "execution_count": 251,
   "metadata": {},
   "outputs": [
    {
     "data": {
      "text/plain": [
       "(20000, 26)"
      ]
     },
     "execution_count": 251,
     "metadata": {},
     "output_type": "execute_result"
    }
   ],
   "source": [
    "model.change_period(25)\n",
    "\n",
    "model.MC_data()\n",
    "model.market_.shape"
   ]
  },
  {
   "cell_type": "code",
   "execution_count": 242,
   "metadata": {},
   "outputs": [
    {
     "data": {
      "text/plain": [
       "25"
      ]
     },
     "execution_count": 242,
     "metadata": {},
     "output_type": "execute_result"
    }
   ],
   "source": [
    "model.change_period(25)\n",
    "model.period"
   ]
  },
  {
   "cell_type": "code",
   "execution_count": 243,
   "metadata": {},
   "outputs": [
    {
     "data": {
      "text/plain": [
       "<bound method Maximize.sigma of <__main__.Maximize object at 0x0000021A9F9BB748>>"
      ]
     },
     "execution_count": 243,
     "metadata": {},
     "output_type": "execute_result"
    }
   ],
   "source": [
    "model.sigma"
   ]
  },
  {
   "cell_type": "code",
   "execution_count": null,
   "metadata": {},
   "outputs": [],
   "source": []
  },
  {
   "cell_type": "code",
   "execution_count": null,
   "metadata": {},
   "outputs": [],
   "source": []
  },
  {
   "cell_type": "code",
   "execution_count": 140,
   "metadata": {},
   "outputs": [
    {
     "data": {
      "text/plain": [
       "array([[1.11124324, 1.0512711 ],\n",
       "       [0.92759281, 1.0512711 ],\n",
       "       [1.18633074, 1.0512711 ],\n",
       "       ...,\n",
       "       [1.21427925, 1.0512711 ],\n",
       "       [1.1285435 , 1.0512711 ],\n",
       "       [1.00479352, 1.0512711 ]])"
      ]
     },
     "execution_count": 140,
     "metadata": {},
     "output_type": "execute_result"
    }
   ],
   "source": [
    "model.get_asset_ret(0.1, 0.2, 0.05, 0)"
   ]
  },
  {
   "cell_type": "code",
   "execution_count": null,
   "metadata": {},
   "outputs": [],
   "source": []
  },
  {
   "cell_type": "code",
   "execution_count": null,
   "metadata": {},
   "outputs": [],
   "source": [
    "class Maximize(object):\n",
    "    period = 30\n",
    "    \n",
    "\n",
    "    @classmethod\n",
    "    def change_period(cls, period):\n",
    "        cls.period = period\n",
    "    \n",
    "\n",
    "class Optimize(Maximize):    \n",
    "    def __init__(self, n, rho):\n",
    "        self.n = n\n",
    "        self.rho = rho\n",
    "        \n",
    "        self.market_ = stats.norm.rvs(size=(self.n, self.period+1), loc=0, scale=1)\n",
    "        self.rf_ = stats.norm.rvs(size=(self.n, self.period+1), loc=0, scale=1)\n",
    "        self.brownian_ = stats.norm.rvs(size=(self.n, self.period+1), loc=0, scale=1)\n",
    "        self.hc_ = self.rho * self.market_ + np.sqrt(1 - self.rho ** 2) * self.brownian_\n",
    "    \n",
    "    def get_human_capital(self):\n",
    "        h_ret = initial_income*np.cumprod(np.exp(0.04+0.03*(self.rho * self.market_[:, :-1] + np.sqrt(1 - self.rho ** 2) * self.hc_[:, :-1])), axis=1)\n",
    "        dc_rate = np.exp((0.04 + 0.04) * (np.array(range(self.period)) + 1) * (-1))\n",
    "        return h_ret @ dc_rate\n",
    "    \n",
    "    \n",
    "    def get_asset_ret(self, market_mu, market_sigma, rf_mu, rf_sigma):\n",
    "        risky_ret = np.exp(market_mu+(0.5*(market_sigma**2))+market_sigma*self.market_[:, 0])\n",
    "        rf_ret = np.exp(rf_mu+(0.5*(rf_sigma**2))+rf_sigma*self.rf_[:, 0])\n",
    "        return np.array([risky_ret, rf_ret]).T\n",
    "    \n",
    "    \n",
    "    "
   ]
  }
 ],
 "metadata": {
  "kernelspec": {
   "display_name": "Python 3",
   "language": "python",
   "name": "python3"
  },
  "language_info": {
   "codemirror_mode": {
    "name": "ipython",
    "version": 3
   },
   "file_extension": ".py",
   "mimetype": "text/x-python",
   "name": "python",
   "nbconvert_exporter": "python",
   "pygments_lexer": "ipython3",
   "version": "3.7.4"
  }
 },
 "nbformat": 4,
 "nbformat_minor": 2
}
