{
 "cells": [
  {
   "cell_type": "code",
   "execution_count": 1,
   "metadata": {},
   "outputs": [],
   "source": [
    "import cvxpy as cp\n",
    "import pandas as pd\n",
    "import numpy as np\n",
    "import cplex\n",
    "import scipy.stats as stats"
   ]
  },
  {
   "cell_type": "code",
   "execution_count": 9,
   "metadata": {},
   "outputs": [
    {
     "data": {
      "text/plain": [
       "0.5292662696741898"
      ]
     },
     "execution_count": 9,
     "metadata": {},
     "output_type": "execute_result"
    }
   ],
   "source": [
    "np.cov(market_[0, :], hc_[0, :])[0, 1] / "
   ]
  },
  {
   "cell_type": "code",
   "execution_count": null,
   "metadata": {},
   "outputs": [],
   "source": []
  },
  {
   "cell_type": "code",
   "execution_count": 6,
   "metadata": {},
   "outputs": [
    {
     "ename": "SolverError",
     "evalue": "Either candidate conic solvers (['CVXOPT']) do not support the cones output by the problem (SOC, ExpCone), or there are not enough constraints in the problem.",
     "output_type": "error",
     "traceback": [
      "\u001b[1;31m---------------------------------------------------------------------------\u001b[0m",
      "\u001b[1;31mSolverError\u001b[0m                               Traceback (most recent call last)",
      "\u001b[1;32m<ipython-input-6-490adb78d367>\u001b[0m in \u001b[0;36m<module>\u001b[1;34m\u001b[0m\n\u001b[0;32m     25\u001b[0m \u001b[1;33m\u001b[0m\u001b[0m\n\u001b[0;32m     26\u001b[0m \u001b[0mprob\u001b[0m \u001b[1;33m=\u001b[0m \u001b[0mcp\u001b[0m\u001b[1;33m.\u001b[0m\u001b[0mProblem\u001b[0m\u001b[1;33m(\u001b[0m\u001b[0mcp\u001b[0m\u001b[1;33m.\u001b[0m\u001b[0mMaximize\u001b[0m\u001b[1;33m(\u001b[0m\u001b[0mobj\u001b[0m\u001b[1;33m)\u001b[0m\u001b[1;33m,\u001b[0m \u001b[0mcons\u001b[0m\u001b[1;33m)\u001b[0m\u001b[1;33m\u001b[0m\u001b[1;33m\u001b[0m\u001b[0m\n\u001b[1;32m---> 27\u001b[1;33m \u001b[0mprob\u001b[0m\u001b[1;33m.\u001b[0m\u001b[0msolve\u001b[0m\u001b[1;33m(\u001b[0m\u001b[0mcp\u001b[0m\u001b[1;33m.\u001b[0m\u001b[0mCVXOPT\u001b[0m\u001b[1;33m,\u001b[0m \u001b[0mverbose\u001b[0m\u001b[1;33m=\u001b[0m\u001b[1;32mTrue\u001b[0m\u001b[1;33m)\u001b[0m\u001b[1;33m\u001b[0m\u001b[1;33m\u001b[0m\u001b[0m\n\u001b[0m\u001b[0;32m     28\u001b[0m \u001b[0mprint\u001b[0m\u001b[1;33m(\u001b[0m\u001b[0mnp\u001b[0m\u001b[1;33m.\u001b[0m\u001b[0mround\u001b[0m\u001b[1;33m(\u001b[0m\u001b[0mx\u001b[0m\u001b[1;33m.\u001b[0m\u001b[0mvalue\u001b[0m\u001b[1;33m,\u001b[0m \u001b[1;36m3\u001b[0m\u001b[1;33m)\u001b[0m\u001b[1;33m*\u001b[0m\u001b[1;36m100\u001b[0m\u001b[1;33m)\u001b[0m\u001b[1;33m\u001b[0m\u001b[1;33m\u001b[0m\u001b[0m\n",
      "\u001b[1;32m~\\Anaconda3\\lib\\site-packages\\cvxpy\\problems\\problem.py\u001b[0m in \u001b[0;36msolve\u001b[1;34m(self, *args, **kwargs)\u001b[0m\n\u001b[0;32m    287\u001b[0m         \u001b[1;32melse\u001b[0m\u001b[1;33m:\u001b[0m\u001b[1;33m\u001b[0m\u001b[1;33m\u001b[0m\u001b[0m\n\u001b[0;32m    288\u001b[0m             \u001b[0msolve_func\u001b[0m \u001b[1;33m=\u001b[0m \u001b[0mProblem\u001b[0m\u001b[1;33m.\u001b[0m\u001b[0m_solve\u001b[0m\u001b[1;33m\u001b[0m\u001b[1;33m\u001b[0m\u001b[0m\n\u001b[1;32m--> 289\u001b[1;33m         \u001b[1;32mreturn\u001b[0m \u001b[0msolve_func\u001b[0m\u001b[1;33m(\u001b[0m\u001b[0mself\u001b[0m\u001b[1;33m,\u001b[0m \u001b[1;33m*\u001b[0m\u001b[0margs\u001b[0m\u001b[1;33m,\u001b[0m \u001b[1;33m**\u001b[0m\u001b[0mkwargs\u001b[0m\u001b[1;33m)\u001b[0m\u001b[1;33m\u001b[0m\u001b[1;33m\u001b[0m\u001b[0m\n\u001b[0m\u001b[0;32m    290\u001b[0m \u001b[1;33m\u001b[0m\u001b[0m\n\u001b[0;32m    291\u001b[0m     \u001b[1;33m@\u001b[0m\u001b[0mclassmethod\u001b[0m\u001b[1;33m\u001b[0m\u001b[1;33m\u001b[0m\u001b[0m\n",
      "\u001b[1;32m~\\Anaconda3\\lib\\site-packages\\cvxpy\\problems\\problem.py\u001b[0m in \u001b[0;36m_solve\u001b[1;34m(self, solver, warm_start, verbose, parallel, gp, qcp, **kwargs)\u001b[0m\n\u001b[0;32m    565\u001b[0m                     solver, warm_start, verbose, **kwargs)\n\u001b[0;32m    566\u001b[0m \u001b[1;33m\u001b[0m\u001b[0m\n\u001b[1;32m--> 567\u001b[1;33m         \u001b[0mself\u001b[0m\u001b[1;33m.\u001b[0m\u001b[0m_construct_chains\u001b[0m\u001b[1;33m(\u001b[0m\u001b[0msolver\u001b[0m\u001b[1;33m=\u001b[0m\u001b[0msolver\u001b[0m\u001b[1;33m,\u001b[0m \u001b[0mgp\u001b[0m\u001b[1;33m=\u001b[0m\u001b[0mgp\u001b[0m\u001b[1;33m)\u001b[0m\u001b[1;33m\u001b[0m\u001b[1;33m\u001b[0m\u001b[0m\n\u001b[0m\u001b[0;32m    568\u001b[0m         data, solving_inverse_data = self._solving_chain.apply(\n\u001b[0;32m    569\u001b[0m             self._intermediate_problem)\n",
      "\u001b[1;32m~\\Anaconda3\\lib\\site-packages\\cvxpy\\problems\\problem.py\u001b[0m in \u001b[0;36m_construct_chains\u001b[1;34m(self, solver, gp)\u001b[0m\n\u001b[0;32m    508\u001b[0m \u001b[1;33m\u001b[0m\u001b[0m\n\u001b[0;32m    509\u001b[0m             \u001b[1;32mexcept\u001b[0m \u001b[0mException\u001b[0m \u001b[1;32mas\u001b[0m \u001b[0me\u001b[0m\u001b[1;33m:\u001b[0m\u001b[1;33m\u001b[0m\u001b[1;33m\u001b[0m\u001b[0m\n\u001b[1;32m--> 510\u001b[1;33m                 \u001b[1;32mraise\u001b[0m \u001b[0me\u001b[0m\u001b[1;33m\u001b[0m\u001b[1;33m\u001b[0m\u001b[0m\n\u001b[0m\u001b[0;32m    511\u001b[0m \u001b[1;33m\u001b[0m\u001b[0m\n\u001b[0;32m    512\u001b[0m     def _solve(self,\n",
      "\u001b[1;32m~\\Anaconda3\\lib\\site-packages\\cvxpy\\problems\\problem.py\u001b[0m in \u001b[0;36m_construct_chains\u001b[1;34m(self, solver, gp)\u001b[0m\n\u001b[0;32m    503\u001b[0m                 \u001b[0mself\u001b[0m\u001b[1;33m.\u001b[0m\u001b[0m_solving_chain\u001b[0m \u001b[1;33m=\u001b[0m\u001b[0;31m \u001b[0m\u001b[0;31m\\\u001b[0m\u001b[1;33m\u001b[0m\u001b[1;33m\u001b[0m\u001b[0m\n\u001b[0;32m    504\u001b[0m                     construct_solving_chain(self._intermediate_problem,\n\u001b[1;32m--> 505\u001b[1;33m                                             candidate_solvers)\n\u001b[0m\u001b[0;32m    506\u001b[0m \u001b[1;33m\u001b[0m\u001b[0m\n\u001b[0;32m    507\u001b[0m                 \u001b[0mself\u001b[0m\u001b[1;33m.\u001b[0m\u001b[0m_cached_chain_key\u001b[0m \u001b[1;33m=\u001b[0m \u001b[0mchain_key\u001b[0m\u001b[1;33m\u001b[0m\u001b[1;33m\u001b[0m\u001b[0m\n",
      "\u001b[1;32m~\\Anaconda3\\lib\\site-packages\\cvxpy\\reductions\\solvers\\solving_chain.py\u001b[0m in \u001b[0;36mconstruct_solving_chain\u001b[1;34m(problem, candidates)\u001b[0m\n\u001b[0;32m     93\u001b[0m                       \"enough constraints in the problem.\" % (\n\u001b[0;32m     94\u001b[0m                           \u001b[0mcandidates\u001b[0m\u001b[1;33m[\u001b[0m\u001b[1;34m'conic_solvers'\u001b[0m\u001b[1;33m]\u001b[0m\u001b[1;33m,\u001b[0m\u001b[1;33m\u001b[0m\u001b[1;33m\u001b[0m\u001b[0m\n\u001b[1;32m---> 95\u001b[1;33m                           \", \".join([cone.__name__ for cone in cones])))\n\u001b[0m\u001b[0;32m     96\u001b[0m \u001b[1;33m\u001b[0m\u001b[0m\n\u001b[0;32m     97\u001b[0m \u001b[1;33m\u001b[0m\u001b[0m\n",
      "\u001b[1;31mSolverError\u001b[0m: Either candidate conic solvers (['CVXOPT']) do not support the cones output by the problem (SOC, ExpCone), or there are not enough constraints in the problem."
     ]
    }
   ],
   "source": [
    "x_n = 2\n",
    "n = 20000\n",
    "gamma = 6\n",
    "rho = 0.2\n",
    "\n",
    "np.random.seed(x_n)\n",
    "\n",
    "market_ = np.random.randn(n, 30)\n",
    "brownian_ = np.random.randn(n, 30)\n",
    "hc_ = rho * market_ + np.sqrt(1 - rho ** 2) * brownian_\n",
    "\n",
    "risky_ret = cp.exp(0.12+(0.5*(0.33**2))+0.33*market_[:, 0])\n",
    "rf_ret = cp.exp(0.04*np.ones(market_[:, 0].shape))\n",
    "\n",
    "h_ret = 5000*np.cumprod(np.exp(0.04+0.03*(rho * market_ + np.sqrt(1 - rho ** 2) * brownian_))[:, 1:], axis=1)\n",
    "dc_rate = cp.exp((0.04 + 0.04+) * (np.array(range(h_ret.shape[1])) + 1) * (-1))\n",
    "\n",
    "x = cp.Variable(2)\n",
    "\n",
    "W_t = (1000+5000*0.3)*(cp.bmat([risky_ret, rf_ret]).T @ x)\n",
    "H_t = h_ret @ dc_rate\n",
    "\n",
    "obj = cp.sum((W_t+H_t)**(1-gamma) / (1-gamma))\n",
    "cons = [cp.sum(x) == 1, x >= 0]#, W_t == (1000+5000*0.3)*(cp.bmat([risky_ret, rf_ret]).T @ x)]\n",
    "\n",
    "prob = cp.Problem(cp.Maximize(obj), cons)\n",
    "prob.solve(cp.CVXOPT, verbose=True)\n",
    "print(np.round(x.value, 3)*100)"
   ]
  },
  {
   "cell_type": "code",
   "execution_count": null,
   "metadata": {},
   "outputs": [],
   "source": []
  },
  {
   "cell_type": "code",
   "execution_count": null,
   "metadata": {},
   "outputs": [],
   "source": []
  },
  {
   "cell_type": "code",
   "execution_count": null,
   "metadata": {},
   "outputs": [],
   "source": []
  },
  {
   "cell_type": "code",
   "execution_count": null,
   "metadata": {},
   "outputs": [],
   "source": []
  },
  {
   "cell_type": "code",
   "execution_count": 2,
   "metadata": {},
   "outputs": [],
   "source": [
    "from scipy.optimize import minimize"
   ]
  },
  {
   "cell_type": "code",
   "execution_count": 27,
   "metadata": {},
   "outputs": [
    {
     "ename": "ValueError",
     "evalue": "expected square matrix",
     "output_type": "error",
     "traceback": [
      "\u001b[1;31m---------------------------------------------------------------------------\u001b[0m",
      "\u001b[1;31mValueError\u001b[0m                                Traceback (most recent call last)",
      "\u001b[1;32m<ipython-input-27-ee57645635f4>\u001b[0m in \u001b[0;36m<module>\u001b[1;34m\u001b[0m\n\u001b[0;32m     21\u001b[0m         {'type': 'eq', 'fun': lambda x: (1000+5000*0.3)*(np.array([risky_ret, rf_ret]).T @ x)})\n\u001b[0;32m     22\u001b[0m \u001b[1;33m\u001b[0m\u001b[0m\n\u001b[1;32m---> 23\u001b[1;33m \u001b[0moptimized\u001b[0m \u001b[1;33m=\u001b[0m \u001b[0mminimize\u001b[0m\u001b[1;33m(\u001b[0m\u001b[0mobj\u001b[0m\u001b[1;33m,\u001b[0m \u001b[0mx0\u001b[0m\u001b[1;33m,\u001b[0m \u001b[0mmethod\u001b[0m\u001b[1;33m=\u001b[0m\u001b[1;34m\"trust-constr\"\u001b[0m\u001b[1;33m,\u001b[0m \u001b[0mconstraints\u001b[0m\u001b[1;33m=\u001b[0m\u001b[0mcons\u001b[0m\u001b[1;33m)\u001b[0m\u001b[1;33m\u001b[0m\u001b[1;33m\u001b[0m\u001b[0m\n\u001b[0m\u001b[0;32m     24\u001b[0m \u001b[1;32mif\u001b[0m \u001b[1;32mnot\u001b[0m \u001b[0moptimized\u001b[0m\u001b[1;33m.\u001b[0m\u001b[0msuccess\u001b[0m\u001b[1;33m:\u001b[0m \u001b[1;32mraise\u001b[0m \u001b[0mBaseException\u001b[0m\u001b[1;33m(\u001b[0m\u001b[0moptimized\u001b[0m\u001b[1;33m.\u001b[0m\u001b[0mmessage\u001b[0m\u001b[1;33m)\u001b[0m\u001b[1;33m\u001b[0m\u001b[1;33m\u001b[0m\u001b[0m\n\u001b[0;32m     25\u001b[0m \u001b[0mprint\u001b[0m\u001b[1;33m(\u001b[0m\u001b[0moptimized\u001b[0m\u001b[1;33m.\u001b[0m\u001b[0mx\u001b[0m\u001b[1;33m)\u001b[0m\u001b[1;33m\u001b[0m\u001b[1;33m\u001b[0m\u001b[0m\n",
      "\u001b[1;32m~\\Anaconda3\\lib\\site-packages\\scipy\\optimize\\_minimize.py\u001b[0m in \u001b[0;36mminimize\u001b[1;34m(fun, x0, args, method, jac, hess, hessp, bounds, constraints, tol, callback, options)\u001b[0m\n\u001b[0;32m    620\u001b[0m         return _minimize_trustregion_constr(fun, x0, args, jac, hess, hessp,\n\u001b[0;32m    621\u001b[0m                                             \u001b[0mbounds\u001b[0m\u001b[1;33m,\u001b[0m \u001b[0mconstraints\u001b[0m\u001b[1;33m,\u001b[0m\u001b[1;33m\u001b[0m\u001b[1;33m\u001b[0m\u001b[0m\n\u001b[1;32m--> 622\u001b[1;33m                                             callback=callback, **options)\n\u001b[0m\u001b[0;32m    623\u001b[0m     \u001b[1;32melif\u001b[0m \u001b[0mmeth\u001b[0m \u001b[1;33m==\u001b[0m \u001b[1;34m'dogleg'\u001b[0m\u001b[1;33m:\u001b[0m\u001b[1;33m\u001b[0m\u001b[1;33m\u001b[0m\u001b[0m\n\u001b[0;32m    624\u001b[0m         return _minimize_dogleg(fun, x0, args, jac, hess,\n",
      "\u001b[1;32m~\\Anaconda3\\lib\\site-packages\\scipy\\optimize\\_trustregion_constr\\minimize_trustregion_constr.py\u001b[0m in \u001b[0;36m_minimize_trustregion_constr\u001b[1;34m(fun, x0, args, grad, hess, hessp, bounds, constraints, xtol, gtol, barrier_tol, sparse_jacobian, callback, maxiter, verbose, finite_diff_rel_step, initial_constr_penalty, initial_tr_radius, initial_barrier_parameter, initial_barrier_tolerance, factorization_method, disp)\u001b[0m\n\u001b[0;32m    517\u001b[0m             \u001b[0minitial_barrier_tolerance\u001b[0m\u001b[1;33m,\u001b[0m\u001b[1;33m\u001b[0m\u001b[1;33m\u001b[0m\u001b[0m\n\u001b[0;32m    518\u001b[0m             \u001b[0minitial_constr_penalty\u001b[0m\u001b[1;33m,\u001b[0m \u001b[0minitial_tr_radius\u001b[0m\u001b[1;33m,\u001b[0m\u001b[1;33m\u001b[0m\u001b[1;33m\u001b[0m\u001b[0m\n\u001b[1;32m--> 519\u001b[1;33m             factorization_method)\n\u001b[0m\u001b[0;32m    520\u001b[0m \u001b[1;33m\u001b[0m\u001b[0m\n\u001b[0;32m    521\u001b[0m     \u001b[1;31m# Status 3 occurs when the callback function requests termination,\u001b[0m\u001b[1;33m\u001b[0m\u001b[1;33m\u001b[0m\u001b[1;33m\u001b[0m\u001b[0m\n",
      "\u001b[1;32m~\\Anaconda3\\lib\\site-packages\\scipy\\optimize\\_trustregion_constr\\tr_interior_point.py\u001b[0m in \u001b[0;36mtr_interior_point\u001b[1;34m(fun, grad, lagr_hess, n_vars, n_ineq, n_eq, constr, jac, x0, fun0, grad0, constr_ineq0, jac_ineq0, constr_eq0, jac_eq0, stop_criteria, enforce_feasibility, xtol, state, initial_barrier_parameter, initial_tolerance, initial_penalty, initial_trust_radius, factorization_method)\u001b[0m\n\u001b[0;32m    327\u001b[0m             \u001b[0mconstr0_subprob\u001b[0m\u001b[1;33m,\u001b[0m \u001b[0mjac0_subprob\u001b[0m\u001b[1;33m,\u001b[0m \u001b[0msubprob\u001b[0m\u001b[1;33m.\u001b[0m\u001b[0mstop_criteria\u001b[0m\u001b[1;33m,\u001b[0m\u001b[1;33m\u001b[0m\u001b[1;33m\u001b[0m\u001b[0m\n\u001b[0;32m    328\u001b[0m             \u001b[0mstate\u001b[0m\u001b[1;33m,\u001b[0m \u001b[0minitial_penalty\u001b[0m\u001b[1;33m,\u001b[0m \u001b[0mtrust_radius\u001b[0m\u001b[1;33m,\u001b[0m\u001b[1;33m\u001b[0m\u001b[1;33m\u001b[0m\u001b[0m\n\u001b[1;32m--> 329\u001b[1;33m             factorization_method, trust_lb, trust_ub, subprob.scaling)\n\u001b[0m\u001b[0;32m    330\u001b[0m         \u001b[1;32mif\u001b[0m \u001b[0msubprob\u001b[0m\u001b[1;33m.\u001b[0m\u001b[0mterminate\u001b[0m\u001b[1;33m:\u001b[0m\u001b[1;33m\u001b[0m\u001b[1;33m\u001b[0m\u001b[0m\n\u001b[0;32m    331\u001b[0m             \u001b[1;32mbreak\u001b[0m\u001b[1;33m\u001b[0m\u001b[1;33m\u001b[0m\u001b[0m\n",
      "\u001b[1;32m~\\Anaconda3\\lib\\site-packages\\scipy\\optimize\\_trustregion_constr\\equality_constrained_sqp.py\u001b[0m in \u001b[0;36mequality_constrained_sqp\u001b[1;34m(fun_and_constr, grad_and_jac, lagr_hess, x0, fun0, grad0, constr0, jac0, stop_criteria, state, initial_penalty, initial_trust_radius, factorization_method, trust_lb, trust_ub, scaling)\u001b[0m\n\u001b[0;32m     79\u001b[0m     \u001b[0mS\u001b[0m \u001b[1;33m=\u001b[0m \u001b[0mscaling\u001b[0m\u001b[1;33m(\u001b[0m\u001b[0mx\u001b[0m\u001b[1;33m)\u001b[0m\u001b[1;33m\u001b[0m\u001b[1;33m\u001b[0m\u001b[0m\n\u001b[0;32m     80\u001b[0m     \u001b[1;31m# Get projections\u001b[0m\u001b[1;33m\u001b[0m\u001b[1;33m\u001b[0m\u001b[1;33m\u001b[0m\u001b[0m\n\u001b[1;32m---> 81\u001b[1;33m     \u001b[0mZ\u001b[0m\u001b[1;33m,\u001b[0m \u001b[0mLS\u001b[0m\u001b[1;33m,\u001b[0m \u001b[0mY\u001b[0m \u001b[1;33m=\u001b[0m \u001b[0mprojections\u001b[0m\u001b[1;33m(\u001b[0m\u001b[0mA\u001b[0m\u001b[1;33m,\u001b[0m \u001b[0mfactorization_method\u001b[0m\u001b[1;33m)\u001b[0m\u001b[1;33m\u001b[0m\u001b[1;33m\u001b[0m\u001b[0m\n\u001b[0m\u001b[0;32m     82\u001b[0m     \u001b[1;31m# Compute least-square lagrange multipliers\u001b[0m\u001b[1;33m\u001b[0m\u001b[1;33m\u001b[0m\u001b[1;33m\u001b[0m\u001b[0m\n\u001b[0;32m     83\u001b[0m     \u001b[0mv\u001b[0m \u001b[1;33m=\u001b[0m \u001b[1;33m-\u001b[0m\u001b[0mLS\u001b[0m\u001b[1;33m.\u001b[0m\u001b[0mdot\u001b[0m\u001b[1;33m(\u001b[0m\u001b[0mc\u001b[0m\u001b[1;33m)\u001b[0m\u001b[1;33m\u001b[0m\u001b[1;33m\u001b[0m\u001b[0m\n",
      "\u001b[1;32m~\\Anaconda3\\lib\\site-packages\\scipy\\optimize\\_trustregion_constr\\projections.py\u001b[0m in \u001b[0;36mprojections\u001b[1;34m(A, method, orth_tol, max_refin, tol)\u001b[0m\n\u001b[0;32m    400\u001b[0m             \u001b[1;33m=\u001b[0m \u001b[0msvd_factorization_projections\u001b[0m\u001b[1;33m(\u001b[0m\u001b[0mA\u001b[0m\u001b[1;33m,\u001b[0m \u001b[0mm\u001b[0m\u001b[1;33m,\u001b[0m \u001b[0mn\u001b[0m\u001b[1;33m,\u001b[0m \u001b[0morth_tol\u001b[0m\u001b[1;33m,\u001b[0m \u001b[0mmax_refin\u001b[0m\u001b[1;33m,\u001b[0m \u001b[0mtol\u001b[0m\u001b[1;33m)\u001b[0m\u001b[1;33m\u001b[0m\u001b[1;33m\u001b[0m\u001b[0m\n\u001b[0;32m    401\u001b[0m \u001b[1;33m\u001b[0m\u001b[0m\n\u001b[1;32m--> 402\u001b[1;33m     \u001b[0mZ\u001b[0m \u001b[1;33m=\u001b[0m \u001b[0mLinearOperator\u001b[0m\u001b[1;33m(\u001b[0m\u001b[1;33m(\u001b[0m\u001b[0mn\u001b[0m\u001b[1;33m,\u001b[0m \u001b[0mn\u001b[0m\u001b[1;33m)\u001b[0m\u001b[1;33m,\u001b[0m \u001b[0mnull_space\u001b[0m\u001b[1;33m)\u001b[0m\u001b[1;33m\u001b[0m\u001b[1;33m\u001b[0m\u001b[0m\n\u001b[0m\u001b[0;32m    403\u001b[0m     \u001b[0mLS\u001b[0m \u001b[1;33m=\u001b[0m \u001b[0mLinearOperator\u001b[0m\u001b[1;33m(\u001b[0m\u001b[1;33m(\u001b[0m\u001b[0mm\u001b[0m\u001b[1;33m,\u001b[0m \u001b[0mn\u001b[0m\u001b[1;33m)\u001b[0m\u001b[1;33m,\u001b[0m \u001b[0mleast_squares\u001b[0m\u001b[1;33m)\u001b[0m\u001b[1;33m\u001b[0m\u001b[1;33m\u001b[0m\u001b[0m\n\u001b[0;32m    404\u001b[0m     \u001b[0mY\u001b[0m \u001b[1;33m=\u001b[0m \u001b[0mLinearOperator\u001b[0m\u001b[1;33m(\u001b[0m\u001b[1;33m(\u001b[0m\u001b[0mn\u001b[0m\u001b[1;33m,\u001b[0m \u001b[0mm\u001b[0m\u001b[1;33m)\u001b[0m\u001b[1;33m,\u001b[0m \u001b[0mrow_space\u001b[0m\u001b[1;33m)\u001b[0m\u001b[1;33m\u001b[0m\u001b[1;33m\u001b[0m\u001b[0m\n",
      "\u001b[1;32m~\\Anaconda3\\lib\\site-packages\\scipy\\sparse\\linalg\\interface.py\u001b[0m in \u001b[0;36m__init__\u001b[1;34m(self, shape, matvec, rmatvec, matmat, dtype, rmatmat)\u001b[0m\n\u001b[0;32m    516\u001b[0m         \u001b[0mself\u001b[0m\u001b[1;33m.\u001b[0m\u001b[0m__matmat_impl\u001b[0m \u001b[1;33m=\u001b[0m \u001b[0mmatmat\u001b[0m\u001b[1;33m\u001b[0m\u001b[1;33m\u001b[0m\u001b[0m\n\u001b[0;32m    517\u001b[0m \u001b[1;33m\u001b[0m\u001b[0m\n\u001b[1;32m--> 518\u001b[1;33m         \u001b[0mself\u001b[0m\u001b[1;33m.\u001b[0m\u001b[0m_init_dtype\u001b[0m\u001b[1;33m(\u001b[0m\u001b[1;33m)\u001b[0m\u001b[1;33m\u001b[0m\u001b[1;33m\u001b[0m\u001b[0m\n\u001b[0m\u001b[0;32m    519\u001b[0m \u001b[1;33m\u001b[0m\u001b[0m\n\u001b[0;32m    520\u001b[0m     \u001b[1;32mdef\u001b[0m \u001b[0m_matmat\u001b[0m\u001b[1;33m(\u001b[0m\u001b[0mself\u001b[0m\u001b[1;33m,\u001b[0m \u001b[0mX\u001b[0m\u001b[1;33m)\u001b[0m\u001b[1;33m:\u001b[0m\u001b[1;33m\u001b[0m\u001b[1;33m\u001b[0m\u001b[0m\n",
      "\u001b[1;32m~\\Anaconda3\\lib\\site-packages\\scipy\\sparse\\linalg\\interface.py\u001b[0m in \u001b[0;36m_init_dtype\u001b[1;34m(self)\u001b[0m\n\u001b[0;32m    173\u001b[0m         \u001b[1;32mif\u001b[0m \u001b[0mself\u001b[0m\u001b[1;33m.\u001b[0m\u001b[0mdtype\u001b[0m \u001b[1;32mis\u001b[0m \u001b[1;32mNone\u001b[0m\u001b[1;33m:\u001b[0m\u001b[1;33m\u001b[0m\u001b[1;33m\u001b[0m\u001b[0m\n\u001b[0;32m    174\u001b[0m             \u001b[0mv\u001b[0m \u001b[1;33m=\u001b[0m \u001b[0mnp\u001b[0m\u001b[1;33m.\u001b[0m\u001b[0mzeros\u001b[0m\u001b[1;33m(\u001b[0m\u001b[0mself\u001b[0m\u001b[1;33m.\u001b[0m\u001b[0mshape\u001b[0m\u001b[1;33m[\u001b[0m\u001b[1;33m-\u001b[0m\u001b[1;36m1\u001b[0m\u001b[1;33m]\u001b[0m\u001b[1;33m)\u001b[0m\u001b[1;33m\u001b[0m\u001b[1;33m\u001b[0m\u001b[0m\n\u001b[1;32m--> 175\u001b[1;33m             \u001b[0mself\u001b[0m\u001b[1;33m.\u001b[0m\u001b[0mdtype\u001b[0m \u001b[1;33m=\u001b[0m \u001b[0mnp\u001b[0m\u001b[1;33m.\u001b[0m\u001b[0masarray\u001b[0m\u001b[1;33m(\u001b[0m\u001b[0mself\u001b[0m\u001b[1;33m.\u001b[0m\u001b[0mmatvec\u001b[0m\u001b[1;33m(\u001b[0m\u001b[0mv\u001b[0m\u001b[1;33m)\u001b[0m\u001b[1;33m)\u001b[0m\u001b[1;33m.\u001b[0m\u001b[0mdtype\u001b[0m\u001b[1;33m\u001b[0m\u001b[1;33m\u001b[0m\u001b[0m\n\u001b[0m\u001b[0;32m    176\u001b[0m \u001b[1;33m\u001b[0m\u001b[0m\n\u001b[0;32m    177\u001b[0m     \u001b[1;32mdef\u001b[0m \u001b[0m_matmat\u001b[0m\u001b[1;33m(\u001b[0m\u001b[0mself\u001b[0m\u001b[1;33m,\u001b[0m \u001b[0mX\u001b[0m\u001b[1;33m)\u001b[0m\u001b[1;33m:\u001b[0m\u001b[1;33m\u001b[0m\u001b[1;33m\u001b[0m\u001b[0m\n",
      "\u001b[1;32m~\\Anaconda3\\lib\\site-packages\\scipy\\sparse\\linalg\\interface.py\u001b[0m in \u001b[0;36mmatvec\u001b[1;34m(self, x)\u001b[0m\n\u001b[0;32m    227\u001b[0m             \u001b[1;32mraise\u001b[0m \u001b[0mValueError\u001b[0m\u001b[1;33m(\u001b[0m\u001b[1;34m'dimension mismatch'\u001b[0m\u001b[1;33m)\u001b[0m\u001b[1;33m\u001b[0m\u001b[1;33m\u001b[0m\u001b[0m\n\u001b[0;32m    228\u001b[0m \u001b[1;33m\u001b[0m\u001b[0m\n\u001b[1;32m--> 229\u001b[1;33m         \u001b[0my\u001b[0m \u001b[1;33m=\u001b[0m \u001b[0mself\u001b[0m\u001b[1;33m.\u001b[0m\u001b[0m_matvec\u001b[0m\u001b[1;33m(\u001b[0m\u001b[0mx\u001b[0m\u001b[1;33m)\u001b[0m\u001b[1;33m\u001b[0m\u001b[1;33m\u001b[0m\u001b[0m\n\u001b[0m\u001b[0;32m    230\u001b[0m \u001b[1;33m\u001b[0m\u001b[0m\n\u001b[0;32m    231\u001b[0m         \u001b[1;32mif\u001b[0m \u001b[0misinstance\u001b[0m\u001b[1;33m(\u001b[0m\u001b[0mx\u001b[0m\u001b[1;33m,\u001b[0m \u001b[0mnp\u001b[0m\u001b[1;33m.\u001b[0m\u001b[0mmatrix\u001b[0m\u001b[1;33m)\u001b[0m\u001b[1;33m:\u001b[0m\u001b[1;33m\u001b[0m\u001b[1;33m\u001b[0m\u001b[0m\n",
      "\u001b[1;32m~\\Anaconda3\\lib\\site-packages\\scipy\\sparse\\linalg\\interface.py\u001b[0m in \u001b[0;36m_matvec\u001b[1;34m(self, x)\u001b[0m\n\u001b[0;32m    525\u001b[0m \u001b[1;33m\u001b[0m\u001b[0m\n\u001b[0;32m    526\u001b[0m     \u001b[1;32mdef\u001b[0m \u001b[0m_matvec\u001b[0m\u001b[1;33m(\u001b[0m\u001b[0mself\u001b[0m\u001b[1;33m,\u001b[0m \u001b[0mx\u001b[0m\u001b[1;33m)\u001b[0m\u001b[1;33m:\u001b[0m\u001b[1;33m\u001b[0m\u001b[1;33m\u001b[0m\u001b[0m\n\u001b[1;32m--> 527\u001b[1;33m         \u001b[1;32mreturn\u001b[0m \u001b[0mself\u001b[0m\u001b[1;33m.\u001b[0m\u001b[0m__matvec_impl\u001b[0m\u001b[1;33m(\u001b[0m\u001b[0mx\u001b[0m\u001b[1;33m)\u001b[0m\u001b[1;33m\u001b[0m\u001b[1;33m\u001b[0m\u001b[0m\n\u001b[0m\u001b[0;32m    528\u001b[0m \u001b[1;33m\u001b[0m\u001b[0m\n\u001b[0;32m    529\u001b[0m     \u001b[1;32mdef\u001b[0m \u001b[0m_rmatvec\u001b[0m\u001b[1;33m(\u001b[0m\u001b[0mself\u001b[0m\u001b[1;33m,\u001b[0m \u001b[0mx\u001b[0m\u001b[1;33m)\u001b[0m\u001b[1;33m:\u001b[0m\u001b[1;33m\u001b[0m\u001b[1;33m\u001b[0m\u001b[0m\n",
      "\u001b[1;32m~\\Anaconda3\\lib\\site-packages\\scipy\\optimize\\_trustregion_constr\\projections.py\u001b[0m in \u001b[0;36mnull_space\u001b[1;34m(x)\u001b[0m\n\u001b[0;32m    191\u001b[0m         \u001b[1;31m# v = P inv(R) Q.T x\u001b[0m\u001b[1;33m\u001b[0m\u001b[1;33m\u001b[0m\u001b[1;33m\u001b[0m\u001b[0m\n\u001b[0;32m    192\u001b[0m         \u001b[0maux1\u001b[0m \u001b[1;33m=\u001b[0m \u001b[0mQ\u001b[0m\u001b[1;33m.\u001b[0m\u001b[0mT\u001b[0m\u001b[1;33m.\u001b[0m\u001b[0mdot\u001b[0m\u001b[1;33m(\u001b[0m\u001b[0mx\u001b[0m\u001b[1;33m)\u001b[0m\u001b[1;33m\u001b[0m\u001b[1;33m\u001b[0m\u001b[0m\n\u001b[1;32m--> 193\u001b[1;33m         \u001b[0maux2\u001b[0m \u001b[1;33m=\u001b[0m \u001b[0mscipy\u001b[0m\u001b[1;33m.\u001b[0m\u001b[0mlinalg\u001b[0m\u001b[1;33m.\u001b[0m\u001b[0msolve_triangular\u001b[0m\u001b[1;33m(\u001b[0m\u001b[0mR\u001b[0m\u001b[1;33m,\u001b[0m \u001b[0maux1\u001b[0m\u001b[1;33m,\u001b[0m \u001b[0mlower\u001b[0m\u001b[1;33m=\u001b[0m\u001b[1;32mFalse\u001b[0m\u001b[1;33m)\u001b[0m\u001b[1;33m\u001b[0m\u001b[1;33m\u001b[0m\u001b[0m\n\u001b[0m\u001b[0;32m    194\u001b[0m         \u001b[0mv\u001b[0m \u001b[1;33m=\u001b[0m \u001b[0mnp\u001b[0m\u001b[1;33m.\u001b[0m\u001b[0mzeros\u001b[0m\u001b[1;33m(\u001b[0m\u001b[0mm\u001b[0m\u001b[1;33m)\u001b[0m\u001b[1;33m\u001b[0m\u001b[1;33m\u001b[0m\u001b[0m\n\u001b[0;32m    195\u001b[0m         \u001b[0mv\u001b[0m\u001b[1;33m[\u001b[0m\u001b[0mP\u001b[0m\u001b[1;33m]\u001b[0m \u001b[1;33m=\u001b[0m \u001b[0maux2\u001b[0m\u001b[1;33m\u001b[0m\u001b[1;33m\u001b[0m\u001b[0m\n",
      "\u001b[1;32m~\\Anaconda3\\lib\\site-packages\\scipy\\linalg\\basic.py\u001b[0m in \u001b[0;36msolve_triangular\u001b[1;34m(a, b, trans, lower, unit_diagonal, overwrite_b, debug, check_finite)\u001b[0m\n\u001b[0;32m    336\u001b[0m     \u001b[0mb1\u001b[0m \u001b[1;33m=\u001b[0m \u001b[0m_asarray_validated\u001b[0m\u001b[1;33m(\u001b[0m\u001b[0mb\u001b[0m\u001b[1;33m,\u001b[0m \u001b[0mcheck_finite\u001b[0m\u001b[1;33m=\u001b[0m\u001b[0mcheck_finite\u001b[0m\u001b[1;33m)\u001b[0m\u001b[1;33m\u001b[0m\u001b[1;33m\u001b[0m\u001b[0m\n\u001b[0;32m    337\u001b[0m     \u001b[1;32mif\u001b[0m \u001b[0mlen\u001b[0m\u001b[1;33m(\u001b[0m\u001b[0ma1\u001b[0m\u001b[1;33m.\u001b[0m\u001b[0mshape\u001b[0m\u001b[1;33m)\u001b[0m \u001b[1;33m!=\u001b[0m \u001b[1;36m2\u001b[0m \u001b[1;32mor\u001b[0m \u001b[0ma1\u001b[0m\u001b[1;33m.\u001b[0m\u001b[0mshape\u001b[0m\u001b[1;33m[\u001b[0m\u001b[1;36m0\u001b[0m\u001b[1;33m]\u001b[0m \u001b[1;33m!=\u001b[0m \u001b[0ma1\u001b[0m\u001b[1;33m.\u001b[0m\u001b[0mshape\u001b[0m\u001b[1;33m[\u001b[0m\u001b[1;36m1\u001b[0m\u001b[1;33m]\u001b[0m\u001b[1;33m:\u001b[0m\u001b[1;33m\u001b[0m\u001b[1;33m\u001b[0m\u001b[0m\n\u001b[1;32m--> 338\u001b[1;33m         \u001b[1;32mraise\u001b[0m \u001b[0mValueError\u001b[0m\u001b[1;33m(\u001b[0m\u001b[1;34m'expected square matrix'\u001b[0m\u001b[1;33m)\u001b[0m\u001b[1;33m\u001b[0m\u001b[1;33m\u001b[0m\u001b[0m\n\u001b[0m\u001b[0;32m    339\u001b[0m     \u001b[1;32mif\u001b[0m \u001b[0ma1\u001b[0m\u001b[1;33m.\u001b[0m\u001b[0mshape\u001b[0m\u001b[1;33m[\u001b[0m\u001b[1;36m0\u001b[0m\u001b[1;33m]\u001b[0m \u001b[1;33m!=\u001b[0m \u001b[0mb1\u001b[0m\u001b[1;33m.\u001b[0m\u001b[0mshape\u001b[0m\u001b[1;33m[\u001b[0m\u001b[1;36m0\u001b[0m\u001b[1;33m]\u001b[0m\u001b[1;33m:\u001b[0m\u001b[1;33m\u001b[0m\u001b[1;33m\u001b[0m\u001b[0m\n\u001b[0;32m    340\u001b[0m         \u001b[1;32mraise\u001b[0m \u001b[0mValueError\u001b[0m\u001b[1;33m(\u001b[0m\u001b[1;34m'incompatible dimensions'\u001b[0m\u001b[1;33m)\u001b[0m\u001b[1;33m\u001b[0m\u001b[1;33m\u001b[0m\u001b[0m\n",
      "\u001b[1;31mValueError\u001b[0m: expected square matrix"
     ]
    }
   ],
   "source": [
    "n = 20000\n",
    "gamma = 10\n",
    "rho = 0.2\n",
    "\n",
    "market_ = np.random.randn(n, 30)\n",
    "brownian_ = np.random.randn(n, 30)\n",
    "hc_ = rho * market_ + np.sqrt(1 - rho ** 2) * brownian_\n",
    "\n",
    "risky_ret = np.exp(0.12+(0.5*(0.33**2))+0.33*market_[:, 0])\n",
    "rf_ret = np.exp(0.04*np.ones(market_[:, 0].shape))\n",
    "\n",
    "h_ret = 5000*np.cumprod(np.exp(0.04+0.03*(rho * market_ + np.sqrt(1 - rho ** 2) * brownian_)), axis=1)\n",
    "dc_rate = np.exp((0.04 + 0.04) * (np.array(range(30)) + 1) * (-1))\n",
    "\n",
    "H_t = h_ret @ dc_rate\n",
    "\n",
    "obj = lambda x: -np.mean(((1000+5000*0.3)*(np.array([risky_ret, rf_ret]).T @ x)+H_t)**(1-gamma) / (1-gamma))\n",
    "#cons = ({'type': 'eq', 'fun': lambda x: ((1000+5000*0.3)*(np.mat([risky_ret, rf_ret]).T @ x) - W_t)})\n",
    "cons = ({'type': 'ineq', 'fun': lambda x: -1.0 + np.sum(x)}, \n",
    "        {'type': 'ineq', 'fun': lambda x: x}, \n",
    "        {'type': 'eq', 'fun': lambda x: (1000+5000*0.3)*(np.array([risky_ret, rf_ret]).T @ x)})\n",
    "\n",
    "optimized = minimize(obj, x0, method=\"trust-constr\", constraints=cons)\n",
    "if not optimized.success: raise BaseException(optimized.message)\n",
    "print(optimized.x)"
   ]
  },
  {
   "cell_type": "code",
   "execution_count": null,
   "metadata": {},
   "outputs": [],
   "source": [
    "\n",
    "\n",
    "\n",
    "cons = [cp.sum(x) == 1, x >= 0, W_t == (1000+5000*0.3)*(cp.bmat([risky_ret, rf_ret]).T @ x)]\n",
    "\n",
    "prob = cp.Problem(cp.Maximize(obj), cons)\n",
    "prob.solve(cp.ECOS, verbose=True)\n",
    "print(np.round(x.value, 3)*100)"
   ]
  },
  {
   "cell_type": "code",
   "execution_count": null,
   "metadata": {},
   "outputs": [],
   "source": []
  },
  {
   "cell_type": "code",
   "execution_count": null,
   "metadata": {},
   "outputs": [],
   "source": []
  },
  {
   "cell_type": "code",
   "execution_count": null,
   "metadata": {},
   "outputs": [],
   "source": []
  },
  {
   "cell_type": "code",
   "execution_count": null,
   "metadata": {},
   "outputs": [],
   "source": []
  },
  {
   "cell_type": "code",
   "execution_count": null,
   "metadata": {},
   "outputs": [],
   "source": []
  },
  {
   "cell_type": "code",
   "execution_count": null,
   "metadata": {},
   "outputs": [],
   "source": []
  },
  {
   "cell_type": "code",
   "execution_count": null,
   "metadata": {},
   "outputs": [],
   "source": []
  },
  {
   "cell_type": "code",
   "execution_count": null,
   "metadata": {},
   "outputs": [],
   "source": []
  },
  {
   "cell_type": "code",
   "execution_count": null,
   "metadata": {},
   "outputs": [],
   "source": []
  },
  {
   "cell_type": "code",
   "execution_count": null,
   "metadata": {},
   "outputs": [],
   "source": []
  },
  {
   "cell_type": "code",
   "execution_count": null,
   "metadata": {},
   "outputs": [],
   "source": []
  },
  {
   "cell_type": "code",
   "execution_count": null,
   "metadata": {},
   "outputs": [],
   "source": []
  },
  {
   "cell_type": "code",
   "execution_count": null,
   "metadata": {},
   "outputs": [],
   "source": []
  },
  {
   "cell_type": "code",
   "execution_count": null,
   "metadata": {},
   "outputs": [],
   "source": []
  },
  {
   "cell_type": "code",
   "execution_count": null,
   "metadata": {},
   "outputs": [],
   "source": []
  },
  {
   "cell_type": "code",
   "execution_count": null,
   "metadata": {},
   "outputs": [],
   "source": []
  },
  {
   "cell_type": "code",
   "execution_count": null,
   "metadata": {},
   "outputs": [],
   "source": []
  },
  {
   "cell_type": "code",
   "execution_count": null,
   "metadata": {},
   "outputs": [],
   "source": []
  },
  {
   "cell_type": "code",
   "execution_count": null,
   "metadata": {},
   "outputs": [],
   "source": []
  },
  {
   "cell_type": "code",
   "execution_count": null,
   "metadata": {},
   "outputs": [],
   "source": [
    "cons = [x <= 1, x >= 0]\n",
    "prob = cp.Problem(cp.Maximize(obj), cons)\n",
    "prob.solve(cp.CPLEX)\n",
    "print(np.round(x.value, 3)*100)"
   ]
  },
  {
   "cell_type": "code",
   "execution_count": null,
   "metadata": {},
   "outputs": [],
   "source": []
  },
  {
   "cell_type": "code",
   "execution_count": null,
   "metadata": {},
   "outputs": [],
   "source": []
  },
  {
   "cell_type": "code",
   "execution_count": null,
   "metadata": {},
   "outputs": [],
   "source": []
  },
  {
   "cell_type": "code",
   "execution_count": null,
   "metadata": {},
   "outputs": [],
   "source": []
  },
  {
   "cell_type": "code",
   "execution_count": null,
   "metadata": {},
   "outputs": [],
   "source": []
  },
  {
   "cell_type": "code",
   "execution_count": null,
   "metadata": {},
   "outputs": [],
   "source": [
    "size = 20000\n",
    "period = 30\n",
    "gamma = 2\n",
    "rho = 0.2\n",
    "\n",
    "ic = 5000\n",
    "fa = 1000\n",
    "\n",
    "hc_mu = 0.04\n",
    "hcs = 0.01\n",
    "\n",
    "r_s = 0.12\n",
    "r_m = 0.33\n",
    "rf = 0.04\n",
    "\n",
    "np.random.seed(period)\n",
    "\n",
    "market_ = stats.norm.rvs(size=(size, period), loc=0, scale=1)\n",
    "brownian_ = stats.norm.rvs(size=(size, period), loc=0, scale=1)\n",
    "hc_ = rho * market_ + np.sqrt(1 - rho ** 2) * brownian_"
   ]
  },
  {
   "cell_type": "code",
   "execution_count": null,
   "metadata": {},
   "outputs": [],
   "source": [
    "labor_income = gen_labor_income(ic, hc_mu, hcs, .000002, hc_, rf, size, period)\n",
    "labor_income"
   ]
  },
  {
   "cell_type": "code",
   "execution_count": null,
   "metadata": {},
   "outputs": [],
   "source": [
    "discount_rate = get_discount_rate(rf, .000002, period)\n",
    "discount_rate"
   ]
  },
  {
   "cell_type": "code",
   "execution_count": null,
   "metadata": {
    "scrolled": true
   },
   "outputs": [],
   "source": [
    "risky_ret, rf_ret = gen_finasset_ret(r_s, r_m, market_, rf, size, period)\n",
    "risky_ret"
   ]
  },
  {
   "cell_type": "code",
   "execution_count": null,
   "metadata": {},
   "outputs": [],
   "source": [
    "np.concatenate([[risky_ret[:, 0]], [rf_ret[:, 0]]]).T @ np.array([.5, .5])"
   ]
  },
  {
   "cell_type": "code",
   "execution_count": null,
   "metadata": {},
   "outputs": [],
   "source": [
    "5000 * ((rf_ret[:, 1] * 0.3) + (risky_ret[:, 1] * 0.7))"
   ]
  },
  {
   "cell_type": "code",
   "execution_count": null,
   "metadata": {},
   "outputs": [],
   "source": [
    "from scipy.optimize import minimize"
   ]
  },
  {
   "cell_type": "code",
   "execution_count": null,
   "metadata": {},
   "outputs": [],
   "source": []
  },
  {
   "cell_type": "code",
   "execution_count": null,
   "metadata": {},
   "outputs": [],
   "source": [
    "\n",
    "\n",
    "x0 = np.array([0.5, 0.5])\n",
    "cons = ({'type': 'ineq', 'fun': lambda weights: -1.0 + np.sum(weights)},\n",
    "        {'type': 'ineq', 'fun': lambda weights: weights})\n",
    "\n",
    "optimized = minimize(crra_utility, x0, (gamma, risky_ret, rf_ret, ic, fa, labor_income @ discount_rate),\n",
    "                   method=\"COBYLA\", constraints=cons)\n",
    "if not optimized.success: raise BaseException(optimized.message)\n",
    "print(optimized.x)"
   ]
  },
  {
   "cell_type": "code",
   "execution_count": null,
   "metadata": {},
   "outputs": [],
   "source": []
  },
  {
   "cell_type": "code",
   "execution_count": null,
   "metadata": {},
   "outputs": [],
   "source": [
    "size = 20000\n",
    "period = 30\n",
    "gamma = 10\n",
    "rho = 0.2\n",
    "\n",
    "ic = 5000\n",
    "fa = 1000\n",
    "\n",
    "hc_mu = 0.04\n",
    "hcs = 0.12\n",
    "eta = 0.0000002\n",
    "\n",
    "r_m = 0.12\n",
    "r_s = 0.20\n",
    "rf = 0.04\n",
    "rf_s = 0"
   ]
  },
  {
   "cell_type": "code",
   "execution_count": null,
   "metadata": {},
   "outputs": [],
   "source": [
    "size = 200\n",
    "period = 35\n",
    "gamma = 2\n",
    "rho = 0.2\n",
    "\n",
    "ic = 5000\n",
    "fa = 1000\n",
    "\n",
    "r_m = 0.12\n",
    "r_s = 0.25\n",
    "rf = 0.04\n",
    "rf_s = 0\n",
    "\n",
    "hc_mu = 0.02\n",
    "hcs = 0.01"
   ]
  },
  {
   "cell_type": "code",
   "execution_count": null,
   "metadata": {},
   "outputs": [],
   "source": [
    "np.random.seed(period)\n",
    "\n",
    "market_ = stats.norm.rvs(size=(size, period), loc=0, scale=1)\n",
    "brownian_ = stats.norm.rvs(size=(size, period), loc=0, scale=1)\n",
    "hc_ = rho * market_ + np.sqrt(1 - rho ** 2) * brownian_\n",
    "\n",
    "labor_income = gen_labor_income(ic, hc_mu, hcs, .000002, hc_, rf, size, period)\n",
    "discount_rate = get_discount_rate(rf, .000002, period)\n",
    "\n",
    "W_ret = gen_finasset_ret(r_m, r_s, market_[:, 0], rf)"
   ]
  },
  {
   "cell_type": "code",
   "execution_count": null,
   "metadata": {},
   "outputs": [],
   "source": [
    "gamma_list = [1.5, 2, 2.5, 3, 3.5, 4, 4.5, 5, 5.5, 6]\n",
    "for g in gamma_list:\n",
    "    x = cp.Variable(2)\n",
    "    \n",
    "    if g == 1:\n",
    "        obj = -cp.sum(cp.log((fa * gen_finasset_ret(r_m, r_s, market_[:, 0], rf) @ x) + (labor_income @ discount_rate).values))\n",
    "    else:\n",
    "        obj = -cp.sum((((fa * gen_finasset_ret(r_m, r_s, market_[:, 0], rf) @ x) + (labor_income @ discount_rate).values) ** (1-g)) / (1-g))\n",
    "\n",
    "    cons = [cp.sum(x) == 1, x >= 0]\n",
    "    prob = cp.Problem(cp.Minimize(obj), cons)\n",
    "    prob.solve(cp.CVXOPT)\n",
    "    print(g, np.round(x.value, 3)*100)"
   ]
  },
  {
   "cell_type": "code",
   "execution_count": null,
   "metadata": {},
   "outputs": [],
   "source": [
    "-cp.sum((((fa * gen_finasset_ret(r_m, r_s, market_[:, 0], rf) @ x) + (labor_income @ discount_rate).values) ** (1-g)) / (1-g))\n"
   ]
  },
  {
   "cell_type": "code",
   "execution_count": null,
   "metadata": {},
   "outputs": [],
   "source": [
    "risk_coeff = (1-g)"
   ]
  },
  {
   "cell_type": "code",
   "execution_count": null,
   "metadata": {},
   "outputs": [],
   "source": []
  },
  {
   "cell_type": "code",
   "execution_count": null,
   "metadata": {},
   "outputs": [],
   "source": [
    "(cp.power((gen_finasset_ret(0.12, 0.33, market_[:, 0], rf) @ x + (labor_income @ discount_rate).values), risk_coeff) / risk_coeff).size"
   ]
  },
  {
   "cell_type": "code",
   "execution_count": null,
   "metadata": {},
   "outputs": [],
   "source": [
    "np.sum(cp.power(gen_finasset_ret(0.12, 0.33, market_[:, 0], rf) @ cp.Variable([2,1]) + np.array([(labor_income @ discount_rate).values]).T, risk_coeff) / risk_coeff)"
   ]
  },
  {
   "cell_type": "code",
   "execution_count": null,
   "metadata": {},
   "outputs": [],
   "source": []
  },
  {
   "cell_type": "code",
   "execution_count": null,
   "metadata": {},
   "outputs": [],
   "source": []
  },
  {
   "cell_type": "code",
   "execution_count": null,
   "metadata": {},
   "outputs": [],
   "source": [
    "(cp.power((gen_finasset_ret(0.12, 0.33, market_[:, 0], rf) @ x + (labor_income @ discount_rate).values), risk_coeff) / risk_coeff)"
   ]
  },
  {
   "cell_type": "code",
   "execution_count": null,
   "metadata": {},
   "outputs": [],
   "source": [
    "cp.sum(cp.power(gen_finasset_ret(0.12, 0.33, market_[:, 0], rf) @ x + np.array([(labor_income @ discount_rate).values]).T, risk_coeff) / risk_coeff)"
   ]
  },
  {
   "cell_type": "code",
   "execution_count": null,
   "metadata": {},
   "outputs": [],
   "source": []
  },
  {
   "cell_type": "code",
   "execution_count": null,
   "metadata": {},
   "outputs": [],
   "source": []
  },
  {
   "cell_type": "code",
   "execution_count": null,
   "metadata": {},
   "outputs": [],
   "source": []
  },
  {
   "cell_type": "code",
   "execution_count": null,
   "metadata": {},
   "outputs": [],
   "source": [
    "gamma_list = [1.5, 2, 2.5, 3, 3.5, 4, 4.5, 5, 5.5, 6]\n",
    "for g in gamma_list:\n",
    "    x = cp.Variable(2)\n",
    "    \n",
    "    \n",
    "    #print(cp.sum(cp.power((gen_finasset_ret(0.12, 0.33, market_[:, 0], rf) @ x + (labor_income @ discount_rate).values), risk_coeff) / risk_coeff).size)\n",
    "    if g == 1:\n",
    "        obj = -cp.sum(cp.log((fa * gen_finasset_ret(r_m, r_s, market_[:, 0], rf) @ x) + (labor_income @ discount_rate).values))\n",
    "    else:\n",
    "        obj = cp.sum(((gen_finasset_ret(0.12, 0.33, market_[:, 0], rf) @ x + np.array([(labor_income @ discount_rate).values]).T) ** risk_coeff) / risk_coeff)\n",
    "\n",
    "    cons = [cp.sum(x) == 1, x >= 0]\n",
    "    prob = cp.Problem(cp.Maximize(obj), cons)\n",
    "    prob.solve(cp.CPLEX)\n",
    "    print(g, np.round(x.value, 3)*100)"
   ]
  },
  {
   "cell_type": "code",
   "execution_count": null,
   "metadata": {},
   "outputs": [],
   "source": []
  },
  {
   "cell_type": "code",
   "execution_count": null,
   "metadata": {},
   "outputs": [],
   "source": []
  },
  {
   "cell_type": "code",
   "execution_count": null,
   "metadata": {},
   "outputs": [],
   "source": []
  },
  {
   "cell_type": "code",
   "execution_count": null,
   "metadata": {},
   "outputs": [],
   "source": [
    "x0 = np.array([0.5, 0.5])\n",
    "x = cp.Variable(2)\n",
    "obj = cp.sum((((fa * cp.bmat(gen_finasset_ret(r_m, r_s, market_[:, 0], rf)) @ x) + (labor_income @ discount_rate).values) ** (1-gamma)) / (1-gamma))\n",
    "\n",
    "cons = [cp.sum(x) == 1, x >= 0]\n",
    "prob = cp.Problem(cp.Maximize(obj), cons)\n",
    "prob.solve(cp.CPLEX)\n",
    "print(np.round(x.value, 3)*100)"
   ]
  },
  {
   "cell_type": "code",
   "execution_count": null,
   "metadata": {},
   "outputs": [],
   "source": []
  },
  {
   "cell_type": "code",
   "execution_count": null,
   "metadata": {},
   "outputs": [],
   "source": []
  },
  {
   "cell_type": "code",
   "execution_count": null,
   "metadata": {},
   "outputs": [],
   "source": []
  },
  {
   "cell_type": "code",
   "execution_count": null,
   "metadata": {},
   "outputs": [],
   "source": []
  },
  {
   "cell_type": "code",
   "execution_count": null,
   "metadata": {},
   "outputs": [],
   "source": []
  },
  {
   "cell_type": "code",
   "execution_count": null,
   "metadata": {},
   "outputs": [],
   "source": [
    "def gen_labor_income(initial_hc, mu_h, sigma_h, eta, hc_, rf, size=20000, period=30):\n",
    "    hc = np.ones([size, ]) * initial_hc\n",
    "    \n",
    "    hc_list = []\n",
    "    for i in range(period):\n",
    "        hc_t = hc * np.exp(mu_h + (sigma_h * hc_[:, i]))\n",
    "        hc_list.append(hc_t)\n",
    "        hc = hc_t\n",
    "        \n",
    "    return pd.DataFrame(hc_list).T\n",
    "\n",
    "\n",
    "def get_discount_rate(rf, eta, period=30):\n",
    "    dc_rate = np.exp((rf + 0.04 + eta) * (np.array(range(period)) + 1) * (-1))\n",
    "    return dc_rate\n",
    "\n",
    "# human capital = gen_labor_income @ dc_rate\n",
    "\n",
    "\n",
    "def gen_finasset_ret(mu_market, sigma_market, market_, rf):\n",
    "    risky_asset_ret = np.exp(mu_market - (0.5*(sigma_market**2)) + sigma_market*market_)\n",
    "    rf_asset_ret = np.exp(rf * np.ones(market_.shape))\n",
    "    \n",
    "    return np.concatenate([[risky_asset_ret[:, 0]], [rf_asset_ret[:, 0]]]).T\n",
    "\n",
    "\n",
    "def get_finasset_wealth(fin_asset_ret, initial_wealth, nomial_ic, consume_rate, risky_weights, rf_weights, size=20000):\n",
    "    invest_amount = initial_wealth + (nomial_ic * (consume_rate))\n",
    "    risky_asset = (invest_amount*risky_weights) * fin_asset_ret[0].cumprod(axis=1)\n",
    "    rf_asset = (invest_amount*rf_weights) * fin_asset_ret[1].cumprod(axis=1)\n",
    "    \n",
    "    return risky_asset+rf_asset"
   ]
  },
  {
   "cell_type": "code",
   "execution_count": null,
   "metadata": {},
   "outputs": [],
   "source": [
    "def get_maxutility_weights(W0, LI0, period, size, mu_rf, sigma_rf, mu_market, sigma_market, mu_h,\n",
    "                           sigma_h, eta, rho, gamma):\n",
    "    eta = eta\n",
    "    def objective_fun(weights, W0, LI0, period, size, mu_rf, mu_market, sigma_market, mu_h,\n",
    "                      sigma_h, eta, rho, gamma):\n",
    "        np.random.seed(period)\n",
    "\n",
    "        market_ = stats.norm.rvs(size=(size, period + 1), loc=0, scale=1)\n",
    "        brownian_ = stats.norm.rvs(size=(size, period + 1), loc=0, scale=1)\n",
    "        hc_ = rho * market_ + np.sqrt(1 - rho ** 2) * brownian_\n",
    "\n",
    "        financial_ret = gen_finasset_ret(mu_market, sigma_market, market_, mu_rf)\n",
    "        portfolio_ret = financial_ret @ weights\n",
    "        \n",
    "        W = (W0 + (LI0 * 0.3)) * portfolio_ret\n",
    "        \n",
    "        if period == 0:\n",
    "            H = np.zeros(W.shape)\n",
    "        else:\n",
    "            LI = gen_labor_income(LI0, mu_h, sigma_h, eta, hc_, mu_rf, size, period)\n",
    "            discounts_rate = get_discount_rate(mu_rf, eta, period)\n",
    "            \n",
    "            H = LI @ discounts_rate\n",
    "\n",
    "        u_ = ((W + H) ** (1 - gamma)) / (1 - gamma)\n",
    "\n",
    "        return -np.mean(u_)\n",
    "    \n",
    "    weights = np.array([0.5, 0.5])\n",
    "    cons = ({'type': 'ineq', 'fun': lambda weight: 1.0 - np.sum(weights)},\n",
    "            {'type': 'ineq', 'fun': lambda weight: -weights},)\n",
    "    optimized = minimize(objective_fun, weights, (W0, LI0, period, size, mu_rf, mu_market, sigma_market, mu_h, \n",
    "                                                  sigma_h, eta, rho, gamma), method='COBYLA', constraints=cons)\n",
    "    if not optimized.success: raise BaseException(optimized.message)\n",
    "    return optimized.x"
   ]
  },
  {
   "cell_type": "code",
   "execution_count": null,
   "metadata": {},
   "outputs": [],
   "source": []
  },
  {
   "cell_type": "code",
   "execution_count": null,
   "metadata": {},
   "outputs": [],
   "source": [
    "size = 20000\n",
    "period = 30\n",
    "gamma = 2\n",
    "rho = 0.2\n",
    "\n",
    "ic = 5000\n",
    "fa = 1000\n",
    "\n",
    "hc_mu = 0.04\n",
    "hcs = 0.01\n",
    "eta = 0.0000002\n",
    "\n",
    "r_m = 0.12\n",
    "r_s = 0.33\n",
    "rf = 0.04\n",
    "rf_s = 0"
   ]
  },
  {
   "cell_type": "code",
   "execution_count": null,
   "metadata": {},
   "outputs": [],
   "source": [
    "get_maxutility_weights(fa, ic, period, size, rf, rf_s, r_m, r_s, hc_mu, hcs, eta, rho, gamma)"
   ]
  },
  {
   "cell_type": "code",
   "execution_count": null,
   "metadata": {},
   "outputs": [],
   "source": []
  }
 ],
 "metadata": {
  "kernelspec": {
   "display_name": "Python 3",
   "language": "python",
   "name": "python3"
  },
  "language_info": {
   "codemirror_mode": {
    "name": "ipython",
    "version": 3
   },
   "file_extension": ".py",
   "mimetype": "text/x-python",
   "name": "python",
   "nbconvert_exporter": "python",
   "pygments_lexer": "ipython3",
   "version": "3.7.4"
  }
 },
 "nbformat": 4,
 "nbformat_minor": 2
}
